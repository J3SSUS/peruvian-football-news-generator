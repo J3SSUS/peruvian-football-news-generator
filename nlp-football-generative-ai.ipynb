{
 "cells": [
  {
   "cell_type": "markdown",
   "metadata": {},
   "source": [
    "# Sports news generator"
   ]
  },
  {
   "cell_type": "code",
   "execution_count": 1,
   "metadata": {},
   "outputs": [],
   "source": [
    "from selenium import webdriver\n",
    "from selenium.webdriver.chrome.service import Service\n",
    "from bs4 import BeautifulSoup\n",
    "from html2text import html2text\n",
    "import re\n",
    "from nltk import word_tokenize\n",
    "import datetime\n",
    "import locale\n",
    "import time\n",
    "import requests\n",
    "from selenium.webdriver.common.by import By\n",
    "import pandas as pd\n",
    "import numpy as np\n",
    "import time\n",
    "\n",
    "service = Service()\n",
    "options = webdriver.ChromeOptions()\n",
    "driver = webdriver.Chrome(service=service, options=options)\n",
    "\n",
    "url = \"https://peru21.pe/deportes/futbol-peruano/\"\n",
    "\n",
    "# r = requests.get(url)\n",
    "# soup = BeautifulSoup(r.text, 'lxml')\n",
    "\n",
    "driver.get(url)"
   ]
  },
  {
   "cell_type": "code",
   "execution_count": 42,
   "metadata": {},
   "outputs": [
    {
     "data": {
      "text/plain": [
       "['https://peru21.pe/deportes/futbol-peruano/premio-al-esfuerzo-piero-quispe-fue-elegido-como-el-mejor-jugador-de-la-liga-1-2023-noticia/',\n",
       " 'https://peru21.pe/deportes/futbol-peruano/a-festejar-crema-hoy-es-la-premiacion-de-universitario-como-campeon-nacional-2023-peru-universitario-campeon-futbol-peruano-liga-1-noticia/',\n",
       " 'https://peru21.pe/deportes/futbol-peruano/universitario-edison-flores-tienen-que-venir-mas-extranjeros-como-hernan-barcos-a-la-liga-1-titulo-de-la-u-noticia/',\n",
       " 'https://peru21.pe/deportes/futbol-peruano/premiacion-liga-1-quien-fue-el-mejor-jugador-del-futbol-peruano-este-ano-piero-quispe-universitario-noticia/',\n",
       " 'https://peru21.pe/deportes/futbol-peruano/universitario-jean-ferrari-si-queremos-a-yoshimar-yotun-video-refuerzos-2024-sporting-cristal-noticia/',\n",
       " 'https://peru21.pe/deportes/futbol-peruano/universitario-altas-y-bajas-para-el-proximo-ano-centenario-u-plantel-2024-refuerzos-renovaciones-noticia/',\n",
       " 'https://peru21.pe/deportes/futbol-peruano/alianza-lima-las-altas-y-bajas-blanquiazules-para-el-proximo-ano-temporada-2024-refuerzos-renovaciones-noticia/',\n",
       " 'https://peru21.pe/deportes/futbol-peruano/universitario-campeon-liga-1-aviso-cuando-y-donde-entregara-el-trofeo-tras-apagon-en-matute-alianza-lima-noticia/',\n",
       " 'https://peru21.pe/deportes/futbol-peruano/alianza-lima-conoce-la-lista-de-directivos-que-han-renunciado-tras-el-apagon-en-la-final-universitario-liga-1-noticia/',\n",
       " 'https://peru21.pe/deportes/futbol-peruano/universitario-piero-quispe-queremos-el-bicampeonato-de-la-liga-1-centenario-u-seleccion-peruana-noticia/',\n",
       " 'https://peru21.pe/deportes/futbol-peruano/futbol-formativo-conoce-a-los-ganadores-del-campeonato-nacional-infantil-de-futbol-noticia/',\n",
       " 'https://peru21.pe/deportes/futbol-peruano/sporting-cristal-confirmo-que-tiago-nunes-no-seguira-siendo-su-tecnico-para-el-2024-botafogo-de-brasil-noticia/',\n",
       " 'https://peru21.pe/deportes/futbol-peruano/universitario-conoce-cuanto-ganara-la-u-por-campeonar-la-liga-1-premio-campeon-alianza-lima-subcampeon-noticia/',\n",
       " 'https://peru21.pe/deportes/futbol-peruano/alianza-lima-juan-reynoso-sorprende-al-explicar-el-bajo-nivel-de-bryan-reyna-final-universitario-liga-1-noticia/',\n",
       " 'https://peru21.pe/deportes/futbol-peruano/alianza-lima-hernan-barcos-le-responde-a-universitario-los-ninos-quieren-ser-como-sus-heroes-edison-flores-noticia/',\n",
       " 'https://peru21.pe/deportes/futbol-peruano/inicia-la-purga-en-alianza-lima-mauricio-larriera-y-su-comando-tecnico-no-van-mas-alianza-lima-peru-mauricio-larriera-destitucion-futbol-peruano-alejandro-villanueva-noticia/',\n",
       " 'https://peru21.pe/deportes/futbol-peruano/y-sporting-cristal-tiago-nunes-tendria-todo-cerrado-con-el-botafogo-de-brasil-peru-futbol-peruano-tiago-nunes-sporting-cristal-botafogo-noticia/',\n",
       " 'https://peru21.pe/deportes/futbol-peruano/la-fiesta-del-campeon-universitario-pone-a-la-venta-entradas-para-la-premiacion-de-la-liga-1-2023-universitario-liga-1-alianza-lima-la-u-monumental-noticia/',\n",
       " 'https://peru21.pe/deportes/futbol-peruano/alianza-lima-comision-nacional-contra-la-violencia-en-espectaculos-deportivos-le-pide-informe-del-apagon-al-administrador-noticia/',\n",
       " 'https://peru21.pe/deportes/futbol-peruano/universitario-miguel-trauco-fue-fotografiado-en-las-celebraciones-de-la-u-campeon-liga-1-refuerzos-noticia/',\n",
       " 'https://peru21.pe/deportes/futbol-peruano/alianza-lima-jugadores-de-universitario-celebraron-imitando-a-hernan-pirata-barcos-video-liga-1-noticia/',\n",
       " 'https://peru21.pe/deportes/futbol-peruano/universitario-jorge-fossati-se-hace-viral-por-baile-en-celebracion-de-la-u-por-el-titulo-nacional-video-liga-1-edison-flores-noticia/',\n",
       " 'https://peru21.pe/deportes/futbol-peruano/alianza-lima-hernan-barcos-se-hizo-tatuaje-blanquiazul-pese-a-perder-titulo-ante-universitario-matute-final-liga-1-noticia/',\n",
       " 'https://peru21.pe/deportes/futbol-peruano/universitario-y-la-luz-que-vencio-al-apagon-en-el-estadio-alejandro-villanueva-matute-alianza-lima-liga-1-noticia/',\n",
       " 'https://peru21.pe/deportes/futbol-peruano/alianza-lima-fiscalia-abrio-investigacion-contra-blanquiazules-por-apagar-las-luces-tras-perder-la-final-universitario-noticia/',\n",
       " 'https://peru21.pe/deportes/futbol-peruano/alianza-lima-afirma-que-le-apago-la-luz-a-universitario-para-evitar-alguna-tragedia-final-liga-1-matute-noticia/',\n",
       " 'https://peru21.pe/deportes/futbol-peruano/alianza-lima-o-universitario-quien-es-el-club-mas-campeon-del-futbol-peruano-liga-1-palmares-titulos-noticia/',\n",
       " 'https://peru21.pe/deportes/futbol-peruano/universitario-piero-quispe-con-la-bandera-de-la-u-en-matute-tras-campeonar-grande-hay-uno-solo-alianza-lima-noticia/',\n",
       " 'https://peru21.pe/deportes/futbol-peruano/universitario-vs-alianza-lima-quien-fue-el-verdadero-campeon-de-1934-liga-1-equipo-con-mas-titulos-peru-apertura-clausura-placido-galindo-asociacion-central-futbol-noticia/',\n",
       " 'https://peru21.pe/deportes/futbol-peruano/alianza-lima-bryan-reyna-estoy-como-la-m-y-no-puedo-hablar-con-mauricio-larriera-universitario-campeon-liga-1-noticia/',\n",
       " 'https://peru21.pe/deportes/futbol-peruano/alianza-lima-hector-tito-ordonez-no-fue-una-decision-del-club-universitario-campeon-liga-1-apagon-matute-noticia/',\n",
       " 'https://peru21.pe/deportes/futbol-peruano/se-fue-la-luz-matute-se-quedo-a-oscuras-tras-campeonato-de-universitario-en-la-victoria-alianza-lima-universitario-matute-apagon-liga-1-noticia/',\n",
       " 'https://peru21.pe/deportes/futbol-peruano/alianza-lima-vs-universitario-fecha-hora-y-alineaciones-en-vivo-clasico-peruano-final-liga-1-matute-noticia/',\n",
       " 'https://peru21.pe/deportes/futbol-peruano/universitario-a-punto-de-ser-campeon-calcaterra-anoto-el-segundo-y-liquida-a-alianza-lima-video-peru-alianza-lima-universitario-futbol-peruano-final-liga-1-edison-flores-noticia/',\n",
       " 'https://peru21.pe/deportes/futbol-peruano/el-primer-golpe-es-crema-edison-flores-anota-el-primero-y-silencia-matute-video-peru-alianza-lima-universitario-futbol-peruano-final-liga-1-edison-flores-noticia/',\n",
       " 'https://peru21.pe/deportes/futbol-peruano/lo-volvio-a-hacer-angelo-campos-salto-a-calentar-con-la-bandera-de-alianza-lima-previo-a-la-final-alianza-lima-angelo-campos-universitario-bandera-peru-futbol-peruano-liga-1-noticia/',\n",
       " 'https://peru21.pe/deportes/futbol-peruano/alianza-lima-vs-universitario-puma-carranza-ya-nos-hemos-divertido-en-este-estadio-video-final-liga-1-noticia/',\n",
       " 'https://peru21.pe/deportes/futbol-peruano/alianza-lima-vs-universitario-que-abuso-fpf-elimino-opcion-de-suscripcion-diaria-y-para-ver-la-final-hay-que-pagar-tres-veces-mas-donde-ver-en-vivo-liga-1-noticia/',\n",
       " 'https://peru21.pe/deportes/futbol-peruano/alianza-lima-vs-universitario-barrista-le-roba-la-moto-a-policia-y-fuga-camino-al-estadio-video-final-liga-1-noticia/',\n",
       " 'https://peru21.pe/deportes/futbol-peruano/se-acabo-la-guerra-de-sanciones-comision-disciplinaria-tomara-medidas-despues-de-la-final-peru-alianza-lima-comision-disciplinaria-fpf-universitario-final-liga-1-angelo-campos-alex-valera-sanciones-noticia/',\n",
       " 'https://peru21.pe/deportes/futbol-peruano/hinchas-aliancistas-reviven-la-voz-de-nicomedes-santa-cruz-con-inteligencia-artificial-peru-hinchas-alianza-lima-inteligencia-artificial-noticia/',\n",
       " 'https://peru21.pe/deportes/futbol-peruano/alianza-lima-recuerda-a-comision-disciplinaria-el-insulto-de-alex-valera-a-arbitro-y-pide-sancion-peru-arbitro-alianza-lima-universitario-alex-valera-angelo-campos-futbol-peruano-noticia/',\n",
       " 'https://peru21.pe/deportes/futbol-peruano/hector-ordonez-tras-pedido-de-sancion-a-campos-quieren-tapar-las-pedradas-al-bus-peru-alianza-lima-universitario-futbol-peruano-hector-ordonez-angelo-campos-noticia/',\n",
       " 'https://peru21.pe/deportes/futbol-peruano/se-perdera-la-final-comision-disciplinaria-admite-a-tramite-el-reclamo-contra-angelo-campos-alianza-lima-universitario-clasico-fpf-comision-disciplinaria-futbol-peruano-final-liga-1-noticia/',\n",
       " 'https://peru21.pe/deportes/futbol-peruano/universitario-vs-alianza-lima-hincha-le-aposto-todo-al-clasico-peruano-y-gano-casi-10-mil-soles-final-liga-1-noticia/',\n",
       " 'https://peru21.pe/deportes/futbol-peruano/ferrari-pide-acciones-contra-campos-por-salir-con-bandera-de-alianza-lima-en-el-monumental-futbol-peruano-jean-ferrari-angelo-campos-alianza-lima-universitario-clasico-liga-1-noticia/',\n",
       " 'https://peru21.pe/deportes/futbol-peruano/jose-carvallo-tras-empatar-en-la-primera-final-fuimos-ampliamente-superiores-universitario-alianza-lima-peru-liga-1-final-futbol-peruano-jose-carvallo-monumental-matute-noticia/',\n",
       " 'https://peru21.pe/deportes/futbol-peruano/universitario-vs-alianza-lima-jefferson-farfan-que-feo-partido-clasico-peruano-final-liga-1-noticia/',\n",
       " 'https://peru21.pe/deportes/futbol-peruano/alianza-lima-vs-universitario-jorge-fossati-no-se-que-corregir-para-el-partido-de-vuelta-matute-noticia/',\n",
       " 'https://peru21.pe/deportes/futbol-peruano/universitario-vs-alianza-lima-dia-hora-y-alineaciones-en-vivo-estadio-monumental-definicion-del-titulo-liga-1-noticia/']"
      ]
     },
     "execution_count": 42,
     "metadata": {},
     "output_type": "execute_result"
    }
   ],
   "source": [
    "elem_hrefs = driver.find_elements(by=By.XPATH, value='//a[contains(text(), \"Fútbol peruano\")]/parent::div/h2/a')\n",
    "links = [ele.get_attribute(\"href\") for ele in elem_hrefs]\n",
    "links"
   ]
  },
  {
   "cell_type": "code",
   "execution_count": 43,
   "metadata": {},
   "outputs": [],
   "source": [
    "driver.get(\"https://peru21.pe/deportes/futbol-peruano/a-festejar-crema-hoy-es-la-premiacion-de-universitario-como-campeon-nacional-2023-peru-universitario-campeon-futbol-peruano-liga-1-noticia/\")"
   ]
  },
  {
   "cell_type": "code",
   "execution_count": 44,
   "metadata": {},
   "outputs": [],
   "source": [
    "foot_new = driver.find_elements(by=By.XPATH, value='//p')"
   ]
  },
  {
   "cell_type": "code",
   "execution_count": 45,
   "metadata": {},
   "outputs": [],
   "source": [
    "full_text_new = ''\n",
    "long_new = len(foot_new)\n",
    "for idx, ele in enumerate(foot_new):\n",
    "    if idx not in [0, long_new-1]:\n",
    "        text_new = re.sub(r'[^a-zA-Z0-9Ññáéíóú,;.\\s]', '', ele.text).strip()\n",
    "        if text_new != '':\n",
    "            full_text_new = full_text_new + \" \" + text_new\n",
    "\n",
    "full_text_new = full_text_new.strip()"
   ]
  },
  {
   "cell_type": "code",
   "execution_count": 49,
   "metadata": {},
   "outputs": [],
   "source": [
    "ele_title = driver.find_element(by=By.XPATH, value='//h1')\n",
    "football_title = ele_title.text"
   ]
  },
  {
   "cell_type": "code",
   "execution_count": 50,
   "metadata": {},
   "outputs": [
    {
     "data": {
      "text/plain": [
       "'A festejar crema: así fue la premiación de Universitario como campeón nacional 2023'"
      ]
     },
     "execution_count": 50,
     "metadata": {},
     "output_type": "execute_result"
    }
   ],
   "source": [
    "football_title"
   ]
  },
  {
   "cell_type": "code",
   "execution_count": 51,
   "metadata": {},
   "outputs": [
    {
     "data": {
      "text/plain": [
       "'En el Monumental de Ate, los merengues serán premiados luego de ganarle la final a Alianza Lima y coronándose como campeón del Perú esta temporada.'"
      ]
     },
     "execution_count": 51,
     "metadata": {},
     "output_type": "execute_result"
    }
   ],
   "source": [
    "ele_subtitle = driver.find_element(by=By.XPATH, value=\"//h2[contains(@class, 'sht__summary')]\")\n",
    "football_subtitle = ele_subtitle.text\n",
    "football_subtitle"
   ]
  },
  {
   "cell_type": "markdown",
   "metadata": {},
   "source": [
    "## Web scraping News"
   ]
  },
  {
   "cell_type": "code",
   "execution_count": null,
   "metadata": {},
   "outputs": [],
   "source": [
    "from selenium import webdriver\n",
    "from selenium.webdriver.chrome.service import Service\n",
    "from bs4 import BeautifulSoup\n",
    "from html2text import html2text\n",
    "import re\n",
    "from nltk import word_tokenize\n",
    "import datetime\n",
    "import locale\n",
    "import time\n",
    "import requests\n",
    "from selenium.webdriver.common.by import By\n",
    "import pandas as pd\n",
    "import numpy as np\n",
    "import time\n",
    "\n",
    "service = Service()\n",
    "options = webdriver.ChromeOptions()\n",
    "driver = webdriver.Chrome(service=service, options=options)\n",
    "\n",
    "date_n = datetime.datetime.strptime(\"2023-11-03\", \"%Y-%m-%d\")\n",
    "date_u = datetime.datetime.strptime(\"2023-01-01\", \"%Y-%m-%d\")\n",
    "\n",
    "total_news = 0\n",
    "links = list()\n",
    "\n",
    "while True:\n",
    "\n",
    "    try:\n",
    "        day = date_n.strftime(\"%d\")\n",
    "        month = date_n.strftime(\"%m\")\n",
    "        year = date_n.strftime(\"%Y\")\n",
    "\n",
    "        url = \"https://peru21.pe/archivo/todas/{}-{}-{}/\".format(year, month, day)\n",
    "\n",
    "        print(date_n.strftime(\"Scraping the news from %d/%m/%Y\"))\n",
    "        \n",
    "        driver.get(url)\n",
    "\n",
    "        for i in range(4):\n",
    "            # scroll to the bottom of the page\n",
    "            driver.execute_script(\"window.scrollTo(0, document.body.scrollHeight);\")\n",
    "            time.sleep(1)\n",
    "\n",
    "        elem_hrefs = driver.find_elements(by=By.XPATH, value='//a[contains(text(), \"Fútbol peruano\")]/parent::div/h2/a')\n",
    "        if elem_hrefs:\n",
    "            print(\"Found {} peruvian football news\".format(len(elem_hrefs)))\n",
    "            total_news = total_news + len(elem_hrefs)\n",
    "        else:\n",
    "            print(\"Not found peruvian football\")\n",
    "\n",
    "        for ele in elem_hrefs:\n",
    "            links.append(ele.get_attribute(\"href\"))\n",
    "\n",
    "        date_n = date_n - datetime.timedelta(days=1)\n",
    "\n",
    "        print(\"Correct scraping! Total news: {}\".format(total_news))\n",
    "        time.sleep(2)\n",
    "\n",
    "        if date_n == date_u:\n",
    "            break\n",
    "        else:\n",
    "            continue\n",
    "\n",
    "    except Exception as e:\n",
    "        print(e)\n",
    "        print(\"Incorrect scraping!\")"
   ]
  },
  {
   "cell_type": "code",
   "execution_count": 77,
   "metadata": {},
   "outputs": [],
   "source": [
    "def check_text(text_new):\n",
    "    text_new = re.sub(r'[^a-zA-Z0-9Ññáéíóú,;.\\s]', '', text_new).strip()\n",
    "    return text_new"
   ]
  },
  {
   "cell_type": "code",
   "execution_count": 78,
   "metadata": {},
   "outputs": [
    {
     "name": "stdout",
     "output_type": "stream",
     "text": [
      "Correct scraping: https://peru21.pe/deportes/futbol-peruano/premio-al-esfuerzo-piero-quispe-fue-elegido-como-el-mejor-jugador-de-la-liga-1-2023-noticia/\n",
      "Correct scraping: https://peru21.pe/deportes/futbol-peruano/a-festejar-crema-hoy-es-la-premiacion-de-universitario-como-campeon-nacional-2023-peru-universitario-campeon-futbol-peruano-liga-1-noticia/\n",
      "Correct scraping: https://peru21.pe/deportes/futbol-peruano/universitario-edison-flores-tienen-que-venir-mas-extranjeros-como-hernan-barcos-a-la-liga-1-titulo-de-la-u-noticia/\n",
      "Correct scraping: https://peru21.pe/deportes/futbol-peruano/premiacion-liga-1-quien-fue-el-mejor-jugador-del-futbol-peruano-este-ano-piero-quispe-universitario-noticia/\n",
      "Correct scraping: https://peru21.pe/deportes/futbol-peruano/universitario-jean-ferrari-si-queremos-a-yoshimar-yotun-video-refuerzos-2024-sporting-cristal-noticia/\n",
      "Correct scraping: https://peru21.pe/deportes/futbol-peruano/universitario-altas-y-bajas-para-el-proximo-ano-centenario-u-plantel-2024-refuerzos-renovaciones-noticia/\n",
      "Correct scraping: https://peru21.pe/deportes/futbol-peruano/alianza-lima-las-altas-y-bajas-blanquiazules-para-el-proximo-ano-temporada-2024-refuerzos-renovaciones-noticia/\n",
      "Correct scraping: https://peru21.pe/deportes/futbol-peruano/universitario-campeon-liga-1-aviso-cuando-y-donde-entregara-el-trofeo-tras-apagon-en-matute-alianza-lima-noticia/\n",
      "Correct scraping: https://peru21.pe/deportes/futbol-peruano/alianza-lima-conoce-la-lista-de-directivos-que-han-renunciado-tras-el-apagon-en-la-final-universitario-liga-1-noticia/\n",
      "Correct scraping: https://peru21.pe/deportes/futbol-peruano/universitario-piero-quispe-queremos-el-bicampeonato-de-la-liga-1-centenario-u-seleccion-peruana-noticia/\n",
      "Correct scraping: https://peru21.pe/deportes/futbol-peruano/futbol-formativo-conoce-a-los-ganadores-del-campeonato-nacional-infantil-de-futbol-noticia/\n",
      "Correct scraping: https://peru21.pe/deportes/futbol-peruano/sporting-cristal-confirmo-que-tiago-nunes-no-seguira-siendo-su-tecnico-para-el-2024-botafogo-de-brasil-noticia/\n",
      "Correct scraping: https://peru21.pe/deportes/futbol-peruano/universitario-conoce-cuanto-ganara-la-u-por-campeonar-la-liga-1-premio-campeon-alianza-lima-subcampeon-noticia/\n",
      "Correct scraping: https://peru21.pe/deportes/futbol-peruano/alianza-lima-juan-reynoso-sorprende-al-explicar-el-bajo-nivel-de-bryan-reyna-final-universitario-liga-1-noticia/\n",
      "Correct scraping: https://peru21.pe/deportes/futbol-peruano/alianza-lima-hernan-barcos-le-responde-a-universitario-los-ninos-quieren-ser-como-sus-heroes-edison-flores-noticia/\n",
      "Correct scraping: https://peru21.pe/deportes/futbol-peruano/inicia-la-purga-en-alianza-lima-mauricio-larriera-y-su-comando-tecnico-no-van-mas-alianza-lima-peru-mauricio-larriera-destitucion-futbol-peruano-alejandro-villanueva-noticia/\n",
      "Correct scraping: https://peru21.pe/deportes/futbol-peruano/y-sporting-cristal-tiago-nunes-tendria-todo-cerrado-con-el-botafogo-de-brasil-peru-futbol-peruano-tiago-nunes-sporting-cristal-botafogo-noticia/\n",
      "Correct scraping: https://peru21.pe/deportes/futbol-peruano/la-fiesta-del-campeon-universitario-pone-a-la-venta-entradas-para-la-premiacion-de-la-liga-1-2023-universitario-liga-1-alianza-lima-la-u-monumental-noticia/\n",
      "Correct scraping: https://peru21.pe/deportes/futbol-peruano/alianza-lima-comision-nacional-contra-la-violencia-en-espectaculos-deportivos-le-pide-informe-del-apagon-al-administrador-noticia/\n",
      "Correct scraping: https://peru21.pe/deportes/futbol-peruano/universitario-miguel-trauco-fue-fotografiado-en-las-celebraciones-de-la-u-campeon-liga-1-refuerzos-noticia/\n",
      "Correct scraping: https://peru21.pe/deportes/futbol-peruano/alianza-lima-jugadores-de-universitario-celebraron-imitando-a-hernan-pirata-barcos-video-liga-1-noticia/\n",
      "Correct scraping: https://peru21.pe/deportes/futbol-peruano/universitario-jorge-fossati-se-hace-viral-por-baile-en-celebracion-de-la-u-por-el-titulo-nacional-video-liga-1-edison-flores-noticia/\n",
      "Correct scraping: https://peru21.pe/deportes/futbol-peruano/alianza-lima-hernan-barcos-se-hizo-tatuaje-blanquiazul-pese-a-perder-titulo-ante-universitario-matute-final-liga-1-noticia/\n",
      "Correct scraping: https://peru21.pe/deportes/futbol-peruano/universitario-y-la-luz-que-vencio-al-apagon-en-el-estadio-alejandro-villanueva-matute-alianza-lima-liga-1-noticia/\n",
      "Correct scraping: https://peru21.pe/deportes/futbol-peruano/alianza-lima-fiscalia-abrio-investigacion-contra-blanquiazules-por-apagar-las-luces-tras-perder-la-final-universitario-noticia/\n",
      "Correct scraping: https://peru21.pe/deportes/futbol-peruano/alianza-lima-afirma-que-le-apago-la-luz-a-universitario-para-evitar-alguna-tragedia-final-liga-1-matute-noticia/\n",
      "Correct scraping: https://peru21.pe/deportes/futbol-peruano/alianza-lima-o-universitario-quien-es-el-club-mas-campeon-del-futbol-peruano-liga-1-palmares-titulos-noticia/\n",
      "Correct scraping: https://peru21.pe/deportes/futbol-peruano/universitario-piero-quispe-con-la-bandera-de-la-u-en-matute-tras-campeonar-grande-hay-uno-solo-alianza-lima-noticia/\n",
      "Correct scraping: https://peru21.pe/deportes/futbol-peruano/universitario-vs-alianza-lima-quien-fue-el-verdadero-campeon-de-1934-liga-1-equipo-con-mas-titulos-peru-apertura-clausura-placido-galindo-asociacion-central-futbol-noticia/\n",
      "Correct scraping: https://peru21.pe/deportes/futbol-peruano/alianza-lima-bryan-reyna-estoy-como-la-m-y-no-puedo-hablar-con-mauricio-larriera-universitario-campeon-liga-1-noticia/\n",
      "Correct scraping: https://peru21.pe/deportes/futbol-peruano/alianza-lima-hector-tito-ordonez-no-fue-una-decision-del-club-universitario-campeon-liga-1-apagon-matute-noticia/\n",
      "Correct scraping: https://peru21.pe/deportes/futbol-peruano/se-fue-la-luz-matute-se-quedo-a-oscuras-tras-campeonato-de-universitario-en-la-victoria-alianza-lima-universitario-matute-apagon-liga-1-noticia/\n",
      "Correct scraping: https://peru21.pe/deportes/futbol-peruano/alianza-lima-vs-universitario-fecha-hora-y-alineaciones-en-vivo-clasico-peruano-final-liga-1-matute-noticia/\n",
      "Correct scraping: https://peru21.pe/deportes/futbol-peruano/universitario-a-punto-de-ser-campeon-calcaterra-anoto-el-segundo-y-liquida-a-alianza-lima-video-peru-alianza-lima-universitario-futbol-peruano-final-liga-1-edison-flores-noticia/\n",
      "Correct scraping: https://peru21.pe/deportes/futbol-peruano/el-primer-golpe-es-crema-edison-flores-anota-el-primero-y-silencia-matute-video-peru-alianza-lima-universitario-futbol-peruano-final-liga-1-edison-flores-noticia/\n",
      "Correct scraping: https://peru21.pe/deportes/futbol-peruano/lo-volvio-a-hacer-angelo-campos-salto-a-calentar-con-la-bandera-de-alianza-lima-previo-a-la-final-alianza-lima-angelo-campos-universitario-bandera-peru-futbol-peruano-liga-1-noticia/\n",
      "Correct scraping: https://peru21.pe/deportes/futbol-peruano/alianza-lima-vs-universitario-puma-carranza-ya-nos-hemos-divertido-en-este-estadio-video-final-liga-1-noticia/\n",
      "Correct scraping: https://peru21.pe/deportes/futbol-peruano/alianza-lima-vs-universitario-que-abuso-fpf-elimino-opcion-de-suscripcion-diaria-y-para-ver-la-final-hay-que-pagar-tres-veces-mas-donde-ver-en-vivo-liga-1-noticia/\n",
      "Correct scraping: https://peru21.pe/deportes/futbol-peruano/alianza-lima-vs-universitario-barrista-le-roba-la-moto-a-policia-y-fuga-camino-al-estadio-video-final-liga-1-noticia/\n",
      "Correct scraping: https://peru21.pe/deportes/futbol-peruano/se-acabo-la-guerra-de-sanciones-comision-disciplinaria-tomara-medidas-despues-de-la-final-peru-alianza-lima-comision-disciplinaria-fpf-universitario-final-liga-1-angelo-campos-alex-valera-sanciones-noticia/\n",
      "Correct scraping: https://peru21.pe/deportes/futbol-peruano/hinchas-aliancistas-reviven-la-voz-de-nicomedes-santa-cruz-con-inteligencia-artificial-peru-hinchas-alianza-lima-inteligencia-artificial-noticia/\n",
      "Correct scraping: https://peru21.pe/deportes/futbol-peruano/alianza-lima-recuerda-a-comision-disciplinaria-el-insulto-de-alex-valera-a-arbitro-y-pide-sancion-peru-arbitro-alianza-lima-universitario-alex-valera-angelo-campos-futbol-peruano-noticia/\n",
      "Correct scraping: https://peru21.pe/deportes/futbol-peruano/hector-ordonez-tras-pedido-de-sancion-a-campos-quieren-tapar-las-pedradas-al-bus-peru-alianza-lima-universitario-futbol-peruano-hector-ordonez-angelo-campos-noticia/\n",
      "Correct scraping: https://peru21.pe/deportes/futbol-peruano/se-perdera-la-final-comision-disciplinaria-admite-a-tramite-el-reclamo-contra-angelo-campos-alianza-lima-universitario-clasico-fpf-comision-disciplinaria-futbol-peruano-final-liga-1-noticia/\n",
      "Correct scraping: https://peru21.pe/deportes/futbol-peruano/universitario-vs-alianza-lima-hincha-le-aposto-todo-al-clasico-peruano-y-gano-casi-10-mil-soles-final-liga-1-noticia/\n",
      "Correct scraping: https://peru21.pe/deportes/futbol-peruano/ferrari-pide-acciones-contra-campos-por-salir-con-bandera-de-alianza-lima-en-el-monumental-futbol-peruano-jean-ferrari-angelo-campos-alianza-lima-universitario-clasico-liga-1-noticia/\n",
      "Correct scraping: https://peru21.pe/deportes/futbol-peruano/jose-carvallo-tras-empatar-en-la-primera-final-fuimos-ampliamente-superiores-universitario-alianza-lima-peru-liga-1-final-futbol-peruano-jose-carvallo-monumental-matute-noticia/\n",
      "Correct scraping: https://peru21.pe/deportes/futbol-peruano/universitario-vs-alianza-lima-jefferson-farfan-que-feo-partido-clasico-peruano-final-liga-1-noticia/\n",
      "Correct scraping: https://peru21.pe/deportes/futbol-peruano/alianza-lima-vs-universitario-jorge-fossati-no-se-que-corregir-para-el-partido-de-vuelta-matute-noticia/\n",
      "Correct scraping: https://peru21.pe/deportes/futbol-peruano/universitario-vs-alianza-lima-dia-hora-y-alineaciones-en-vivo-estadio-monumental-definicion-del-titulo-liga-1-noticia/\n"
     ]
    }
   ],
   "source": [
    "df_football_news = pd.DataFrame()\n",
    "\n",
    "elem_hrefs = driver.find_elements(by=By.XPATH, value='//a[contains(text(), \"Fútbol peruano\")]/parent::div/h2/a')\n",
    "links = [ele.get_attribute(\"href\") for ele in elem_hrefs]\n",
    "\n",
    "for link in links:\n",
    "    \n",
    "    driver.get(link)\n",
    "\n",
    "    time.sleep(5)\n",
    "\n",
    "    foot_new = driver.find_elements(by=By.XPATH, value='//p')\n",
    "    ele_title = driver.find_element(by=By.XPATH, value='//h1')\n",
    "    ele_subtitle = driver.find_element(by=By.XPATH, value=\"//h2[contains(@class, 'sht__summary')]\")\n",
    "\n",
    "    full_text_new = ''\n",
    "    long_new = len(foot_new)\n",
    "    for idx, ele in enumerate(foot_new):\n",
    "        if idx not in [0, long_new-1]:\n",
    "            text_new = check_text(ele.text)\n",
    "            if text_new != '':\n",
    "                full_text_new = full_text_new + \" \" + text_new\n",
    "    full_text_new = full_text_new.strip()\n",
    "\n",
    "    football_title = ele_title.text\n",
    "    football_title = check_text(football_title)\n",
    "\n",
    "    \n",
    "    football_subtitle = ele_subtitle.text\n",
    "    football_subtitle = check_text(football_subtitle)\n",
    "\n",
    "    df_football_news_c = pd.DataFrame({\"Title\": [football_title], \"Subtitle\": [football_subtitle], \"Text\": [full_text_new]})\n",
    "    df_football_news = pd.concat([df_football_news, df_football_news_c], axis=0)\n",
    "\n",
    "    print(\"Correct scraping: {}\".format(link))\n",
    "\n",
    "driver.close()\n",
    "\n",
    "\n",
    "df_football_news.reset_index(drop=True, inplace=True)"
   ]
  },
  {
   "cell_type": "code",
   "execution_count": null,
   "metadata": {},
   "outputs": [],
   "source": [
    "df_football_news['Text'] = df_football_news['Text'].apply(lambda x: x.replace(\"\\n\", \"\"))"
   ]
  },
  {
   "cell_type": "code",
   "execution_count": 98,
   "metadata": {},
   "outputs": [
    {
     "data": {
      "text/html": [
       "<div>\n",
       "<style scoped>\n",
       "    .dataframe tbody tr th:only-of-type {\n",
       "        vertical-align: middle;\n",
       "    }\n",
       "\n",
       "    .dataframe tbody tr th {\n",
       "        vertical-align: top;\n",
       "    }\n",
       "\n",
       "    .dataframe thead th {\n",
       "        text-align: right;\n",
       "    }\n",
       "</style>\n",
       "<table border=\"1\" class=\"dataframe\">\n",
       "  <thead>\n",
       "    <tr style=\"text-align: right;\">\n",
       "      <th></th>\n",
       "      <th>Title</th>\n",
       "      <th>Subtitle</th>\n",
       "      <th>Text</th>\n",
       "    </tr>\n",
       "  </thead>\n",
       "  <tbody>\n",
       "    <tr>\n",
       "      <th>0</th>\n",
       "      <td>Premio al esfuerzo Piero Quispe fue elegido co...</td>\n",
       "      <td>El mediocampista de Universitario fue pieza fu...</td>\n",
       "      <td>Luego de 10 años de sequía, Universitario form...</td>\n",
       "    </tr>\n",
       "    <tr>\n",
       "      <th>1</th>\n",
       "      <td>A festejar crema así fue la premiación de Univ...</td>\n",
       "      <td>En el Monumental de Ate, los merengues serán p...</td>\n",
       "      <td>El equipo crema se dispone a dar la vuelta olí...</td>\n",
       "    </tr>\n",
       "    <tr>\n",
       "      <th>2</th>\n",
       "      <td>Se disculpó con Barcos Flores Tienen que venir...</td>\n",
       "      <td>Después de imitarlo en la celebración por el t...</td>\n",
       "      <td>En medio de las celebraciones por su nuevo tít...</td>\n",
       "    </tr>\n",
       "    <tr>\n",
       "      <th>3</th>\n",
       "      <td>Liga 1 Quién fue el mejor jugador del fútbol p...</td>\n",
       "      <td>Conoce qué futbolistas tuvieron los mejores nú...</td>\n",
       "      <td>Sin embargo, saliendo de los gustos de cada un...</td>\n",
       "    </tr>\n",
       "    <tr>\n",
       "      <th>4</th>\n",
       "      <td>Yotún jugará en Universitario Jean Ferrari Sí ...</td>\n",
       "      <td>En el 2024, el jugador emblema de Sporting Cri...</td>\n",
       "      <td>Universitario ganó la Liga 1 este año, pero qu...</td>\n",
       "    </tr>\n",
       "  </tbody>\n",
       "</table>\n",
       "</div>"
      ],
      "text/plain": [
       "                                               Title  \\\n",
       "0  Premio al esfuerzo Piero Quispe fue elegido co...   \n",
       "1  A festejar crema así fue la premiación de Univ...   \n",
       "2  Se disculpó con Barcos Flores Tienen que venir...   \n",
       "3  Liga 1 Quién fue el mejor jugador del fútbol p...   \n",
       "4  Yotún jugará en Universitario Jean Ferrari Sí ...   \n",
       "\n",
       "                                            Subtitle  \\\n",
       "0  El mediocampista de Universitario fue pieza fu...   \n",
       "1  En el Monumental de Ate, los merengues serán p...   \n",
       "2  Después de imitarlo en la celebración por el t...   \n",
       "3  Conoce qué futbolistas tuvieron los mejores nú...   \n",
       "4  En el 2024, el jugador emblema de Sporting Cri...   \n",
       "\n",
       "                                                Text  \n",
       "0  Luego de 10 años de sequía, Universitario form...  \n",
       "1  El equipo crema se dispone a dar la vuelta olí...  \n",
       "2  En medio de las celebraciones por su nuevo tít...  \n",
       "3  Sin embargo, saliendo de los gustos de cada un...  \n",
       "4  Universitario ganó la Liga 1 este año, pero qu...  "
      ]
     },
     "execution_count": 98,
     "metadata": {},
     "output_type": "execute_result"
    }
   ],
   "source": [
    "df_football_news.head(5)"
   ]
  },
  {
   "cell_type": "code",
   "execution_count": 96,
   "metadata": {},
   "outputs": [],
   "source": [
    "df_football_news.to_csv(\"peruvian_football_new.csv\", index=False, sep=\"|\")"
   ]
  },
  {
   "cell_type": "code",
   "execution_count": 117,
   "metadata": {},
   "outputs": [],
   "source": [
    "full_text_new = ''\n",
    "for i in range(len(df_football_news)):\n",
    "    full_text_new = full_text_new + df_football_news.loc[i, 'Title'] + \":\" + \"\\n\"\n",
    "    full_text_new = full_text_new + df_football_news.loc[i, 'Text'] + \"\\n\\n\""
   ]
  },
  {
   "cell_type": "code",
   "execution_count": 118,
   "metadata": {},
   "outputs": [],
   "source": [
    "with open(\"peruvian_football_news.txt\", \"w\") as f:\n",
    "    f.write(full_text_new)"
   ]
  },
  {
   "cell_type": "markdown",
   "metadata": {},
   "source": [
    "## GRU (Gated Recurrent Unit)"
   ]
  },
  {
   "cell_type": "code",
   "execution_count": 119,
   "metadata": {},
   "outputs": [],
   "source": [
    "import tensorflow as tf\n",
    "from tensorflow.keras.layers.experimental import preprocessing\n",
    "\n",
    "import numpy as np\n",
    "import os\n",
    "import time"
   ]
  },
  {
   "cell_type": "code",
   "execution_count": 221,
   "metadata": {},
   "outputs": [],
   "source": [
    "full_text_new = open(\"peruvian_football_news.txt\", 'rb').read().decode(encoding='utf-8')"
   ]
  },
  {
   "cell_type": "code",
   "execution_count": 193,
   "metadata": {},
   "outputs": [],
   "source": [
    "def replace_tild(text):\n",
    "    accent_m = {\n",
    "        'á': 'a',\n",
    "        'é': 'e',\n",
    "        'í': 'i',\n",
    "        'ó': 'o',\n",
    "        'ú': 'u',\n",
    "        'Á': 'A',\n",
    "        'É': 'E',\n",
    "        'Í': 'I',\n",
    "        'Ó': 'O',\n",
    "        'Ú': 'U'\n",
    "    }\n",
    "    for k,v in accent_m.items():\n",
    "        text = text.replace(k,v) \n",
    "    return text"
   ]
  },
  {
   "cell_type": "code",
   "execution_count": 194,
   "metadata": {},
   "outputs": [],
   "source": [
    "full_text_new = replace_tild(full_text_new)"
   ]
  },
  {
   "cell_type": "code",
   "execution_count": 196,
   "metadata": {},
   "outputs": [
    {
     "name": "stdout",
     "output_type": "stream",
     "text": [
      "Premio al esfuerzo Piero Quispe fue elegido como el mejor jugador de la Liga 1 2023:\n",
      "Luego de 10 años de sequia, Universitario formo un gran plantel para gritar campeon este 2023 y una de las piezas fundamentales de este equipo fue Piero Quispe, volante que a sus 23 años fue clave para el elenco dirigido por Jorge Fossati, que se llevo el titulo ante su clasico rival y este domingo recien pudo recibir el trofeo. El volante crema aporto a su equipo con cuatro goles y dos asistencias, siendo muy influyente en el estilo de juego de Fossati, quien le imprimio un gran juego en colectivo a su equipo, apoyandolo en el mediocampo con jugadores como Rodrigo Ureña o Jose Perez Guedes, que eran un respaldo para Quispe. Pierito tambien destaco en la campaña de Universitario en la Sudamericana, en donde fue elegido en una oportunidad en el once ideal. Estas buenas actuaciones le valieron la convocatoria a la seleccion nacional dirigida por Juan Reynoso, aunque no ha debutado oficialmente todavia. En ese sentido, se espera que Quispe sea de consideracion para Reynoso en los encuentros ante Bolivia y Venezuela, duelos que Peru necesita con urgencia ganar para salir del sotano de la tabla de las clasificatorias mundialistas 2026. Por otro lado, segun el portal Trasnfermarkt, el volante crema de 23 años tiene una valoracion de mercado de 1 millon de euros, siendo probable que cambie de aires y de el salto al extranjero tras sus buenas actuaciones en la liga local.\n",
      "\n",
      "A festejar crema asi fue la premiacion de Universitario como campeon nacional 2023:\n",
      "El equipo crema se dispone a dar la vuelta olimpica en el campo del coloso de Ate y los canticos se escuchan desde las cuatro tribunas. Llego el momento. Jose Carvallo recibe el trofeo de la Liga 1 y la levanta a los cielos y la hinchada crema lo celebra a lo grande. Es el titulo 27 para el elenco merengue que corta una sequia que se extendio por largos 10 años. Todo es fiesta en el Monumental. Nelson Cabanillas, Jose Rivera, Yuriel Celi, \n"
     ]
    }
   ],
   "source": [
    "print(full_text_new[:2000])"
   ]
  },
  {
   "cell_type": "code",
   "execution_count": 197,
   "metadata": {},
   "outputs": [
    {
     "name": "stdout",
     "output_type": "stream",
     "text": [
      "69 unique characters\n"
     ]
    }
   ],
   "source": [
    "# The unique characters in the file\n",
    "vocab = sorted(set(full_text_new))\n",
    "print(f'{len(vocab)} unique characters')"
   ]
  },
  {
   "cell_type": "code",
   "execution_count": 198,
   "metadata": {},
   "outputs": [],
   "source": [
    "ids_from_chars = preprocessing.StringLookup(\n",
    "    vocabulary=list(vocab), mask_token=None)"
   ]
  },
  {
   "cell_type": "code",
   "execution_count": 199,
   "metadata": {},
   "outputs": [],
   "source": [
    "chars_from_ids = tf.keras.layers.experimental.preprocessing.StringLookup(\n",
    "    vocabulary=ids_from_chars.get_vocabulary(), invert=True, mask_token=None)"
   ]
  },
  {
   "cell_type": "code",
   "execution_count": 200,
   "metadata": {},
   "outputs": [],
   "source": [
    "def text_from_ids(ids):\n",
    "  return tf.strings.reduce_join(chars_from_ids(ids), axis=-1)"
   ]
  },
  {
   "cell_type": "code",
   "execution_count": 201,
   "metadata": {},
   "outputs": [
    {
     "data": {
      "text/plain": [
       "<tf.Tensor: shape=(83442,), dtype=int64, numpy=array([32, 60, 47, ...,  4,  1,  1], dtype=int64)>"
      ]
     },
     "execution_count": 201,
     "metadata": {},
     "output_type": "execute_result"
    }
   ],
   "source": [
    "all_ids = ids_from_chars(tf.strings.unicode_split(full_text_new, 'UTF-8'))\n",
    "all_ids"
   ]
  },
  {
   "cell_type": "code",
   "execution_count": 202,
   "metadata": {},
   "outputs": [],
   "source": [
    "ids_dataset = tf.data.Dataset.from_tensor_slices(all_ids)"
   ]
  },
  {
   "cell_type": "code",
   "execution_count": 203,
   "metadata": {},
   "outputs": [
    {
     "name": "stdout",
     "output_type": "stream",
     "text": [
      "P\n",
      "r\n",
      "e\n",
      "m\n",
      "i\n",
      "o\n",
      " \n",
      "a\n",
      "l\n",
      " \n"
     ]
    }
   ],
   "source": [
    "for ids in ids_dataset.take(10):\n",
    "    print(chars_from_ids(ids).numpy().decode('utf-8'))"
   ]
  },
  {
   "cell_type": "code",
   "execution_count": 204,
   "metadata": {},
   "outputs": [],
   "source": [
    "seq_length = 1000\n",
    "examples_per_epoch = len(full_text_new)//(seq_length+1) "
   ]
  },
  {
   "cell_type": "code",
   "execution_count": 205,
   "metadata": {},
   "outputs": [
    {
     "name": "stdout",
     "output_type": "stream",
     "text": [
      "tf.Tensor([b'P' b'r' b'e' ... b'n' b' ' b'd'], shape=(1667,), dtype=string)\n"
     ]
    }
   ],
   "source": [
    "sequences = ids_dataset.batch(seq_length+1, drop_remainder=True)\n",
    "\n",
    "for seq in sequences.take(1):\n",
    "  print(chars_from_ids(seq))"
   ]
  },
  {
   "cell_type": "code",
   "execution_count": 206,
   "metadata": {},
   "outputs": [
    {
     "name": "stdout",
     "output_type": "stream",
     "text": [
      "b'Premio al esfuerzo Piero Quispe fue elegido como el mejor jugador de la Liga 1 2023:\\nLuego de 10 a\\xc3\\xb1os de sequia, Universitario formo un gran plantel para gritar campeon este 2023 y una de las piezas fundamentales de este equipo fue Piero Quispe, volante que a sus 23 a\\xc3\\xb1os fue clave para el elenco dirigido por Jorge Fossati, que se llevo el titulo ante su clasico rival y este domingo recien pudo recibir el trofeo. El volante crema aporto a su equipo con cuatro goles y dos asistencias, siendo muy influyente en el estilo de juego de Fossati, quien le imprimio un gran juego en colectivo a su equipo, apoyandolo en el mediocampo con jugadores como Rodrigo Ure\\xc3\\xb1a o Jose Perez Guedes, que eran un respaldo para Quispe. Pierito tambien destaco en la campa\\xc3\\xb1a de Universitario en la Sudamericana, en donde fue elegido en una oportunidad en el once ideal. Estas buenas actuaciones le valieron la convocatoria a la seleccion nacional dirigida por Juan Reynoso, aunque no ha debutado oficialmente todavia. En ese sentido, se espera que Quispe sea de consideracion para Reynoso en los encuentros ante Bolivia y Venezuela, duelos que Peru necesita con urgencia ganar para salir del sotano de la tabla de las clasificatorias mundialistas 2026. Por otro lado, segun el portal Trasnfermarkt, el volante crema de 23 a\\xc3\\xb1os tiene una valoracion de mercado de 1 millon de euros, siendo probable que cambie de aires y de el salto al extranjero tras sus buenas actuaciones en la liga local.\\n\\nA festejar crema asi fue la premiacion de Universitario como campeon nacional 2023:\\nEl equipo crema se dispone a dar la vuelta olimpica en el campo del coloso de Ate y los canticos se escuchan d'\n",
      "b'esde las cuatro tribunas. Llego el momento. Jose Carvallo recibe el trofeo de la Liga 1 y la levanta a los cielos y la hinchada crema lo celebra a lo grande. Es el titulo 27 para el elenco merengue que corta una sequia que se extendio por largos 10 a\\xc3\\xb1os. Todo es fiesta en el Monumental. Nelson Cabanillas, Jose Rivera, Yuriel Celi, Andy Polo, Edison Flores, Alexander Succar, Alejandro Alcala y Jose Carvallo reciben sus medallas. Matias Di Benedetto, Roberto Siucho, Alex Valera, Martin Perez Guedes, Horacio Calcaterra y Diego Romero tambien aparecen y reciben sus respectivas medallas. Piero Quispe, pieza clave en el esquema de Universitario, recibe su medalla de campeon, siendo uno de los mas ovacionados por la hinchada crema. Jose Bolivar, Williams Riveros, Rodrigo Ure\\xc3\\xb1a, Piero Guzman, Marco Saravia, Luis Urruti y Emanuel Herrera son los primeros jugadores del plantel en recibir sus medallas por el titulo de la Liga 1. El entrenador uruguayo Jorge Fossati es ovacionado por el Monumental tras recibir la medalla. El tecnico fue fundamental para la remontada de Universitario. El administrado de Universitario, Jean Ferrari, es uno de los primeros en hacer su aparicion para recibir la medalla de premiacion. Una gran marco se vive en el Monumental de Ate, en donde recibiran el trofeo de campeon nacional de esta temporada. Previo a la premiacion, Piero Alva, exjugador del cuadro crema, dio algunas palabras Lindo, ver ahi la imagen de la copa, con el nombre de la U escrito me hace recordar buenos momentos. Esto es hermoso, la gente solamente se queda con lo que ha sucedido en la final, pero no saben el esfuerzo que hay detras. Hora de festejar. Lue'\n",
      "b'go de una decada de sequia, Universitario se proclamo campeon nacional al superar al clasico rival, Alianza Lima, en Matute por un contundente 20, luego del empate en el recinto crema por 11. Asi, los cremas aumentaron una estrella mas a su extenso palmares. Cabe recordar que, lamentablemente, la premiacion no pudo llevarse a cabo el mismo dia de la final el pasado 8 de noviembre, pues tras el pitazo final del encuentro, desde Alianza Lima se decidio apagar las luces del estadio Alejandro Villanueva, por lo cual el trofeo tuvo que entregarse este fin de semana. Esta noticia dio la vuelta al mundo. Cabe recordar que la Comision Disciplinaria de la Federacion Peruana de Futbol CDFPF ya esta investigando lo ocurrido y seguramente pronto tendremos novedades en cuanto a sanciones.\\n\\nSe disculpo con Barcos Flores Tienen que venir mas extranjeros como el:\\nEn medio de las celebraciones por su nuevo titulo, los futbolistas de Universitario, liderados por Edison Flores, imitaron los festejos de Hernan Barcos y eso genero criticas para un sector de hinchas. Dias despues, por medio de los micros y las camaras de Tiempo Crema, el popular Orejas aprovecho, a su manera, para disculparse con el Pirata reconociendo su jerarquia, trayectoria y goles. Mis respetos para Hernan Barcos, porque es una persona profesional y lo ha demostrado. Esta vigente y extranjeros como el tienen que venir, declaro el habilidoso volante ante el malestar del delantero. Como se sabe, luego de ser imitado por los merengues, el maximo artillero extranjero aliancista reposteo una imagen en su Instagram con la siguiente frase Los ni\\xc3\\xb1os quieren ser como sus heroes. Dilemas aparte, el '\n",
      "b'9 de Alianza Lima ha recibido el elogio de todos, inclusive de la Liga 1, donde fue elegido como el mejor futbolista en 2021 y 2022 y, este a\\xc3\\xb1o, anoto 17 goles y 6 asistencias.\\n\\nLiga 1 Quien fue el mejor jugador del futbol peruano este a\\xc3\\xb1o segun las estadisticas:\\nSin embargo, saliendo de los gustos de cada uno, existen numeros y estadisticas que nos pueden ayudar a tomar una mejor decision, como el mas influyente, goleador o asistidor, entre otros.\\n\\nYotun jugara en Universitario Jean Ferrari Si lo queremos VIDEO:\\nUniversitario gano la Liga 1 este a\\xc3\\xb1o, pero quiere repetirlo en el 2024. Para eso, los cremas ya van armando su lista de refuerzos, entre los que destaca el nombre de Yoshimar Yotun. Jean Ferrari rompio su silencio y confeso su mayor deseo fichar al volante de Sporting Cristal y de la Seleccion Peruana para la proxima temporada, donde tendran que jugar el torneo local e internacional. Si, lo queremos. Y a mi, personalmente, me encanta. Es un refuerzo ideal para la Libertadores. Imaginate ese mediocampo junto a Ure\\xc3\\xb1a, Quispe, PerezGuedes. Vamos a ver, arremetio el administrador. Sin embargo, no todo es cuestion de querer. Antes de eso, los cremas tendran que cuantificar su sue\\xc3\\xb1o, transformarlo en dinero y convencer a los cerveceros, due\\xc3\\xb1os del pase del volante hasta fines del 2024. Entonces, como hara Universitario para fichar al mejor jugador de Sporting Cristal Tendrian que apelar al hinchaje y a una jugosa transferencia. Tal y como lo leyo. El popular Yoshi ya ha deslizado en reiteradas oportunidades que le gusta la camiseta crema, que ya se la probo y que le queda, a pesar de ser considerado como futuro idolo rimense. Yoshimar '\n",
      "b'Yotun y Edison Flores hicieron un live en Instagram en tiempo de pandemia y en medio de la charla Yoshi solto estas declaracionesFerrari declaro que se le enviara propuesta al jugador de Sporting CristalOJO Ya nos trajimos a Calcaterra YDaleU Universitario pic.twitter.commmqCTYv9QI Adicionalmente, gracias al reciente titulo ganado por los de Jorge Fossati, hay harta plata en Ate mas de 2.5 millones de soles de la Liga 1, sumados a casi 12 millones mas por clasificar a la Libertadores. En resumen, la U tiene la solvencia economica y la predisposicion del jugador para realizar el fichaje del a\\xc3\\xb1o y remecer a todo el futbol peruano. Lo lograra Ya veremos.\\n\\nEquipo centenario Las altas y bajas de Universitario para el proximo a\\xc3\\xb1o:\\nEn 2024, Universitario cumplira cien a\\xc3\\xb1os de fundacion y quiere volver a ser campeon. Para ello, y ya dejando de lado el clasico, los cremas comienzan a armar el vestuario so\\xc3\\xb1ado. La primera baja en busqueda del bicampeonato sera Jose Carvallo. El arquero crema ya anuncio que el siguiente a\\xc3\\xb1o no juega. Por el momento, su reemplazo sera Diego Romero, aunque se espera a alguien de peso del extranjero. En la defensa, la salida de Matias Di Benedetto es casi fija para darle mas seguridad a esa linea. El zaguero central argentino no convencio del todo y tendria que dejarle su lugar a otro. En el medio campo, la renovacion por tres temporadas de Rodrigo Ure\\xc3\\xb1a ya es una realidad. El chileno se perfila como el nuevo capitan y comandante crema con la bendicion y estilo del Puma Carranza. Y, mas arriba, en la delantera, la continuidad de Alex Valera no esta en duda, como si ocurre con Emanuel Herrera, quien tiene mas de un pie y'\n"
     ]
    }
   ],
   "source": [
    "for seq in sequences.take(5):\n",
    "  print(text_from_ids(seq).numpy())"
   ]
  },
  {
   "cell_type": "code",
   "execution_count": 207,
   "metadata": {},
   "outputs": [],
   "source": [
    "def split_input_target(sequence):\n",
    "    input_text = sequence[:-1]\n",
    "    target_text = sequence[1:]\n",
    "    return input_text, target_text"
   ]
  },
  {
   "cell_type": "code",
   "execution_count": 208,
   "metadata": {},
   "outputs": [],
   "source": [
    "dataset = sequences.map(split_input_target)"
   ]
  },
  {
   "cell_type": "code",
   "execution_count": 209,
   "metadata": {},
   "outputs": [
    {
     "name": "stdout",
     "output_type": "stream",
     "text": [
      "Input : b'Premio al esfuerzo Piero Quispe fue elegido como el mejor jugador de la Liga 1 2023:\\nLuego de 10 a\\xc3\\xb1os de sequia, Universitario formo un gran plantel para gritar campeon este 2023 y una de las piezas fundamentales de este equipo fue Piero Quispe, volante que a sus 23 a\\xc3\\xb1os fue clave para el elenco dirigido por Jorge Fossati, que se llevo el titulo ante su clasico rival y este domingo recien pudo recibir el trofeo. El volante crema aporto a su equipo con cuatro goles y dos asistencias, siendo muy influyente en el estilo de juego de Fossati, quien le imprimio un gran juego en colectivo a su equipo, apoyandolo en el mediocampo con jugadores como Rodrigo Ure\\xc3\\xb1a o Jose Perez Guedes, que eran un respaldo para Quispe. Pierito tambien destaco en la campa\\xc3\\xb1a de Universitario en la Sudamericana, en donde fue elegido en una oportunidad en el once ideal. Estas buenas actuaciones le valieron la convocatoria a la seleccion nacional dirigida por Juan Reynoso, aunque no ha debutado oficialmente todavia. En ese sentido, se espera que Quispe sea de consideracion para Reynoso en los encuentros ante Bolivia y Venezuela, duelos que Peru necesita con urgencia ganar para salir del sotano de la tabla de las clasificatorias mundialistas 2026. Por otro lado, segun el portal Trasnfermarkt, el volante crema de 23 a\\xc3\\xb1os tiene una valoracion de mercado de 1 millon de euros, siendo probable que cambie de aires y de el salto al extranjero tras sus buenas actuaciones en la liga local.\\n\\nA festejar crema asi fue la premiacion de Universitario como campeon nacional 2023:\\nEl equipo crema se dispone a dar la vuelta olimpica en el campo del coloso de Ate y los canticos se escuchan '\n",
      "Target: b'remio al esfuerzo Piero Quispe fue elegido como el mejor jugador de la Liga 1 2023:\\nLuego de 10 a\\xc3\\xb1os de sequia, Universitario formo un gran plantel para gritar campeon este 2023 y una de las piezas fundamentales de este equipo fue Piero Quispe, volante que a sus 23 a\\xc3\\xb1os fue clave para el elenco dirigido por Jorge Fossati, que se llevo el titulo ante su clasico rival y este domingo recien pudo recibir el trofeo. El volante crema aporto a su equipo con cuatro goles y dos asistencias, siendo muy influyente en el estilo de juego de Fossati, quien le imprimio un gran juego en colectivo a su equipo, apoyandolo en el mediocampo con jugadores como Rodrigo Ure\\xc3\\xb1a o Jose Perez Guedes, que eran un respaldo para Quispe. Pierito tambien destaco en la campa\\xc3\\xb1a de Universitario en la Sudamericana, en donde fue elegido en una oportunidad en el once ideal. Estas buenas actuaciones le valieron la convocatoria a la seleccion nacional dirigida por Juan Reynoso, aunque no ha debutado oficialmente todavia. En ese sentido, se espera que Quispe sea de consideracion para Reynoso en los encuentros ante Bolivia y Venezuela, duelos que Peru necesita con urgencia ganar para salir del sotano de la tabla de las clasificatorias mundialistas 2026. Por otro lado, segun el portal Trasnfermarkt, el volante crema de 23 a\\xc3\\xb1os tiene una valoracion de mercado de 1 millon de euros, siendo probable que cambie de aires y de el salto al extranjero tras sus buenas actuaciones en la liga local.\\n\\nA festejar crema asi fue la premiacion de Universitario como campeon nacional 2023:\\nEl equipo crema se dispone a dar la vuelta olimpica en el campo del coloso de Ate y los canticos se escuchan d'\n"
     ]
    }
   ],
   "source": [
    "for input_example, target_example in dataset.take(1):\n",
    "    print(\"Input :\", text_from_ids(input_example).numpy())\n",
    "    print(\"Target:\", text_from_ids(target_example).numpy())"
   ]
  },
  {
   "cell_type": "code",
   "execution_count": 210,
   "metadata": {},
   "outputs": [
    {
     "data": {
      "text/plain": [
       "<_PrefetchDataset element_spec=(TensorSpec(shape=(64, 1666), dtype=tf.int64, name=None), TensorSpec(shape=(64, 1666), dtype=tf.int64, name=None))>"
      ]
     },
     "execution_count": 210,
     "metadata": {},
     "output_type": "execute_result"
    }
   ],
   "source": [
    "# Batch size\n",
    "BATCH_SIZE = 16\n",
    "\n",
    "# Buffer size to shuffle the dataset\n",
    "# (TF data is designed to work with possibly infinite sequences,\n",
    "# so it doesn't attempt to shuffle the entire sequence in memory. Instead,\n",
    "# it maintains a buffer in which it shuffles elements).\n",
    "BUFFER_SIZE = 10000\n",
    "\n",
    "dataset = (\n",
    "    dataset\n",
    "    .shuffle(BUFFER_SIZE)\n",
    "    .batch(BATCH_SIZE, drop_remainder=True)\n",
    "    .prefetch(tf.data.experimental.AUTOTUNE))\n",
    "\n",
    "dataset"
   ]
  },
  {
   "cell_type": "code",
   "execution_count": 211,
   "metadata": {},
   "outputs": [],
   "source": [
    "# Length of the vocabulary in chars\n",
    "vocab_size = len(vocab)\n",
    "\n",
    "# The embedding dimension\n",
    "embedding_dim = 256\n",
    "\n",
    "# Number of RNN units\n",
    "rnn_units = 1024"
   ]
  },
  {
   "cell_type": "code",
   "execution_count": 212,
   "metadata": {},
   "outputs": [],
   "source": [
    "class MyModel(tf.keras.Model):\n",
    "  def __init__(self, vocab_size, embedding_dim, rnn_units):\n",
    "    super().__init__(self)\n",
    "    self.embedding = tf.keras.layers.Embedding(vocab_size, embedding_dim)\n",
    "    self.gru = tf.keras.layers.GRU(rnn_units,\n",
    "                                   return_sequences=True,\n",
    "                                   return_state=True)\n",
    "    self.dense = tf.keras.layers.Dense(vocab_size)\n",
    "\n",
    "  def call(self, inputs, states=None, return_state=False, training=False):\n",
    "    x = inputs\n",
    "    x = self.embedding(x, training=training)\n",
    "    if states is None:\n",
    "      states = self.gru.get_initial_state(x)\n",
    "    x, states = self.gru(x, initial_state=states, training=training)\n",
    "    x = self.dense(x, training=training)\n",
    "\n",
    "    if return_state:\n",
    "      return x, states\n",
    "    else:\n",
    "      return x"
   ]
  },
  {
   "cell_type": "code",
   "execution_count": 213,
   "metadata": {},
   "outputs": [],
   "source": [
    "model = MyModel(\n",
    "    # Be sure the vocabulary size matches the `StringLookup` layers.\n",
    "    vocab_size=len(ids_from_chars.get_vocabulary()),\n",
    "    embedding_dim=embedding_dim,\n",
    "    rnn_units=rnn_units)"
   ]
  },
  {
   "cell_type": "code",
   "execution_count": 214,
   "metadata": {},
   "outputs": [],
   "source": [
    "for input_example_batch, target_example_batch in dataset.take(1):\n",
    "    example_batch_predictions = model(input_example_batch)\n",
    "    print(example_batch_predictions.shape, \"# (batch_size, sequence_length, vocab_size)\")"
   ]
  },
  {
   "cell_type": "code",
   "execution_count": 215,
   "metadata": {},
   "outputs": [
    {
     "ename": "ValueError",
     "evalue": "This model has not yet been built. Build the model first by calling `build()` or by calling the model on a batch of data.",
     "output_type": "error",
     "traceback": [
      "\u001b[1;31m---------------------------------------------------------------------------\u001b[0m",
      "\u001b[1;31mValueError\u001b[0m                                Traceback (most recent call last)",
      "\u001b[1;32md:\\Jesus\\NLP\\nlp-uni\\project-nlp-football\\nlp-football-generative-ai.ipynb Cell 41\u001b[0m line \u001b[0;36m1\n\u001b[1;32m----> <a href='vscode-notebook-cell:/d%3A/Jesus/NLP/nlp-uni/project-nlp-football/nlp-football-generative-ai.ipynb#Y140sZmlsZQ%3D%3D?line=0'>1</a>\u001b[0m model\u001b[39m.\u001b[39;49msummary()\n",
      "File \u001b[1;32mc:\\Users\\jpuri\\.conda\\envs\\nlp-uni\\lib\\site-packages\\keras\\src\\engine\\training.py:3482\u001b[0m, in \u001b[0;36mModel.summary\u001b[1;34m(self, line_length, positions, print_fn, expand_nested, show_trainable, layer_range)\u001b[0m\n\u001b[0;32m   3451\u001b[0m \u001b[39m\u001b[39m\u001b[39m\"\"\"Prints a string summary of the network.\u001b[39;00m\n\u001b[0;32m   3452\u001b[0m \n\u001b[0;32m   3453\u001b[0m \u001b[39mArgs:\u001b[39;00m\n\u001b[1;32m   (...)\u001b[0m\n\u001b[0;32m   3479\u001b[0m \u001b[39m    ValueError: if `summary()` is called before the model is built.\u001b[39;00m\n\u001b[0;32m   3480\u001b[0m \u001b[39m\"\"\"\u001b[39;00m\n\u001b[0;32m   3481\u001b[0m \u001b[39mif\u001b[39;00m \u001b[39mnot\u001b[39;00m \u001b[39mself\u001b[39m\u001b[39m.\u001b[39mbuilt:\n\u001b[1;32m-> 3482\u001b[0m     \u001b[39mraise\u001b[39;00m \u001b[39mValueError\u001b[39;00m(\n\u001b[0;32m   3483\u001b[0m         \u001b[39m\"\u001b[39m\u001b[39mThis model has not yet been built. \u001b[39m\u001b[39m\"\u001b[39m\n\u001b[0;32m   3484\u001b[0m         \u001b[39m\"\u001b[39m\u001b[39mBuild the model first by calling `build()` or by calling \u001b[39m\u001b[39m\"\u001b[39m\n\u001b[0;32m   3485\u001b[0m         \u001b[39m\"\u001b[39m\u001b[39mthe model on a batch of data.\u001b[39m\u001b[39m\"\u001b[39m\n\u001b[0;32m   3486\u001b[0m     )\n\u001b[0;32m   3487\u001b[0m layer_utils\u001b[39m.\u001b[39mprint_summary(\n\u001b[0;32m   3488\u001b[0m     \u001b[39mself\u001b[39m,\n\u001b[0;32m   3489\u001b[0m     line_length\u001b[39m=\u001b[39mline_length,\n\u001b[1;32m   (...)\u001b[0m\n\u001b[0;32m   3494\u001b[0m     layer_range\u001b[39m=\u001b[39mlayer_range,\n\u001b[0;32m   3495\u001b[0m )\n",
      "\u001b[1;31mValueError\u001b[0m: This model has not yet been built. Build the model first by calling `build()` or by calling the model on a batch of data."
     ]
    }
   ],
   "source": [
    "model.summary()"
   ]
  },
  {
   "cell_type": "markdown",
   "metadata": {},
   "source": [
    "### Train the model"
   ]
  },
  {
   "cell_type": "code",
   "execution_count": 182,
   "metadata": {},
   "outputs": [],
   "source": [
    "loss = tf.losses.SparseCategoricalCrossentropy(from_logits=True)"
   ]
  },
  {
   "cell_type": "code",
   "execution_count": 184,
   "metadata": {},
   "outputs": [],
   "source": [
    "model.compile(optimizer='adam', loss=loss)"
   ]
  },
  {
   "cell_type": "code",
   "execution_count": 186,
   "metadata": {},
   "outputs": [],
   "source": [
    "# Directory where the checkpoints will be saved\n",
    "checkpoint_dir = './training_checkpoints'\n",
    "# Name of the checkpoint files\n",
    "checkpoint_prefix = os.path.join(checkpoint_dir, \"ckpt_{epoch}\")\n",
    "\n",
    "checkpoint_callback = tf.keras.callbacks.ModelCheckpoint(\n",
    "    filepath=checkpoint_prefix,\n",
    "    save_weights_only=True)"
   ]
  },
  {
   "cell_type": "code",
   "execution_count": null,
   "metadata": {},
   "outputs": [],
   "source": [
    "history = model.fit(dataset, epochs=20, callbacks=[checkpoint_callback])"
   ]
  },
  {
   "cell_type": "code",
   "execution_count": 189,
   "metadata": {},
   "outputs": [],
   "source": [
    "class OneStep(tf.keras.Model):\n",
    "  def __init__(self, model, chars_from_ids, ids_from_chars, temperature=1.0):\n",
    "    super().__init__()\n",
    "    self.temperature = temperature\n",
    "    self.model = model\n",
    "    self.chars_from_ids = chars_from_ids\n",
    "    self.ids_from_chars = ids_from_chars\n",
    "\n",
    "    # Create a mask to prevent \"[UNK]\" from being generated.\n",
    "    skip_ids = self.ids_from_chars(['[UNK]'])[:, None]\n",
    "    sparse_mask = tf.SparseTensor(\n",
    "        # Put a -inf at each bad index.\n",
    "        values=[-float('inf')]*len(skip_ids),\n",
    "        indices=skip_ids,\n",
    "        # Match the shape to the vocabulary\n",
    "        dense_shape=[len(ids_from_chars.get_vocabulary())])\n",
    "    self.prediction_mask = tf.sparse.to_dense(sparse_mask)\n",
    "\n",
    "  @tf.function\n",
    "  def generate_one_step(self, inputs, states=None):\n",
    "    # Convert strings to token IDs.\n",
    "    input_chars = tf.strings.unicode_split(inputs, 'UTF-8')\n",
    "    input_ids = self.ids_from_chars(input_chars).to_tensor()\n",
    "\n",
    "    # Run the model.\n",
    "    # predicted_logits.shape is [batch, char, next_char_logits]\n",
    "    predicted_logits, states = self.model(inputs=input_ids, states=states,\n",
    "                                          return_state=True)\n",
    "    # Only use the last prediction.\n",
    "    predicted_logits = predicted_logits[:, -1, :]\n",
    "    predicted_logits = predicted_logits/self.temperature\n",
    "    # Apply the prediction mask: prevent \"[UNK]\" from being generated.\n",
    "    predicted_logits = predicted_logits + self.prediction_mask\n",
    "\n",
    "    # Sample the output logits to generate token IDs.\n",
    "    predicted_ids = tf.random.categorical(predicted_logits, num_samples=1)\n",
    "    predicted_ids = tf.squeeze(predicted_ids, axis=-1)\n",
    "\n",
    "    # Convert from token ids to characters\n",
    "    predicted_chars = self.chars_from_ids(predicted_ids)\n",
    "\n",
    "    # Return the characters and model state.\n",
    "    return predicted_chars, states"
   ]
  },
  {
   "cell_type": "code",
   "execution_count": null,
   "metadata": {},
   "outputs": [],
   "source": [
    "one_step_model = OneStep(model, chars_from_ids, ids_from_chars)"
   ]
  },
  {
   "cell_type": "code",
   "execution_count": null,
   "metadata": {},
   "outputs": [],
   "source": [
    "start = time.time()\n",
    "states = None\n",
    "next_char = tf.constant(['Universitario ganó la final:'])\n",
    "result = [next_char]\n",
    "\n",
    "for n in range(1000):\n",
    "  next_char, states = one_step_model.generate_one_step(next_char, states=states)\n",
    "  result.append(next_char)\n",
    "\n",
    "result = tf.strings.join(result)\n",
    "end = time.time()\n",
    "print(result[0].numpy().decode('utf-8'), '\\n\\n' + '_'*80)\n",
    "print('\\nRun time:', end - start)"
   ]
  }
 ],
 "metadata": {
  "kernelspec": {
   "display_name": "nlp-uni",
   "language": "python",
   "name": "python3"
  },
  "language_info": {
   "codemirror_mode": {
    "name": "ipython",
    "version": 3
   },
   "file_extension": ".py",
   "mimetype": "text/x-python",
   "name": "python",
   "nbconvert_exporter": "python",
   "pygments_lexer": "ipython3",
   "version": "3.10.13"
  }
 },
 "nbformat": 4,
 "nbformat_minor": 2
}
