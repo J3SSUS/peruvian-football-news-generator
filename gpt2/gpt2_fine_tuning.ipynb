{
  "cells": [
    {
      "cell_type": "markdown",
      "metadata": {
        "id": "view-in-github",
        "colab_type": "text"
      },
      "source": [
        "<a href=\"https://colab.research.google.com/github/J3SSUS/peruvian-football-news-generator/blob/main/gpt2/gpt2_fine_tuning.ipynb\" target=\"_parent\"><img src=\"https://colab.research.google.com/assets/colab-badge.svg\" alt=\"Open In Colab\"/></a>"
      ]
    },
    {
      "cell_type": "markdown",
      "metadata": {
        "id": "x4uwMJjuTn1m"
      },
      "source": [
        "# GPT2 - Peruvian Football News Article Generator"
      ]
    },
    {
      "cell_type": "code",
      "execution_count": null,
      "metadata": {
        "colab": {
          "base_uri": "https://localhost:8080/"
        },
        "id": "qRQRGZeeTn1r",
        "outputId": "565267fd-04c2-41fe-c635-04230658134d"
      },
      "outputs": [
        {
          "output_type": "stream",
          "name": "stdout",
          "text": [
            "Requirement already satisfied: torch in /usr/local/lib/python3.10/dist-packages (2.1.0+cu118)\n",
            "Requirement already satisfied: filelock in /usr/local/lib/python3.10/dist-packages (from torch) (3.13.1)\n",
            "Requirement already satisfied: typing-extensions in /usr/local/lib/python3.10/dist-packages (from torch) (4.5.0)\n",
            "Requirement already satisfied: sympy in /usr/local/lib/python3.10/dist-packages (from torch) (1.12)\n",
            "Requirement already satisfied: networkx in /usr/local/lib/python3.10/dist-packages (from torch) (3.2.1)\n",
            "Requirement already satisfied: jinja2 in /usr/local/lib/python3.10/dist-packages (from torch) (3.1.2)\n",
            "Requirement already satisfied: fsspec in /usr/local/lib/python3.10/dist-packages (from torch) (2023.6.0)\n",
            "Requirement already satisfied: triton==2.1.0 in /usr/local/lib/python3.10/dist-packages (from torch) (2.1.0)\n",
            "Requirement already satisfied: MarkupSafe>=2.0 in /usr/local/lib/python3.10/dist-packages (from jinja2->torch) (2.1.3)\n",
            "Requirement already satisfied: mpmath>=0.19 in /usr/local/lib/python3.10/dist-packages (from sympy->torch) (1.3.0)\n"
          ]
        }
      ],
      "source": [
        "!pip install torch"
      ]
    },
    {
      "cell_type": "code",
      "execution_count": null,
      "metadata": {
        "colab": {
          "base_uri": "https://localhost:8080/"
        },
        "id": "DeNRBY-JTn1u",
        "outputId": "a9176c57-f13b-49c4-d6e9-527feda61050"
      },
      "outputs": [
        {
          "output_type": "stream",
          "name": "stdout",
          "text": [
            "Collecting git+https://github.com/huggingface/transformers\n",
            "  Cloning https://github.com/huggingface/transformers to /tmp/pip-req-build-quzy7q8f\n",
            "  Running command git clone --filter=blob:none --quiet https://github.com/huggingface/transformers /tmp/pip-req-build-quzy7q8f\n",
            "  Resolved https://github.com/huggingface/transformers to commit 2fc33ebead50383f7707b17f0e2a178d86347d10\n",
            "  Installing build dependencies ... \u001b[?25l\u001b[?25hdone\n",
            "  Getting requirements to build wheel ... \u001b[?25l\u001b[?25hdone\n",
            "  Preparing metadata (pyproject.toml) ... \u001b[?25l\u001b[?25hdone\n",
            "Requirement already satisfied: filelock in /usr/local/lib/python3.10/dist-packages (from transformers==4.36.0.dev0) (3.13.1)\n",
            "Collecting huggingface-hub<1.0,>=0.16.4 (from transformers==4.36.0.dev0)\n",
            "  Downloading huggingface_hub-0.19.1-py3-none-any.whl (311 kB)\n",
            "\u001b[2K     \u001b[90m━━━━━━━━━━━━━━━━━━━━━━━━━━━━━━━━━━━━━━━━\u001b[0m \u001b[32m311.1/311.1 kB\u001b[0m \u001b[31m5.2 MB/s\u001b[0m eta \u001b[36m0:00:00\u001b[0m\n",
            "\u001b[?25hRequirement already satisfied: numpy>=1.17 in /usr/local/lib/python3.10/dist-packages (from transformers==4.36.0.dev0) (1.23.5)\n",
            "Requirement already satisfied: packaging>=20.0 in /usr/local/lib/python3.10/dist-packages (from transformers==4.36.0.dev0) (23.2)\n",
            "Requirement already satisfied: pyyaml>=5.1 in /usr/local/lib/python3.10/dist-packages (from transformers==4.36.0.dev0) (6.0.1)\n",
            "Requirement already satisfied: regex!=2019.12.17 in /usr/local/lib/python3.10/dist-packages (from transformers==4.36.0.dev0) (2023.6.3)\n",
            "Requirement already satisfied: requests in /usr/local/lib/python3.10/dist-packages (from transformers==4.36.0.dev0) (2.31.0)\n",
            "Collecting tokenizers<0.15,>=0.14 (from transformers==4.36.0.dev0)\n",
            "  Downloading tokenizers-0.14.1-cp310-cp310-manylinux_2_17_x86_64.manylinux2014_x86_64.whl (3.8 MB)\n",
            "\u001b[2K     \u001b[90m━━━━━━━━━━━━━━━━━━━━━━━━━━━━━━━━━━━━━━━━\u001b[0m \u001b[32m3.8/3.8 MB\u001b[0m \u001b[31m17.5 MB/s\u001b[0m eta \u001b[36m0:00:00\u001b[0m\n",
            "\u001b[?25hCollecting safetensors>=0.3.1 (from transformers==4.36.0.dev0)\n",
            "  Downloading safetensors-0.4.0-cp310-cp310-manylinux_2_17_x86_64.manylinux2014_x86_64.whl (1.3 MB)\n",
            "\u001b[2K     \u001b[90m━━━━━━━━━━━━━━━━━━━━━━━━━━━━━━━━━━━━━━━━\u001b[0m \u001b[32m1.3/1.3 MB\u001b[0m \u001b[31m34.0 MB/s\u001b[0m eta \u001b[36m0:00:00\u001b[0m\n",
            "\u001b[?25hRequirement already satisfied: tqdm>=4.27 in /usr/local/lib/python3.10/dist-packages (from transformers==4.36.0.dev0) (4.66.1)\n",
            "Requirement already satisfied: fsspec>=2023.5.0 in /usr/local/lib/python3.10/dist-packages (from huggingface-hub<1.0,>=0.16.4->transformers==4.36.0.dev0) (2023.6.0)\n",
            "Requirement already satisfied: typing-extensions>=3.7.4.3 in /usr/local/lib/python3.10/dist-packages (from huggingface-hub<1.0,>=0.16.4->transformers==4.36.0.dev0) (4.5.0)\n",
            "Collecting huggingface-hub<1.0,>=0.16.4 (from transformers==4.36.0.dev0)\n",
            "  Downloading huggingface_hub-0.17.3-py3-none-any.whl (295 kB)\n",
            "\u001b[2K     \u001b[90m━━━━━━━━━━━━━━━━━━━━━━━━━━━━━━━━━━━━━━━━\u001b[0m \u001b[32m295.0/295.0 kB\u001b[0m \u001b[31m38.3 MB/s\u001b[0m eta \u001b[36m0:00:00\u001b[0m\n",
            "\u001b[?25hRequirement already satisfied: charset-normalizer<4,>=2 in /usr/local/lib/python3.10/dist-packages (from requests->transformers==4.36.0.dev0) (3.3.2)\n",
            "Requirement already satisfied: idna<4,>=2.5 in /usr/local/lib/python3.10/dist-packages (from requests->transformers==4.36.0.dev0) (3.4)\n",
            "Requirement already satisfied: urllib3<3,>=1.21.1 in /usr/local/lib/python3.10/dist-packages (from requests->transformers==4.36.0.dev0) (2.0.7)\n",
            "Requirement already satisfied: certifi>=2017.4.17 in /usr/local/lib/python3.10/dist-packages (from requests->transformers==4.36.0.dev0) (2023.7.22)\n",
            "Building wheels for collected packages: transformers\n",
            "  Building wheel for transformers (pyproject.toml) ... \u001b[?25l\u001b[?25hdone\n",
            "  Created wheel for transformers: filename=transformers-4.36.0.dev0-py3-none-any.whl size=7995423 sha256=f3d5190c42e4bfe54369ce1fcdbfd78221437c1d134e7db442647dcdf398b5c7\n",
            "  Stored in directory: /tmp/pip-ephem-wheel-cache-qpunla0_/wheels/c0/14/d6/6c9a5582d2ac191ec0a483be151a4495fe1eb2a6706ca49f1b\n",
            "Successfully built transformers\n",
            "Installing collected packages: safetensors, huggingface-hub, tokenizers, transformers\n",
            "Successfully installed huggingface-hub-0.17.3 safetensors-0.4.0 tokenizers-0.14.1 transformers-4.36.0.dev0\n"
          ]
        }
      ],
      "source": [
        "!pip install git+https://github.com/huggingface/transformers"
      ]
    },
    {
      "cell_type": "code",
      "execution_count": null,
      "metadata": {
        "id": "peiquwYpTn1v"
      },
      "outputs": [],
      "source": [
        "import os\n",
        "import time\n",
        "import datetime\n",
        "\n",
        "import numpy as np\n",
        "import random\n",
        "from tqdm import tqdm\n",
        "import torch\n",
        "from torch.utils.data import Dataset, DataLoader, random_split, RandomSampler\n",
        "\n",
        "from transformers import AutoTokenizer, AutoModelForCausalLM\n",
        "from transformers import AdamW, get_linear_schedule_with_warmup"
      ]
    },
    {
      "cell_type": "code",
      "execution_count": null,
      "metadata": {
        "colab": {
          "base_uri": "https://localhost:8080/"
        },
        "id": "xoH3SVWyTn1w",
        "outputId": "59dbb630-1ef4-42b0-ffbe-259c9a5b7659"
      },
      "outputs": [
        {
          "output_type": "stream",
          "name": "stdout",
          "text": [
            "Usar GPU\n"
          ]
        }
      ],
      "source": [
        "# Set the seed value all over the place to make this reproducible.\n",
        "seed_val = 42\n",
        "random.seed(seed_val)\n",
        "np.random.seed(seed_val)\n",
        "\n",
        "if torch.cuda.is_available():\n",
        "    print(\"Usar GPU\")\n",
        "    torch.manual_seed(seed_val)\n",
        "    torch.cuda.manual_seed_all(seed_val)\n",
        "    # Tell pytorch to run this model on the GPU.\n",
        "    device = torch.device(\"cuda\")\n",
        "    batch_size = 3\n",
        "\n",
        "else:\n",
        "    print(\"usar CPU\")\n",
        "    device = torch.device(\"cpu\")\n",
        "    batch_size = 1"
      ]
    },
    {
      "cell_type": "code",
      "execution_count": null,
      "metadata": {
        "colab": {
          "base_uri": "https://localhost:8080/",
          "height": 113,
          "referenced_widgets": [
            "43de2b7c9ddc40a7bbf9dbb7f8bcd7fa",
            "b947250e51134606865c878e3f6e4114",
            "4f19dc44ddce4557b59440bae0f78a77",
            "aa76c5a09d5c42e09b0304083a7ff081",
            "d49b9177ea32425fb1367169455d5e38",
            "71cf05ad8a1144c3b739f2a8607993a5",
            "095bd29efadc4b4fab36e5d169852a30",
            "b2bcdf5b057d4d598f70f7e7adf77b5d",
            "8cfad39b300d461aa1954908ca7db1b8",
            "82f8e0fdc7004888868a1f67f88953bd",
            "1241a5fb92f04cc1b136e318d1e387d5",
            "10921936f5fc4c39a9adcb5520acc024",
            "8a6eec0855bf4d3abbbcde88f7d3f589",
            "b527fd2cbf5b40b9a3e41d6df6b0ff2c",
            "65f0abc7b95f46b1a849113ec3a8dae1",
            "b8d24f5db0cb4e29ac994436623013dc",
            "2816d036978c43d2a15cce160170dc3e",
            "38fdeb983fcc4256bece475a50ea5986",
            "e3b99e573ac24faaa36433efc0ab93fe",
            "f0d067f3536c42c5a876d2214bca26a3",
            "aa17e45e880344a5bcc48a171626fe97",
            "3ca60821711e4490953e1a1514e80a60",
            "7551795fd5f4404eb528864afcad4623",
            "600b489caef8447cb9b0a0f0235fee51",
            "12fd6a638902488da8d175bbd712252a",
            "b51d91bb54034b64b8123f76e4d76b54",
            "4b8ea337e1dc41e79927b2497c3d2ca1",
            "9ca03610f95d4573943684fa580d891c",
            "a3ff2f3c525846519b74f05959e60b3a",
            "cff7abdd0fc64fb2911b24b8c3b06dd7",
            "98b68d91a348465eb6ba74e1846a5e27",
            "70078ac9a9ee4858a0ad60b722fbec43",
            "38e3df1b3aba41c9adb931bc2c3b4e3a"
          ]
        },
        "id": "tHMdi7fvTn1x",
        "outputId": "919bce77-fb3b-4812-dcfd-d4120283fbb0"
      },
      "outputs": [
        {
          "output_type": "display_data",
          "data": {
            "text/plain": [
              "Downloading (…)lve/main/config.json:   0%|          | 0.00/811 [00:00<?, ?B/s]"
            ],
            "application/vnd.jupyter.widget-view+json": {
              "version_major": 2,
              "version_minor": 0,
              "model_id": "43de2b7c9ddc40a7bbf9dbb7f8bcd7fa"
            }
          },
          "metadata": {}
        },
        {
          "output_type": "display_data",
          "data": {
            "text/plain": [
              "Downloading (…)/main/tokenizer.json:   0%|          | 0.00/1.46M [00:00<?, ?B/s]"
            ],
            "application/vnd.jupyter.widget-view+json": {
              "version_major": 2,
              "version_minor": 0,
              "model_id": "10921936f5fc4c39a9adcb5520acc024"
            }
          },
          "metadata": {}
        },
        {
          "output_type": "display_data",
          "data": {
            "text/plain": [
              "Downloading model.safetensors:   0%|          | 0.00/510M [00:00<?, ?B/s]"
            ],
            "application/vnd.jupyter.widget-view+json": {
              "version_major": 2,
              "version_minor": 0,
              "model_id": "7551795fd5f4404eb528864afcad4623"
            }
          },
          "metadata": {}
        }
      ],
      "source": [
        "# Load the GPT tokenizer.\n",
        "\n",
        "tokenizer = AutoTokenizer.from_pretrained(\"flax-community/gpt-2-spanish\", bos_token='<|startoftext|>', eos_token='<|endoftext|>', pad_token='<|pad|>')\n",
        "\n",
        "model = AutoModelForCausalLM.from_pretrained(\"flax-community/gpt-2-spanish\")\n",
        "\n",
        "# control_code = \"ibai\"\n",
        "\n",
        "# special_tokens_dict = {\n",
        "#          \"additional_special_tokens\": ['f\"<|{control_code}|>\"'],\n",
        "# }\n",
        "# num_added_toks = tokenizer.add_special_tokens(special_tokens_dict)\n",
        "model.resize_token_embeddings(len(tokenizer))\n",
        "unk_tok_emb = model.transformer.wte.weight.data[tokenizer.unk_token_id, :]\n",
        "# for i in range(num_added_toks):\n",
        "#         model.transformer.wte.weight.data[-(i+1), :] = unk_tok_emb"
      ]
    },
    {
      "cell_type": "code",
      "execution_count": null,
      "metadata": {
        "id": "ZLl233l9Tn1y"
      },
      "outputs": [],
      "source": [
        "class GPT2Dataset(Dataset):\n",
        "\n",
        "    def __init__(self, tokenizer, archivo_texto = 'all.txt', max_length=768):\n",
        "\n",
        "        self.tokenizer = tokenizer\n",
        "        self.input_ids = []\n",
        "        self.attn_masks = []\n",
        "\n",
        "        print('loading text...')\n",
        "        sentences = open(archivo_texto, 'r', encoding=\"utf-8\").read().lower().split('\\n')\n",
        "        print('qty:',len(sentences))\n",
        "\n",
        "        for row in tqdm(sentences):\n",
        "            encodings_dict = tokenizer('<|startoftext|>'+ row + '<|endoftext|>', truncation=True, max_length=max_length, padding=\"max_length\")\n",
        "            self.input_ids.append(torch.tensor(encodings_dict['input_ids']))\n",
        "            self.attn_masks.append(torch.tensor(encodings_dict['attention_mask']))\n",
        "\n",
        "    def __len__(self):\n",
        "        return len(self.input_ids)\n",
        "\n",
        "    def __getitem__(self, idx):\n",
        "        return self.input_ids[idx], self.attn_masks[idx]"
      ]
    },
    {
      "cell_type": "code",
      "source": [
        "from google.colab import drive\n",
        "drive.mount('/content/drive')"
      ],
      "metadata": {
        "colab": {
          "base_uri": "https://localhost:8080/"
        },
        "id": "6j_pBjC1ViQD",
        "outputId": "3e2d71d5-fcc6-40f0-a249-af1b9a869066"
      },
      "execution_count": null,
      "outputs": [
        {
          "output_type": "stream",
          "name": "stdout",
          "text": [
            "Mounted at /content/drive\n"
          ]
        }
      ]
    },
    {
      "cell_type": "code",
      "execution_count": null,
      "metadata": {
        "colab": {
          "base_uri": "https://localhost:8080/"
        },
        "id": "Y9ymDATvTn1z",
        "outputId": "f52fe709-a8b5-4ec1-e46f-85f354483c25"
      },
      "outputs": [
        {
          "output_type": "stream",
          "name": "stdout",
          "text": [
            "loading text...\n",
            "qty: 595\n"
          ]
        },
        {
          "output_type": "stream",
          "name": "stderr",
          "text": [
            "100%|██████████| 595/595 [00:00<00:00, 981.07it/s]"
          ]
        },
        {
          "output_type": "stream",
          "name": "stdout",
          "text": [
            "  589 training samples\n",
            "    6 validation samples\n"
          ]
        },
        {
          "output_type": "stream",
          "name": "stderr",
          "text": [
            "\n"
          ]
        }
      ],
      "source": [
        "dataset = GPT2Dataset(tokenizer, archivo_texto=\"/content/drive/MyDrive/nlp/project-nlp-football/gtp2/gtp2_peruvian_football_news.txt\", max_length=768)\n",
        "\n",
        "# Split into training and validation sets\n",
        "train_size = int(0.99 * len(dataset))\n",
        "val_size = len(dataset) - train_size\n",
        "\n",
        "train_dataset, val_dataset = random_split(dataset, [train_size, val_size])\n",
        "\n",
        "print('{:>5,} training samples'.format(train_size))\n",
        "print('{:>5,} validation samples'.format(val_size))\n",
        "\n",
        "train_dataloader = DataLoader(\n",
        "            train_dataset,  # The training samples.\n",
        "            sampler = RandomSampler(train_dataset), # Select batches randomly\n",
        "            batch_size = batch_size # Trains with this batch size.\n",
        "        )"
      ]
    },
    {
      "cell_type": "code",
      "execution_count": null,
      "metadata": {
        "id": "JL30sn-vTn10"
      },
      "outputs": [],
      "source": [
        "# some parameters to train\n",
        "epochs = 20\n",
        "learning_rate = 5e-4\n",
        "warmup_steps = 1e2\n",
        "epsilon = 1e-8\n",
        "# this produces sample output every x steps\n",
        "sample_every = 500\n",
        "# Note: AdamW is a class from the huggingface library (as opposed to pytorch)\n",
        "optimizer = torch.optim.AdamW(model.parameters(),\n",
        "                  lr = learning_rate,\n",
        "                  eps = epsilon\n",
        "                )\n",
        "# Total number of training steps is [number of batches] x [number of epochs].\n",
        "# (Note that this is not the same as the number of training samples).\n",
        "total_steps = len(train_dataloader) * epochs\n",
        "\n",
        "# Create the learning rate scheduler.\n",
        "# This changes the learning rate as the training loop progresses\n",
        "scheduler = get_linear_schedule_with_warmup(optimizer,\n",
        "                                            num_warmup_steps = warmup_steps,\n",
        "                                            num_training_steps = total_steps)\n",
        "\n",
        "def format_time(elapsed):\n",
        "    return str(datetime.timedelta(seconds=int(round((elapsed)))))\n"
      ]
    },
    {
      "cell_type": "markdown",
      "source": [
        "## Fine-tuning GPT2"
      ],
      "metadata": {
        "id": "chFiQ2dKzEz7"
      }
    },
    {
      "cell_type": "code",
      "execution_count": null,
      "metadata": {
        "colab": {
          "base_uri": "https://localhost:8080/"
        },
        "id": "YwMpXBw5Tn11",
        "outputId": "3b54cced-88cc-4011-8569-ed6d31ef67db"
      },
      "outputs": [
        {
          "output_type": "stream",
          "name": "stdout",
          "text": [
            "\n",
            "======== Epoch 1 / 20 ========\n",
            "Training...\n",
            "\n",
            "  Average training loss: 1.43\n",
            "  Training epoch took: 0:02:18\n",
            "\n",
            "======== Epoch 2 / 20 ========\n",
            "Training...\n",
            "\n",
            "  Average training loss: 0.76\n",
            "  Training epoch took: 0:02:22\n",
            "\n",
            "======== Epoch 3 / 20 ========\n",
            "Training...\n",
            "\n",
            "  Average training loss: 0.67\n",
            "  Training epoch took: 0:02:22\n",
            "\n",
            "======== Epoch 4 / 20 ========\n",
            "Training...\n",
            "\n",
            "  Average training loss: 0.60\n",
            "  Training epoch took: 0:02:22\n",
            "\n",
            "======== Epoch 5 / 20 ========\n",
            "Training...\n",
            "\n",
            "  Average training loss: 0.52\n",
            "  Training epoch took: 0:02:22\n",
            "\n",
            "======== Epoch 6 / 20 ========\n",
            "Training...\n",
            "\n",
            "  Average training loss: 0.44\n",
            "  Training epoch took: 0:02:22\n",
            "\n",
            "======== Epoch 7 / 20 ========\n",
            "Training...\n",
            "\n",
            "  Average training loss: 0.36\n",
            "  Training epoch took: 0:02:22\n",
            "\n",
            "======== Epoch 8 / 20 ========\n",
            "Training...\n",
            "\n",
            "  Average training loss: 0.27\n",
            "  Training epoch took: 0:02:22\n",
            "\n",
            "======== Epoch 9 / 20 ========\n",
            "Training...\n",
            "\n",
            "  Average training loss: 0.19\n",
            "  Training epoch took: 0:02:22\n",
            "\n",
            "======== Epoch 10 / 20 ========\n",
            "Training...\n",
            "\n",
            "  Average training loss: 0.13\n",
            "  Training epoch took: 0:02:22\n",
            "\n",
            "======== Epoch 11 / 20 ========\n",
            "Training...\n",
            "\n",
            "  Average training loss: 0.09\n",
            "  Training epoch took: 0:02:22\n",
            "\n",
            "======== Epoch 12 / 20 ========\n",
            "Training...\n",
            "\n",
            "  Average training loss: 0.06\n",
            "  Training epoch took: 0:02:22\n",
            "\n",
            "======== Epoch 13 / 20 ========\n",
            "Training...\n",
            "\n",
            "  Average training loss: 0.04\n",
            "  Training epoch took: 0:02:22\n",
            "\n",
            "======== Epoch 14 / 20 ========\n",
            "Training...\n",
            "\n",
            "  Average training loss: 0.03\n",
            "  Training epoch took: 0:02:22\n",
            "\n",
            "======== Epoch 15 / 20 ========\n",
            "Training...\n",
            "\n",
            "  Average training loss: 0.02\n",
            "  Training epoch took: 0:02:22\n",
            "\n",
            "======== Epoch 16 / 20 ========\n",
            "Training...\n",
            "\n",
            "  Average training loss: 0.02\n",
            "  Training epoch took: 0:02:22\n",
            "\n",
            "======== Epoch 17 / 20 ========\n",
            "Training...\n",
            "\n",
            "  Average training loss: 0.01\n",
            "  Training epoch took: 0:02:22\n",
            "\n",
            "======== Epoch 18 / 20 ========\n",
            "Training...\n",
            "\n",
            "  Average training loss: 0.01\n",
            "  Training epoch took: 0:02:22\n",
            "\n",
            "======== Epoch 19 / 20 ========\n",
            "Training...\n",
            "\n",
            "  Average training loss: 0.01\n",
            "  Training epoch took: 0:02:22\n",
            "\n",
            "======== Epoch 20 / 20 ========\n",
            "Training...\n",
            "\n",
            "  Average training loss: 0.01\n",
            "  Training epoch took: 0:02:22\n",
            "\n",
            "Training complete!\n",
            "Total training took 0:47:23 (h:mm:ss)\n"
          ]
        }
      ],
      "source": [
        "total_t0 = time.time()\n",
        "\n",
        "model = model.to(device)\n",
        "\n",
        "for epoch_i in range(0, epochs):\n",
        "    print(\"\")\n",
        "    print('======== Epoch {:} / {:} ========'.format(epoch_i + 1, epochs))\n",
        "    print('Training...')\n",
        "\n",
        "    t0 = time.time()\n",
        "    total_train_loss = 0\n",
        "\n",
        "    model.train()\n",
        "\n",
        "    for step, batch in enumerate(train_dataloader):\n",
        "\n",
        "        b_input_ids = batch[0].to(device)\n",
        "        b_labels = batch[0].to(device)\n",
        "        b_masks = batch[1].to(device)\n",
        "\n",
        "        model.zero_grad()\n",
        "\n",
        "        outputs = model(  b_input_ids,\n",
        "                          labels=b_labels,\n",
        "                          attention_mask = b_masks,\n",
        "                          token_type_ids=None\n",
        "                        )\n",
        "\n",
        "        loss = outputs[0]\n",
        "        batch_loss = loss.item()\n",
        "        total_train_loss += batch_loss\n",
        "\n",
        "        # Get sample every x batches.\n",
        "        if step % sample_every == 0 and not step == 0:\n",
        "\n",
        "            elapsed = format_time(time.time() - t0)\n",
        "            print('  Batch {:>5,}  of  {:>5,}. Loss: {:>5,}.   Elapsed: {:}.'.format(step, len(train_dataloader), batch_loss, elapsed))\n",
        "\n",
        "            model.eval()\n",
        "\n",
        "            sample_outputs = model.generate(\n",
        "                                    bos_token_id=random.randint(1,30000),\n",
        "                                    do_sample=True,\n",
        "                                    top_k=50,\n",
        "                                    max_length = 200,\n",
        "                                    top_p=0.95,\n",
        "                                    num_return_sequences=1\n",
        "                                )\n",
        "            for i, sample_output in enumerate(sample_outputs):\n",
        "                  print(\"{}: {}\".format(i, tokenizer.decode(sample_output, skip_special_tokens=True)))\n",
        "\n",
        "            model.train()\n",
        "\n",
        "        loss.backward()\n",
        "        optimizer.step()\n",
        "        scheduler.step()\n",
        "\n",
        "    # Calculate the average loss over all of the batches.\n",
        "    avg_train_loss = total_train_loss / len(train_dataloader)\n",
        "\n",
        "    # Measure how long this epoch took.\n",
        "    training_time = format_time(time.time() - t0)\n",
        "\n",
        "    print(\"\")\n",
        "    print(\"  Average training loss: {0:.2f}\".format(avg_train_loss))\n",
        "    print(\"  Training epoch took: {:}\".format(training_time))\n",
        "\n",
        "    t0 = time.time()\n",
        "\n",
        "    total_eval_loss = 0\n",
        "    nb_eval_steps = 0\n",
        "\n",
        "print(\"\")\n",
        "print(\"Training complete!\")\n",
        "print(\"Total training took {:} (h:mm:ss)\".format(format_time(time.time()-total_t0)))\n",
        "#Average training loss: 0.28\n",
        "#Training epoch took: 1:23:32 mode_save2 va bastante bien, solo 1 epoch"
      ]
    },
    {
      "cell_type": "code",
      "execution_count": null,
      "metadata": {
        "colab": {
          "base_uri": "https://localhost:8080/"
        },
        "id": "vd7vdq1GTn12",
        "outputId": "eeee5d72-3f60-49b9-bbbe-84edb34390b1"
      },
      "outputs": [
        {
          "output_type": "stream",
          "name": "stdout",
          "text": [
            "Saving model to /content/drive/MyDrive/nlp/project-nlp-football/gtp2/model\n"
          ]
        },
        {
          "output_type": "execute_result",
          "data": {
            "text/plain": [
              "('/content/drive/MyDrive/nlp/project-nlp-football/gtp2/model/tokenizer_config.json',\n",
              " '/content/drive/MyDrive/nlp/project-nlp-football/gtp2/model/special_tokens_map.json',\n",
              " '/content/drive/MyDrive/nlp/project-nlp-football/gtp2/model/vocab.json',\n",
              " '/content/drive/MyDrive/nlp/project-nlp-football/gtp2/model/merges.txt',\n",
              " '/content/drive/MyDrive/nlp/project-nlp-football/gtp2/model/added_tokens.json',\n",
              " '/content/drive/MyDrive/nlp/project-nlp-football/gtp2/model/tokenizer.json')"
            ]
          },
          "metadata": {},
          "execution_count": 11
        }
      ],
      "source": [
        "# Saving best-practices: if you use defaults names for the model, you can reload it using from_pretrained()\n",
        "output_dir = '/content/drive/MyDrive/nlp/project-nlp-football/gtp2/model'\n",
        "\n",
        "# Create output directory if needed\n",
        "if not os.path.exists(output_dir):\n",
        "    os.makedirs(output_dir)\n",
        "\n",
        "print(\"Saving model to %s\" % output_dir)\n",
        "\n",
        "# Save a trained model, configuration and tokenizer using `save_pretrained()`.\n",
        "# They can then be reloaded using `from_pretrained()`\n",
        "model_to_save = model.module if hasattr(model, 'module') else model  # Take care of distributed/parallel training\n",
        "model_to_save.save_pretrained(output_dir)\n",
        "tokenizer.save_pretrained(output_dir)"
      ]
    },
    {
      "cell_type": "markdown",
      "source": [
        "## Inference"
      ],
      "metadata": {
        "id": "MDhYwkBezKVU"
      }
    },
    {
      "cell_type": "markdown",
      "source": [
        "### 1 epoch"
      ],
      "metadata": {
        "id": "ll92k-18kE18"
      }
    },
    {
      "cell_type": "code",
      "execution_count": null,
      "metadata": {
        "colab": {
          "base_uri": "https://localhost:8080/"
        },
        "id": "jSq5tbCeTn13",
        "outputId": "4f26b35b-4513-4c6e-993d-440ca184f8fe"
      },
      "outputs": [
        {
          "output_type": "stream",
          "name": "stderr",
          "text": [
            "The attention mask and the pad token id were not set. As a consequence, you may observe unexpected behavior. Please pass your input's `attention_mask` to obtain reliable results.\n",
            "Setting `pad_token_id` to `eos_token_id`:50256 for open-end generation.\n"
          ]
        },
        {
          "output_type": "stream",
          "name": "stdout",
          "text": [
            "0: Universitario ganó la final del torneo Clausura tras vencer al San José 1 por 3. Los celestes, dirigidos por la dupla entre el argentino Miguel Ponce y el uruguayo Miguel Ángel Álvarez, jugaron una final más y, para este momento, tendrán que ganar la segunda categoría de la institución para volver a ser el primero en disputar este torneo.\n",
            "Universitario consiguió la victoria por 4-3 ante San José y la final, en un partido muy duro. La vuelta a la final será este miércoles, desde las 20:00 horas de Perú en el estadio Carlos Ugalde y será transmitida por DIRECTV Sports.\n",
            "Universitario logró así una merecida hazaña tras un largo torneo donde se coronó campeón por segunda vez consecutiva. Además, el técnico brasileño por lo que resta por jugar, los torneos clausura 2013 y 2014, para no perder la posibilidad de acceder a la máxima categoría del fútbol peruano, pero por por lo que resta por disputar. La final, el miércoles, a las 20:30 horas de Perú, enfrentará a Deportivo Pasto vs Universitario, el primero con empate y el segundo sin tantos.\n",
            "Universitario jugará lann\n",
            "1: Universitario ganó la final de ida con Alianza Lima y empató 0-0, e en en la red para en la copa libertadores.\n",
            "El delantero uruguayo, Diego Rivero, debutó como profesional con la academia con el club universitario que lo conoció en el fútbol chileno, de manera reciente, donde también tuvo participación.\n",
            "A través de sus redes sociales, Rivero aprovechó el momento del e e nn\n",
            "2: Universitario ganó la final del torneo clausura e estadio universitario. el estadio universitario, hoy se vivirá el clausura del fútbol peruano.\n",
            "El en este momento d d pagar connn\n"
          ]
        }
      ],
      "source": [
        "model.eval()\n",
        "prompt = \"<|startoftext|>\" + \"Universitario ganó la final\"\n",
        "generated = torch.tensor(tokenizer.encode(prompt)).unsqueeze(0)\n",
        "generated = generated.to(device)\n",
        "sample_outputs = model.generate(\n",
        "                                generated,\n",
        "                                num_return_sequences=3,\n",
        "                                max_length = 300,\n",
        "                                do_sample=True,\n",
        "                                top_k=50,\n",
        "                                top_p=0.95\n",
        "                                )\n",
        "for i, sample_output in enumerate(sample_outputs):\n",
        "  print(\"{}: {}nn\".format(i, tokenizer.decode(sample_output, skip_special_tokens=True)))"
      ]
    },
    {
      "cell_type": "markdown",
      "source": [
        "### 20 epochs"
      ],
      "metadata": {
        "id": "m24TOCpWkHXS"
      }
    },
    {
      "cell_type": "code",
      "source": [
        "model.eval()\n",
        "prompt = \"<|startoftext|>\" + \"Universitario ganó la final:\"\n",
        "generated = torch.tensor(tokenizer.encode(prompt)).unsqueeze(0)\n",
        "generated = generated.to(device)\n",
        "sample_outputs = model.generate(\n",
        "                                generated,\n",
        "                                num_return_sequences=3,\n",
        "                                max_length = 300,\n",
        "                                do_sample=True,\n",
        "                                top_k=50,\n",
        "                                top_p=0.95\n",
        "                                )\n",
        "for i, sample_output in enumerate(sample_outputs):\n",
        "  print(\"{}: {}nn\".format(i, tokenizer.decode(sample_output, skip_special_tokens=True)))"
      ],
      "metadata": {
        "colab": {
          "base_uri": "https://localhost:8080/"
        },
        "id": "Jr7M5JAqYK4r",
        "outputId": "022c18db-9e5e-49c6-a70b-37afcbcb467d"
      },
      "execution_count": null,
      "outputs": [
        {
          "output_type": "stream",
          "name": "stderr",
          "text": [
            "The attention mask and the pad token id were not set. As a consequence, you may observe unexpected behavior. Please pass your input's `attention_mask` to obtain reliable results.\n",
            "Setting `pad_token_id` to `eos_token_id`:50256 for open-end generation.\n"
          ]
        },
        {
          "output_type": "stream",
          "name": "stdout",
          "text": [
            "0: Universitario ganó la final: hasta la fecha, los cremas han perdido la final de la liga 1 2023 ante Eibar por el título en el monumental de la victoria de los merengues sobre el juego más vistoso y emocionante hasta la fecha. universitario campeón 2024. universitario subcampeón 2023. 909 minutos 279 segundos 563 puntos impresionante el rendimiento de los cremas en la última fecha habían roto todas las marcas de la liga 1, pero esta vez ellos se quedaron detrás con 103 minutos de juego ganado por los embajadores 2026. para recordar este partido inolvidable crema campeón 2023. para recordar este final emocionante y conmovedoramente hermoso. para cerrar la jornada con el emocionante encuentro entre los cremas y united que terminó con un emocionante empate a uno para los seguidores denn\n",
            "1: Universitario ganó la final: hasta la fecha, la Udenar tiene la copa libertadores del américa, sumándole la diferencia de goles, usted ha anotado uno más que nosotros?, fue la típica pregunta que hacían los merengues hace un año ganó el torneo y el equipo se adaptó rápido a la liga local y la profundidad del campeonato. con la experiencia de años como técnico extranjero usted ha tenido el talento necesario para dirigir este equipo que hoy cuenta con tres miembros y un refuerzo para repetir experiencia. estamos a dos puntos de distancia y es complicado, pero bueno, el fútbol siempre da revancha y este caso es una. universitario se llevó la victoria en su estadio, el alejandro villanueva por 2-0, con goles de valenzuela y succar, uno de penal. ann\n",
            "2: Universitario ganó la final: hasta la fecha, los cremas han perdido la final por lo que deben revertir el resultado y lograr la anh felicitando a los ganadores del torneo apertura. universitario campeón del año pasado logró el clausura y quedó tetracampeón este año, pero también quedó en tercer lugar del acumulado y la final perdida. 4  de goleadores cremas jorge apo, puchuncaví, cisneros y ávila. 1  de reservas. 1 de sur. 1 de visita. 90  gooooool de universitario 3 dc 3  3  1  ¡penal para los de vuelta de la granola! 90  tarjeta amarilla para para para para para para para u 84  cambio en universitario sale arias y entra quina. universitario 1nn\n"
          ]
        }
      ]
    },
    {
      "cell_type": "code",
      "source": [
        "model.eval()\n",
        "prompt = \"<|startoftext|>\" + \"Universitario ganó y se pone primero en el torneo Clausura\"\n",
        "generated = torch.tensor(tokenizer.encode(prompt)).unsqueeze(0)\n",
        "generated = generated.to(device)\n",
        "sample_outputs = model.generate(\n",
        "                                generated,\n",
        "                                num_return_sequences=3,\n",
        "                                max_length = 300,\n",
        "                                do_sample=True,\n",
        "                                top_k=50,\n",
        "                                top_p=0.95\n",
        "                                )\n",
        "for i, sample_output in enumerate(sample_outputs):\n",
        "  print(\"{}: {}nn\".format(i, tokenizer.decode(sample_output, skip_special_tokens=True)))"
      ],
      "metadata": {
        "colab": {
          "base_uri": "https://localhost:8080/"
        },
        "id": "QO-ZsVKYjGKW",
        "outputId": "93cefe7f-1b90-4124-add0-51a9c744287c"
      },
      "execution_count": null,
      "outputs": [
        {
          "output_type": "stream",
          "name": "stderr",
          "text": [
            "The attention mask and the pad token id were not set. As a consequence, you may observe unexpected behavior. Please pass your input's `attention_mask` to obtain reliable results.\n",
            "Setting `pad_token_id` to `eos_token_id`:50256 for open-end generation.\n"
          ]
        },
        {
          "output_type": "stream",
          "name": "stdout",
          "text": [
            "0: Universitario ganó y se pone primero en el torneo Clausura: hasta el momento, es todo, fue un gran torneo para los cremas se llevaron el título. que que y esta madrugada utc ganó por 4-3 tamboras., fue un gran torneo para los blanquiazules se lo llevaron. no. no. no. no., hasta el momento, es todo del momento para los blanquiazules es un gran torneo para los blanquiazules han logrado el puntaje perfecto en promedio de golnn\n",
            "1: Universitario ganó y se pone primero en el torneo Clausura: hasta que se niegue, será que el torneo clausura se disputará en el estadio monumental. válido por la fecha 18 de la segunda categoría del fútbol peruano. el gol de la victoria de universitario de deportes sobre alianza lima, correspondiente a la decimocuarta jornada. como se recuerda, un encuentro disputado por la fecha anterior, donde los cremas empataron 1 a 1, con un tanto del defensor de la crema, mónaco josé olaya. sin embargo, en el torneo clausura, los cremas empataron 1-1 con adt, en matute. para no perderle el ritmo al clausura, universitario de deportes recibirá al adt este domingo 10 de abril a las 0330 de la tarde en el estadio mansichenn\n",
            "2: Universitario ganó y se pone primero en el torneo Clausura: hasta que se someta a mi arbitrario, la liga 1 2023 podré retirarme del arbitraje una vez que se haya conformado el comisión, indicó el club crema en redes sociales. universitario ganó anoche, 1-0, en el estadio monumental, y se puso a punto para los tres puntos que les dieron el campeonato. 904  Ov ilo. estas viendo a mi, por favor, no lo de  apagar el estadio monumental, ya no es un requisito para jugar en la liga 1. 906  esta chalacaaca patea y la pasa, esta chimba patea, esta chalaca, estas barrenista patea barrenista. 902  esta chalaca barre el barro, esta barre el barro, esta chalaca barre el barro, estann\n"
          ]
        }
      ]
    },
    {
      "cell_type": "code",
      "source": [
        "model.eval()\n",
        "prompt = \"<|startoftext|>\" + \"El torneo Clausura se puso interesante\"\n",
        "generated = torch.tensor(tokenizer.encode(prompt)).unsqueeze(0)\n",
        "generated = generated.to(device)\n",
        "sample_outputs = model.generate(\n",
        "                                generated,\n",
        "                                num_return_sequences=3,\n",
        "                                max_length = 300,\n",
        "                                do_sample=True,\n",
        "                                top_k=50,\n",
        "                                top_p=0.95\n",
        "                                )\n",
        "for i, sample_output in enumerate(sample_outputs):\n",
        "  print(\"{}: {}nn\".format(i, tokenizer.decode(sample_output, skip_special_tokens=True)))"
      ],
      "metadata": {
        "colab": {
          "base_uri": "https://localhost:8080/"
        },
        "id": "qLYEmyQ9kJjz",
        "outputId": "2ace5a70-8c3c-4ac1-df87-8a0e96c322de"
      },
      "execution_count": null,
      "outputs": [
        {
          "output_type": "stream",
          "name": "stderr",
          "text": [
            "The attention mask and the pad token id were not set. As a consequence, you may observe unexpected behavior. Please pass your input's `attention_mask` to obtain reliable results.\n",
            "Setting `pad_token_id` to `eos_token_id`:50256 for open-end generation.\n"
          ]
        },
        {
          "output_type": "stream",
          "name": "stdout",
          "text": [
            "0: El torneo Clausura se puso interesante con la presentación de Alianza Lima sacó un gran triunfo por 2-0 ante Unión Comercio en el estadio Alejandro Villanueva. los blanquiazules descontaron un par de minutos a un rival que intentó pero no pudo. luego del tanto de penal marcado por el argentino de la selección peruana, el partido se volvió loco y los hinchas locales salieron a respaldar al equipo. tras el encuentro, el entrenador uruguayo de la blanquirroja, julinho, se refirió al gol del triunfo y la reacción de su equipo. el equipo intentó siempre, pero no siempre gana. en el primer tiempo, el equipo visitante se hizo fuerte, pero no creó problemas. en el segundo tiempo, casi hizo el gol de la tranquilidad, solo lo intentaron en una ocasión y no lograron anotar. en el segundo tiempo, casi hizo el gol de la tranquilidad. en un contraataque, barreto anota el primer gol del 2-0 y todo fue emoción en el estadio. barreto mandó la tirolesa para los locales que fue todo un éxito. luego del tanto de barreto, el encuentro se puso emocionante y no se movería. hasta que en el final, barreto nuevamente dispara, pero esta vez al arco y se vuelve a gritar gol. barreto salva al equipo. ¡goooool! es elnn\n",
            "1: El torneo Clausura se puso interesante este miércoles con el partido entre universitario de deportes y alianza lima en el estadio monumental. Ambos clubes se repartieron los puntos de nueve partidos y ahora tendrán que enfrentarse en otro partido para no perderle el ritmo al líder del campeonato., los cuales se dividen en tres grandes grupos según su peso en gramos. en el primer grupo se encuentran los que sobrepasan los 3,5 gr, que es el peso ideal para una persona, mientras que en el grupo 2 se encuentran los que sobrepasan los 500 gr, que es el peso ideal para una persona, es decir, una persona de contextura normal, cabello corto, altura normal y un sin fin de características que lo hacen únicos. En el primer grupo encontramos a los que sobrepasan los 700 gr, que es el peso ideal para una persona, mientras que en el grupo 2 encontramos a los que sobrepasan los 700 gr. en conjunto son los que sobrepasan los 700 gr. en conjunto son los que poseen un valor nutricional superior a este grupo. Por otro lado, en el grupo 3 encontramos a los que sobrepasan los 800 gr. en conjunto son los que poseen un valor nutricional superior a este grupo. Finalmente, en el grupo 4 encontramos a los que sobrepasan los 900 gr. en conjuntonn\n",
            "2: El torneo Clausura se puso interesante este miércoles cuando en el estadio Ramón de Carranza se llevó a cabo la presentación oficial de las flamantes instalaciones del club Xerez, donde el alcalde, Renato Da GraCIA, hizo entrega de los equipos y el respaldo total de la institución.\n",
            "El primer mandatario estuvo acompañado por la síndica mayor, Lilian Pinedo, el delegado aliancista, Luis Alberto Almendárez; y el delegado xerko, luis ruiz. Da GraCIA es la empresa que tiene como actividad la distribución de bebidas no alcohólicas. Da GraCIA es la empresa que tiene como actividad el transporte de pasajeros y carga.\n",
            "Da GraCIA es una empresa 100% mexicana, constituida en el año de fundación de 1951, está especializada en la distribución de artículos deportivos, ropa casual, telefonía, internet y televisión por suscripción. Cuenta con más de 800 puntos de venta en todo el país y se encuentra certificada como empresa 100 por la Secretaría de la Función Pública Federal.\n",
            "Las flamantes instalaciones del Xerez serán el marco perfecto para dar a conocer los proyectos que el equipo xerko viene impulsando en pro del desarrollo integral de sus jugadores.\n",
            "En este marco, Luis Alberto Almendárez, gerente general de Xerez, aprovechó para dar la bienvenida a losnn\n"
          ]
        }
      ]
    },
    {
      "cell_type": "code",
      "source": [
        "model.eval()\n",
        "prompt = \"<|startoftext|>\" + \"Universitario ganó de visita\"\n",
        "generated = torch.tensor(tokenizer.encode(prompt)).unsqueeze(0)\n",
        "generated = generated.to(device)\n",
        "sample_outputs = model.generate(\n",
        "                                generated,\n",
        "                                num_return_sequences=3,\n",
        "                                max_length = 300,\n",
        "                                do_sample=True,\n",
        "                                top_k=50,\n",
        "                                top_p=0.95\n",
        "                                )\n",
        "for i, sample_output in enumerate(sample_outputs):\n",
        "  print(\"{}: {}nn\".format(i, tokenizer.decode(sample_output, skip_special_tokens=True)))"
      ],
      "metadata": {
        "colab": {
          "base_uri": "https://localhost:8080/"
        },
        "id": "TFcxSZ05koTY",
        "outputId": "6783e1b4-6a19-47d4-d9b7-e4057e25a04f"
      },
      "execution_count": null,
      "outputs": [
        {
          "output_type": "stream",
          "name": "stderr",
          "text": [
            "The attention mask and the pad token id were not set. As a consequence, you may observe unexpected behavior. Please pass your input's `attention_mask` to obtain reliable results.\n",
            "Setting `pad_token_id` to `eos_token_id`:50256 for open-end generation.\n"
          ]
        },
        {
          "output_type": "stream",
          "name": "stdout",
          "text": [
            "0: Universitario ganó de visita 2-0 a Unión Comercio y se convirtió en el primer grande de la historia del fútbol peruano, informó el club dirigido por Gustavo Valdenegro. Kenji Kaisaro, Darwin Gandac y Yoshimar Yotún serán los autores del tanto que le dan la victoria a los cremas. Jeison Lizano, Darren Carrilo y Jeison Aguilera son los otros dos jugadores que anotaron de penal. Universitario ganó 2-0 a Unión Comercio y se convirtió en el primer grande de la historia del fútbol peruano, informó el club. Why Not Rosario? Universitario ganó 2-0 a Unión Comercio y se convirtió en el primer grande de la historia del fútbol peruano, informó el club. Gustavo Jalkhac y Jeison Aguilera anotaron de cabeza el primero e igualaron las acciones. Universitario gana 1-0 a Unión Comercio y es el primer grande de la historia del fútbol peruano, informó el club. Kenji Kaisaro, Darwin Gandac y Yoshimar Yotún son los otros dos jugadores que anotaron de cabeza en el marcador. Universitario ganó 2-0 a Unión Comercio y es el primer grande de la historia del fútbol peruano, indicó el club. Jeison Gandac y Darwin Gandac se hicieron presentes para anotar el primero y segundo tanto en el marcadornn\n",
            "1: Universitario ganó de visita 2-0 a Unión Comercio y se puso a la par de los cremas en el marcador; sin embargo, el segundo tiempo fue un ida y vuelta. alex valera anotó de cabeza y valera anotó de penal, de manera respectiva, para los cremas. a los 83 minutos, grau volvió a anotar y le dio otro doblete a los aficionados de casa. goleada crema 2-0 vicuña. minuto 87 grau volvió a anotar y empató el partido. final del torneo local. 90  se jugarán 2 minutos más; la vide. gooool de ureña. 90  final del partido. 80  tarjeta amarilla para gino peruzzi. 80  cambios en alianza lima salen cab de zafati y mimbela, entran mimbela y valera, 80  garcía y mimbela, entran mimbela y mimbela. 79  tarjeta amarilla para mimbela. 73  cambio en alianza sale valera y entra cedillo. 73  cambio en universitario sale mimbela y entra céspedes. 63  cambios en utc salen mimbela y mimbela, entran mimbela y mimbela. 63  tarjeta amarilla para mimbela alianza lima. 63  cambio en alianza sale mimbela y entra céspedes. 31  comenzó elnn\n",
            "2: Universitario ganó de visita 2-0 a Unión Comercio y se quedó con los 3 puntos en el partido de vuelta de los Octavos de Final de la Copa CONMEPERU. el marcador lo abrió el Expreso. Luis Chirlouk anotó de cabeza el gol de la victoria luego de una gran jugada colectiva. en el segundo tiempo, la Academia siguió ganando 2-0. y lo empató. en el global, el resultado fue de 2-2. con los 2 puntos repartidos, Universitario tiene ventaja de campo de 1 contra 1. en el global, el Expreso tiene un puntaje perfecto de visitante. 96  -90 en contra y 1 contra 1. 96  - 87 en parcial y 1 contra 1. 98  - 87 en parcial y 1 contra 1. 98  - 87 en parcial y 1 contra 1. 99  - 87 en contra. el Expreso se llevó 2 puntos en su casa, pero no le alcanzó para avanzar a la siguiente fase. 99  - 87 en contra y 1 contra 1. 98  - 87 en contra. el Expreso se llevó 2 puntos en su casa, pero no le alcanzó para avanzar a la siguiente ronda. 98  - 88 en contra y 1 contra 1nn\n"
          ]
        }
      ]
    }
  ],
  "metadata": {
    "kernelspec": {
      "display_name": "Python 3",
      "name": "python3"
    },
    "language_info": {
      "codemirror_mode": {
        "name": "ipython",
        "version": 3
      },
      "file_extension": ".py",
      "mimetype": "text/x-python",
      "name": "python",
      "nbconvert_exporter": "python",
      "pygments_lexer": "ipython3",
      "version": "3.10.13"
    },
    "colab": {
      "provenance": [],
      "gpuType": "T4",
      "include_colab_link": true
    },
    "accelerator": "GPU",
    "widgets": {
      "application/vnd.jupyter.widget-state+json": {
        "43de2b7c9ddc40a7bbf9dbb7f8bcd7fa": {
          "model_module": "@jupyter-widgets/controls",
          "model_name": "HBoxModel",
          "model_module_version": "1.5.0",
          "state": {
            "_dom_classes": [],
            "_model_module": "@jupyter-widgets/controls",
            "_model_module_version": "1.5.0",
            "_model_name": "HBoxModel",
            "_view_count": null,
            "_view_module": "@jupyter-widgets/controls",
            "_view_module_version": "1.5.0",
            "_view_name": "HBoxView",
            "box_style": "",
            "children": [
              "IPY_MODEL_b947250e51134606865c878e3f6e4114",
              "IPY_MODEL_4f19dc44ddce4557b59440bae0f78a77",
              "IPY_MODEL_aa76c5a09d5c42e09b0304083a7ff081"
            ],
            "layout": "IPY_MODEL_d49b9177ea32425fb1367169455d5e38"
          }
        },
        "b947250e51134606865c878e3f6e4114": {
          "model_module": "@jupyter-widgets/controls",
          "model_name": "HTMLModel",
          "model_module_version": "1.5.0",
          "state": {
            "_dom_classes": [],
            "_model_module": "@jupyter-widgets/controls",
            "_model_module_version": "1.5.0",
            "_model_name": "HTMLModel",
            "_view_count": null,
            "_view_module": "@jupyter-widgets/controls",
            "_view_module_version": "1.5.0",
            "_view_name": "HTMLView",
            "description": "",
            "description_tooltip": null,
            "layout": "IPY_MODEL_71cf05ad8a1144c3b739f2a8607993a5",
            "placeholder": "​",
            "style": "IPY_MODEL_095bd29efadc4b4fab36e5d169852a30",
            "value": "Downloading (…)lve/main/config.json: 100%"
          }
        },
        "4f19dc44ddce4557b59440bae0f78a77": {
          "model_module": "@jupyter-widgets/controls",
          "model_name": "FloatProgressModel",
          "model_module_version": "1.5.0",
          "state": {
            "_dom_classes": [],
            "_model_module": "@jupyter-widgets/controls",
            "_model_module_version": "1.5.0",
            "_model_name": "FloatProgressModel",
            "_view_count": null,
            "_view_module": "@jupyter-widgets/controls",
            "_view_module_version": "1.5.0",
            "_view_name": "ProgressView",
            "bar_style": "success",
            "description": "",
            "description_tooltip": null,
            "layout": "IPY_MODEL_b2bcdf5b057d4d598f70f7e7adf77b5d",
            "max": 811,
            "min": 0,
            "orientation": "horizontal",
            "style": "IPY_MODEL_8cfad39b300d461aa1954908ca7db1b8",
            "value": 811
          }
        },
        "aa76c5a09d5c42e09b0304083a7ff081": {
          "model_module": "@jupyter-widgets/controls",
          "model_name": "HTMLModel",
          "model_module_version": "1.5.0",
          "state": {
            "_dom_classes": [],
            "_model_module": "@jupyter-widgets/controls",
            "_model_module_version": "1.5.0",
            "_model_name": "HTMLModel",
            "_view_count": null,
            "_view_module": "@jupyter-widgets/controls",
            "_view_module_version": "1.5.0",
            "_view_name": "HTMLView",
            "description": "",
            "description_tooltip": null,
            "layout": "IPY_MODEL_82f8e0fdc7004888868a1f67f88953bd",
            "placeholder": "​",
            "style": "IPY_MODEL_1241a5fb92f04cc1b136e318d1e387d5",
            "value": " 811/811 [00:00&lt;00:00, 13.5kB/s]"
          }
        },
        "d49b9177ea32425fb1367169455d5e38": {
          "model_module": "@jupyter-widgets/base",
          "model_name": "LayoutModel",
          "model_module_version": "1.2.0",
          "state": {
            "_model_module": "@jupyter-widgets/base",
            "_model_module_version": "1.2.0",
            "_model_name": "LayoutModel",
            "_view_count": null,
            "_view_module": "@jupyter-widgets/base",
            "_view_module_version": "1.2.0",
            "_view_name": "LayoutView",
            "align_content": null,
            "align_items": null,
            "align_self": null,
            "border": null,
            "bottom": null,
            "display": null,
            "flex": null,
            "flex_flow": null,
            "grid_area": null,
            "grid_auto_columns": null,
            "grid_auto_flow": null,
            "grid_auto_rows": null,
            "grid_column": null,
            "grid_gap": null,
            "grid_row": null,
            "grid_template_areas": null,
            "grid_template_columns": null,
            "grid_template_rows": null,
            "height": null,
            "justify_content": null,
            "justify_items": null,
            "left": null,
            "margin": null,
            "max_height": null,
            "max_width": null,
            "min_height": null,
            "min_width": null,
            "object_fit": null,
            "object_position": null,
            "order": null,
            "overflow": null,
            "overflow_x": null,
            "overflow_y": null,
            "padding": null,
            "right": null,
            "top": null,
            "visibility": null,
            "width": null
          }
        },
        "71cf05ad8a1144c3b739f2a8607993a5": {
          "model_module": "@jupyter-widgets/base",
          "model_name": "LayoutModel",
          "model_module_version": "1.2.0",
          "state": {
            "_model_module": "@jupyter-widgets/base",
            "_model_module_version": "1.2.0",
            "_model_name": "LayoutModel",
            "_view_count": null,
            "_view_module": "@jupyter-widgets/base",
            "_view_module_version": "1.2.0",
            "_view_name": "LayoutView",
            "align_content": null,
            "align_items": null,
            "align_self": null,
            "border": null,
            "bottom": null,
            "display": null,
            "flex": null,
            "flex_flow": null,
            "grid_area": null,
            "grid_auto_columns": null,
            "grid_auto_flow": null,
            "grid_auto_rows": null,
            "grid_column": null,
            "grid_gap": null,
            "grid_row": null,
            "grid_template_areas": null,
            "grid_template_columns": null,
            "grid_template_rows": null,
            "height": null,
            "justify_content": null,
            "justify_items": null,
            "left": null,
            "margin": null,
            "max_height": null,
            "max_width": null,
            "min_height": null,
            "min_width": null,
            "object_fit": null,
            "object_position": null,
            "order": null,
            "overflow": null,
            "overflow_x": null,
            "overflow_y": null,
            "padding": null,
            "right": null,
            "top": null,
            "visibility": null,
            "width": null
          }
        },
        "095bd29efadc4b4fab36e5d169852a30": {
          "model_module": "@jupyter-widgets/controls",
          "model_name": "DescriptionStyleModel",
          "model_module_version": "1.5.0",
          "state": {
            "_model_module": "@jupyter-widgets/controls",
            "_model_module_version": "1.5.0",
            "_model_name": "DescriptionStyleModel",
            "_view_count": null,
            "_view_module": "@jupyter-widgets/base",
            "_view_module_version": "1.2.0",
            "_view_name": "StyleView",
            "description_width": ""
          }
        },
        "b2bcdf5b057d4d598f70f7e7adf77b5d": {
          "model_module": "@jupyter-widgets/base",
          "model_name": "LayoutModel",
          "model_module_version": "1.2.0",
          "state": {
            "_model_module": "@jupyter-widgets/base",
            "_model_module_version": "1.2.0",
            "_model_name": "LayoutModel",
            "_view_count": null,
            "_view_module": "@jupyter-widgets/base",
            "_view_module_version": "1.2.0",
            "_view_name": "LayoutView",
            "align_content": null,
            "align_items": null,
            "align_self": null,
            "border": null,
            "bottom": null,
            "display": null,
            "flex": null,
            "flex_flow": null,
            "grid_area": null,
            "grid_auto_columns": null,
            "grid_auto_flow": null,
            "grid_auto_rows": null,
            "grid_column": null,
            "grid_gap": null,
            "grid_row": null,
            "grid_template_areas": null,
            "grid_template_columns": null,
            "grid_template_rows": null,
            "height": null,
            "justify_content": null,
            "justify_items": null,
            "left": null,
            "margin": null,
            "max_height": null,
            "max_width": null,
            "min_height": null,
            "min_width": null,
            "object_fit": null,
            "object_position": null,
            "order": null,
            "overflow": null,
            "overflow_x": null,
            "overflow_y": null,
            "padding": null,
            "right": null,
            "top": null,
            "visibility": null,
            "width": null
          }
        },
        "8cfad39b300d461aa1954908ca7db1b8": {
          "model_module": "@jupyter-widgets/controls",
          "model_name": "ProgressStyleModel",
          "model_module_version": "1.5.0",
          "state": {
            "_model_module": "@jupyter-widgets/controls",
            "_model_module_version": "1.5.0",
            "_model_name": "ProgressStyleModel",
            "_view_count": null,
            "_view_module": "@jupyter-widgets/base",
            "_view_module_version": "1.2.0",
            "_view_name": "StyleView",
            "bar_color": null,
            "description_width": ""
          }
        },
        "82f8e0fdc7004888868a1f67f88953bd": {
          "model_module": "@jupyter-widgets/base",
          "model_name": "LayoutModel",
          "model_module_version": "1.2.0",
          "state": {
            "_model_module": "@jupyter-widgets/base",
            "_model_module_version": "1.2.0",
            "_model_name": "LayoutModel",
            "_view_count": null,
            "_view_module": "@jupyter-widgets/base",
            "_view_module_version": "1.2.0",
            "_view_name": "LayoutView",
            "align_content": null,
            "align_items": null,
            "align_self": null,
            "border": null,
            "bottom": null,
            "display": null,
            "flex": null,
            "flex_flow": null,
            "grid_area": null,
            "grid_auto_columns": null,
            "grid_auto_flow": null,
            "grid_auto_rows": null,
            "grid_column": null,
            "grid_gap": null,
            "grid_row": null,
            "grid_template_areas": null,
            "grid_template_columns": null,
            "grid_template_rows": null,
            "height": null,
            "justify_content": null,
            "justify_items": null,
            "left": null,
            "margin": null,
            "max_height": null,
            "max_width": null,
            "min_height": null,
            "min_width": null,
            "object_fit": null,
            "object_position": null,
            "order": null,
            "overflow": null,
            "overflow_x": null,
            "overflow_y": null,
            "padding": null,
            "right": null,
            "top": null,
            "visibility": null,
            "width": null
          }
        },
        "1241a5fb92f04cc1b136e318d1e387d5": {
          "model_module": "@jupyter-widgets/controls",
          "model_name": "DescriptionStyleModel",
          "model_module_version": "1.5.0",
          "state": {
            "_model_module": "@jupyter-widgets/controls",
            "_model_module_version": "1.5.0",
            "_model_name": "DescriptionStyleModel",
            "_view_count": null,
            "_view_module": "@jupyter-widgets/base",
            "_view_module_version": "1.2.0",
            "_view_name": "StyleView",
            "description_width": ""
          }
        },
        "10921936f5fc4c39a9adcb5520acc024": {
          "model_module": "@jupyter-widgets/controls",
          "model_name": "HBoxModel",
          "model_module_version": "1.5.0",
          "state": {
            "_dom_classes": [],
            "_model_module": "@jupyter-widgets/controls",
            "_model_module_version": "1.5.0",
            "_model_name": "HBoxModel",
            "_view_count": null,
            "_view_module": "@jupyter-widgets/controls",
            "_view_module_version": "1.5.0",
            "_view_name": "HBoxView",
            "box_style": "",
            "children": [
              "IPY_MODEL_8a6eec0855bf4d3abbbcde88f7d3f589",
              "IPY_MODEL_b527fd2cbf5b40b9a3e41d6df6b0ff2c",
              "IPY_MODEL_65f0abc7b95f46b1a849113ec3a8dae1"
            ],
            "layout": "IPY_MODEL_b8d24f5db0cb4e29ac994436623013dc"
          }
        },
        "8a6eec0855bf4d3abbbcde88f7d3f589": {
          "model_module": "@jupyter-widgets/controls",
          "model_name": "HTMLModel",
          "model_module_version": "1.5.0",
          "state": {
            "_dom_classes": [],
            "_model_module": "@jupyter-widgets/controls",
            "_model_module_version": "1.5.0",
            "_model_name": "HTMLModel",
            "_view_count": null,
            "_view_module": "@jupyter-widgets/controls",
            "_view_module_version": "1.5.0",
            "_view_name": "HTMLView",
            "description": "",
            "description_tooltip": null,
            "layout": "IPY_MODEL_2816d036978c43d2a15cce160170dc3e",
            "placeholder": "​",
            "style": "IPY_MODEL_38fdeb983fcc4256bece475a50ea5986",
            "value": "Downloading (…)/main/tokenizer.json: 100%"
          }
        },
        "b527fd2cbf5b40b9a3e41d6df6b0ff2c": {
          "model_module": "@jupyter-widgets/controls",
          "model_name": "FloatProgressModel",
          "model_module_version": "1.5.0",
          "state": {
            "_dom_classes": [],
            "_model_module": "@jupyter-widgets/controls",
            "_model_module_version": "1.5.0",
            "_model_name": "FloatProgressModel",
            "_view_count": null,
            "_view_module": "@jupyter-widgets/controls",
            "_view_module_version": "1.5.0",
            "_view_name": "ProgressView",
            "bar_style": "success",
            "description": "",
            "description_tooltip": null,
            "layout": "IPY_MODEL_e3b99e573ac24faaa36433efc0ab93fe",
            "max": 1460161,
            "min": 0,
            "orientation": "horizontal",
            "style": "IPY_MODEL_f0d067f3536c42c5a876d2214bca26a3",
            "value": 1460161
          }
        },
        "65f0abc7b95f46b1a849113ec3a8dae1": {
          "model_module": "@jupyter-widgets/controls",
          "model_name": "HTMLModel",
          "model_module_version": "1.5.0",
          "state": {
            "_dom_classes": [],
            "_model_module": "@jupyter-widgets/controls",
            "_model_module_version": "1.5.0",
            "_model_name": "HTMLModel",
            "_view_count": null,
            "_view_module": "@jupyter-widgets/controls",
            "_view_module_version": "1.5.0",
            "_view_name": "HTMLView",
            "description": "",
            "description_tooltip": null,
            "layout": "IPY_MODEL_aa17e45e880344a5bcc48a171626fe97",
            "placeholder": "​",
            "style": "IPY_MODEL_3ca60821711e4490953e1a1514e80a60",
            "value": " 1.46M/1.46M [00:00&lt;00:00, 5.07MB/s]"
          }
        },
        "b8d24f5db0cb4e29ac994436623013dc": {
          "model_module": "@jupyter-widgets/base",
          "model_name": "LayoutModel",
          "model_module_version": "1.2.0",
          "state": {
            "_model_module": "@jupyter-widgets/base",
            "_model_module_version": "1.2.0",
            "_model_name": "LayoutModel",
            "_view_count": null,
            "_view_module": "@jupyter-widgets/base",
            "_view_module_version": "1.2.0",
            "_view_name": "LayoutView",
            "align_content": null,
            "align_items": null,
            "align_self": null,
            "border": null,
            "bottom": null,
            "display": null,
            "flex": null,
            "flex_flow": null,
            "grid_area": null,
            "grid_auto_columns": null,
            "grid_auto_flow": null,
            "grid_auto_rows": null,
            "grid_column": null,
            "grid_gap": null,
            "grid_row": null,
            "grid_template_areas": null,
            "grid_template_columns": null,
            "grid_template_rows": null,
            "height": null,
            "justify_content": null,
            "justify_items": null,
            "left": null,
            "margin": null,
            "max_height": null,
            "max_width": null,
            "min_height": null,
            "min_width": null,
            "object_fit": null,
            "object_position": null,
            "order": null,
            "overflow": null,
            "overflow_x": null,
            "overflow_y": null,
            "padding": null,
            "right": null,
            "top": null,
            "visibility": null,
            "width": null
          }
        },
        "2816d036978c43d2a15cce160170dc3e": {
          "model_module": "@jupyter-widgets/base",
          "model_name": "LayoutModel",
          "model_module_version": "1.2.0",
          "state": {
            "_model_module": "@jupyter-widgets/base",
            "_model_module_version": "1.2.0",
            "_model_name": "LayoutModel",
            "_view_count": null,
            "_view_module": "@jupyter-widgets/base",
            "_view_module_version": "1.2.0",
            "_view_name": "LayoutView",
            "align_content": null,
            "align_items": null,
            "align_self": null,
            "border": null,
            "bottom": null,
            "display": null,
            "flex": null,
            "flex_flow": null,
            "grid_area": null,
            "grid_auto_columns": null,
            "grid_auto_flow": null,
            "grid_auto_rows": null,
            "grid_column": null,
            "grid_gap": null,
            "grid_row": null,
            "grid_template_areas": null,
            "grid_template_columns": null,
            "grid_template_rows": null,
            "height": null,
            "justify_content": null,
            "justify_items": null,
            "left": null,
            "margin": null,
            "max_height": null,
            "max_width": null,
            "min_height": null,
            "min_width": null,
            "object_fit": null,
            "object_position": null,
            "order": null,
            "overflow": null,
            "overflow_x": null,
            "overflow_y": null,
            "padding": null,
            "right": null,
            "top": null,
            "visibility": null,
            "width": null
          }
        },
        "38fdeb983fcc4256bece475a50ea5986": {
          "model_module": "@jupyter-widgets/controls",
          "model_name": "DescriptionStyleModel",
          "model_module_version": "1.5.0",
          "state": {
            "_model_module": "@jupyter-widgets/controls",
            "_model_module_version": "1.5.0",
            "_model_name": "DescriptionStyleModel",
            "_view_count": null,
            "_view_module": "@jupyter-widgets/base",
            "_view_module_version": "1.2.0",
            "_view_name": "StyleView",
            "description_width": ""
          }
        },
        "e3b99e573ac24faaa36433efc0ab93fe": {
          "model_module": "@jupyter-widgets/base",
          "model_name": "LayoutModel",
          "model_module_version": "1.2.0",
          "state": {
            "_model_module": "@jupyter-widgets/base",
            "_model_module_version": "1.2.0",
            "_model_name": "LayoutModel",
            "_view_count": null,
            "_view_module": "@jupyter-widgets/base",
            "_view_module_version": "1.2.0",
            "_view_name": "LayoutView",
            "align_content": null,
            "align_items": null,
            "align_self": null,
            "border": null,
            "bottom": null,
            "display": null,
            "flex": null,
            "flex_flow": null,
            "grid_area": null,
            "grid_auto_columns": null,
            "grid_auto_flow": null,
            "grid_auto_rows": null,
            "grid_column": null,
            "grid_gap": null,
            "grid_row": null,
            "grid_template_areas": null,
            "grid_template_columns": null,
            "grid_template_rows": null,
            "height": null,
            "justify_content": null,
            "justify_items": null,
            "left": null,
            "margin": null,
            "max_height": null,
            "max_width": null,
            "min_height": null,
            "min_width": null,
            "object_fit": null,
            "object_position": null,
            "order": null,
            "overflow": null,
            "overflow_x": null,
            "overflow_y": null,
            "padding": null,
            "right": null,
            "top": null,
            "visibility": null,
            "width": null
          }
        },
        "f0d067f3536c42c5a876d2214bca26a3": {
          "model_module": "@jupyter-widgets/controls",
          "model_name": "ProgressStyleModel",
          "model_module_version": "1.5.0",
          "state": {
            "_model_module": "@jupyter-widgets/controls",
            "_model_module_version": "1.5.0",
            "_model_name": "ProgressStyleModel",
            "_view_count": null,
            "_view_module": "@jupyter-widgets/base",
            "_view_module_version": "1.2.0",
            "_view_name": "StyleView",
            "bar_color": null,
            "description_width": ""
          }
        },
        "aa17e45e880344a5bcc48a171626fe97": {
          "model_module": "@jupyter-widgets/base",
          "model_name": "LayoutModel",
          "model_module_version": "1.2.0",
          "state": {
            "_model_module": "@jupyter-widgets/base",
            "_model_module_version": "1.2.0",
            "_model_name": "LayoutModel",
            "_view_count": null,
            "_view_module": "@jupyter-widgets/base",
            "_view_module_version": "1.2.0",
            "_view_name": "LayoutView",
            "align_content": null,
            "align_items": null,
            "align_self": null,
            "border": null,
            "bottom": null,
            "display": null,
            "flex": null,
            "flex_flow": null,
            "grid_area": null,
            "grid_auto_columns": null,
            "grid_auto_flow": null,
            "grid_auto_rows": null,
            "grid_column": null,
            "grid_gap": null,
            "grid_row": null,
            "grid_template_areas": null,
            "grid_template_columns": null,
            "grid_template_rows": null,
            "height": null,
            "justify_content": null,
            "justify_items": null,
            "left": null,
            "margin": null,
            "max_height": null,
            "max_width": null,
            "min_height": null,
            "min_width": null,
            "object_fit": null,
            "object_position": null,
            "order": null,
            "overflow": null,
            "overflow_x": null,
            "overflow_y": null,
            "padding": null,
            "right": null,
            "top": null,
            "visibility": null,
            "width": null
          }
        },
        "3ca60821711e4490953e1a1514e80a60": {
          "model_module": "@jupyter-widgets/controls",
          "model_name": "DescriptionStyleModel",
          "model_module_version": "1.5.0",
          "state": {
            "_model_module": "@jupyter-widgets/controls",
            "_model_module_version": "1.5.0",
            "_model_name": "DescriptionStyleModel",
            "_view_count": null,
            "_view_module": "@jupyter-widgets/base",
            "_view_module_version": "1.2.0",
            "_view_name": "StyleView",
            "description_width": ""
          }
        },
        "7551795fd5f4404eb528864afcad4623": {
          "model_module": "@jupyter-widgets/controls",
          "model_name": "HBoxModel",
          "model_module_version": "1.5.0",
          "state": {
            "_dom_classes": [],
            "_model_module": "@jupyter-widgets/controls",
            "_model_module_version": "1.5.0",
            "_model_name": "HBoxModel",
            "_view_count": null,
            "_view_module": "@jupyter-widgets/controls",
            "_view_module_version": "1.5.0",
            "_view_name": "HBoxView",
            "box_style": "",
            "children": [
              "IPY_MODEL_600b489caef8447cb9b0a0f0235fee51",
              "IPY_MODEL_12fd6a638902488da8d175bbd712252a",
              "IPY_MODEL_b51d91bb54034b64b8123f76e4d76b54"
            ],
            "layout": "IPY_MODEL_4b8ea337e1dc41e79927b2497c3d2ca1"
          }
        },
        "600b489caef8447cb9b0a0f0235fee51": {
          "model_module": "@jupyter-widgets/controls",
          "model_name": "HTMLModel",
          "model_module_version": "1.5.0",
          "state": {
            "_dom_classes": [],
            "_model_module": "@jupyter-widgets/controls",
            "_model_module_version": "1.5.0",
            "_model_name": "HTMLModel",
            "_view_count": null,
            "_view_module": "@jupyter-widgets/controls",
            "_view_module_version": "1.5.0",
            "_view_name": "HTMLView",
            "description": "",
            "description_tooltip": null,
            "layout": "IPY_MODEL_9ca03610f95d4573943684fa580d891c",
            "placeholder": "​",
            "style": "IPY_MODEL_a3ff2f3c525846519b74f05959e60b3a",
            "value": "Downloading model.safetensors: 100%"
          }
        },
        "12fd6a638902488da8d175bbd712252a": {
          "model_module": "@jupyter-widgets/controls",
          "model_name": "FloatProgressModel",
          "model_module_version": "1.5.0",
          "state": {
            "_dom_classes": [],
            "_model_module": "@jupyter-widgets/controls",
            "_model_module_version": "1.5.0",
            "_model_name": "FloatProgressModel",
            "_view_count": null,
            "_view_module": "@jupyter-widgets/controls",
            "_view_module_version": "1.5.0",
            "_view_name": "ProgressView",
            "bar_style": "success",
            "description": "",
            "description_tooltip": null,
            "layout": "IPY_MODEL_cff7abdd0fc64fb2911b24b8c3b06dd7",
            "max": 510359598,
            "min": 0,
            "orientation": "horizontal",
            "style": "IPY_MODEL_98b68d91a348465eb6ba74e1846a5e27",
            "value": 510359598
          }
        },
        "b51d91bb54034b64b8123f76e4d76b54": {
          "model_module": "@jupyter-widgets/controls",
          "model_name": "HTMLModel",
          "model_module_version": "1.5.0",
          "state": {
            "_dom_classes": [],
            "_model_module": "@jupyter-widgets/controls",
            "_model_module_version": "1.5.0",
            "_model_name": "HTMLModel",
            "_view_count": null,
            "_view_module": "@jupyter-widgets/controls",
            "_view_module_version": "1.5.0",
            "_view_name": "HTMLView",
            "description": "",
            "description_tooltip": null,
            "layout": "IPY_MODEL_70078ac9a9ee4858a0ad60b722fbec43",
            "placeholder": "​",
            "style": "IPY_MODEL_38e3df1b3aba41c9adb931bc2c3b4e3a",
            "value": " 510M/510M [00:04&lt;00:00, 135MB/s]"
          }
        },
        "4b8ea337e1dc41e79927b2497c3d2ca1": {
          "model_module": "@jupyter-widgets/base",
          "model_name": "LayoutModel",
          "model_module_version": "1.2.0",
          "state": {
            "_model_module": "@jupyter-widgets/base",
            "_model_module_version": "1.2.0",
            "_model_name": "LayoutModel",
            "_view_count": null,
            "_view_module": "@jupyter-widgets/base",
            "_view_module_version": "1.2.0",
            "_view_name": "LayoutView",
            "align_content": null,
            "align_items": null,
            "align_self": null,
            "border": null,
            "bottom": null,
            "display": null,
            "flex": null,
            "flex_flow": null,
            "grid_area": null,
            "grid_auto_columns": null,
            "grid_auto_flow": null,
            "grid_auto_rows": null,
            "grid_column": null,
            "grid_gap": null,
            "grid_row": null,
            "grid_template_areas": null,
            "grid_template_columns": null,
            "grid_template_rows": null,
            "height": null,
            "justify_content": null,
            "justify_items": null,
            "left": null,
            "margin": null,
            "max_height": null,
            "max_width": null,
            "min_height": null,
            "min_width": null,
            "object_fit": null,
            "object_position": null,
            "order": null,
            "overflow": null,
            "overflow_x": null,
            "overflow_y": null,
            "padding": null,
            "right": null,
            "top": null,
            "visibility": null,
            "width": null
          }
        },
        "9ca03610f95d4573943684fa580d891c": {
          "model_module": "@jupyter-widgets/base",
          "model_name": "LayoutModel",
          "model_module_version": "1.2.0",
          "state": {
            "_model_module": "@jupyter-widgets/base",
            "_model_module_version": "1.2.0",
            "_model_name": "LayoutModel",
            "_view_count": null,
            "_view_module": "@jupyter-widgets/base",
            "_view_module_version": "1.2.0",
            "_view_name": "LayoutView",
            "align_content": null,
            "align_items": null,
            "align_self": null,
            "border": null,
            "bottom": null,
            "display": null,
            "flex": null,
            "flex_flow": null,
            "grid_area": null,
            "grid_auto_columns": null,
            "grid_auto_flow": null,
            "grid_auto_rows": null,
            "grid_column": null,
            "grid_gap": null,
            "grid_row": null,
            "grid_template_areas": null,
            "grid_template_columns": null,
            "grid_template_rows": null,
            "height": null,
            "justify_content": null,
            "justify_items": null,
            "left": null,
            "margin": null,
            "max_height": null,
            "max_width": null,
            "min_height": null,
            "min_width": null,
            "object_fit": null,
            "object_position": null,
            "order": null,
            "overflow": null,
            "overflow_x": null,
            "overflow_y": null,
            "padding": null,
            "right": null,
            "top": null,
            "visibility": null,
            "width": null
          }
        },
        "a3ff2f3c525846519b74f05959e60b3a": {
          "model_module": "@jupyter-widgets/controls",
          "model_name": "DescriptionStyleModel",
          "model_module_version": "1.5.0",
          "state": {
            "_model_module": "@jupyter-widgets/controls",
            "_model_module_version": "1.5.0",
            "_model_name": "DescriptionStyleModel",
            "_view_count": null,
            "_view_module": "@jupyter-widgets/base",
            "_view_module_version": "1.2.0",
            "_view_name": "StyleView",
            "description_width": ""
          }
        },
        "cff7abdd0fc64fb2911b24b8c3b06dd7": {
          "model_module": "@jupyter-widgets/base",
          "model_name": "LayoutModel",
          "model_module_version": "1.2.0",
          "state": {
            "_model_module": "@jupyter-widgets/base",
            "_model_module_version": "1.2.0",
            "_model_name": "LayoutModel",
            "_view_count": null,
            "_view_module": "@jupyter-widgets/base",
            "_view_module_version": "1.2.0",
            "_view_name": "LayoutView",
            "align_content": null,
            "align_items": null,
            "align_self": null,
            "border": null,
            "bottom": null,
            "display": null,
            "flex": null,
            "flex_flow": null,
            "grid_area": null,
            "grid_auto_columns": null,
            "grid_auto_flow": null,
            "grid_auto_rows": null,
            "grid_column": null,
            "grid_gap": null,
            "grid_row": null,
            "grid_template_areas": null,
            "grid_template_columns": null,
            "grid_template_rows": null,
            "height": null,
            "justify_content": null,
            "justify_items": null,
            "left": null,
            "margin": null,
            "max_height": null,
            "max_width": null,
            "min_height": null,
            "min_width": null,
            "object_fit": null,
            "object_position": null,
            "order": null,
            "overflow": null,
            "overflow_x": null,
            "overflow_y": null,
            "padding": null,
            "right": null,
            "top": null,
            "visibility": null,
            "width": null
          }
        },
        "98b68d91a348465eb6ba74e1846a5e27": {
          "model_module": "@jupyter-widgets/controls",
          "model_name": "ProgressStyleModel",
          "model_module_version": "1.5.0",
          "state": {
            "_model_module": "@jupyter-widgets/controls",
            "_model_module_version": "1.5.0",
            "_model_name": "ProgressStyleModel",
            "_view_count": null,
            "_view_module": "@jupyter-widgets/base",
            "_view_module_version": "1.2.0",
            "_view_name": "StyleView",
            "bar_color": null,
            "description_width": ""
          }
        },
        "70078ac9a9ee4858a0ad60b722fbec43": {
          "model_module": "@jupyter-widgets/base",
          "model_name": "LayoutModel",
          "model_module_version": "1.2.0",
          "state": {
            "_model_module": "@jupyter-widgets/base",
            "_model_module_version": "1.2.0",
            "_model_name": "LayoutModel",
            "_view_count": null,
            "_view_module": "@jupyter-widgets/base",
            "_view_module_version": "1.2.0",
            "_view_name": "LayoutView",
            "align_content": null,
            "align_items": null,
            "align_self": null,
            "border": null,
            "bottom": null,
            "display": null,
            "flex": null,
            "flex_flow": null,
            "grid_area": null,
            "grid_auto_columns": null,
            "grid_auto_flow": null,
            "grid_auto_rows": null,
            "grid_column": null,
            "grid_gap": null,
            "grid_row": null,
            "grid_template_areas": null,
            "grid_template_columns": null,
            "grid_template_rows": null,
            "height": null,
            "justify_content": null,
            "justify_items": null,
            "left": null,
            "margin": null,
            "max_height": null,
            "max_width": null,
            "min_height": null,
            "min_width": null,
            "object_fit": null,
            "object_position": null,
            "order": null,
            "overflow": null,
            "overflow_x": null,
            "overflow_y": null,
            "padding": null,
            "right": null,
            "top": null,
            "visibility": null,
            "width": null
          }
        },
        "38e3df1b3aba41c9adb931bc2c3b4e3a": {
          "model_module": "@jupyter-widgets/controls",
          "model_name": "DescriptionStyleModel",
          "model_module_version": "1.5.0",
          "state": {
            "_model_module": "@jupyter-widgets/controls",
            "_model_module_version": "1.5.0",
            "_model_name": "DescriptionStyleModel",
            "_view_count": null,
            "_view_module": "@jupyter-widgets/base",
            "_view_module_version": "1.2.0",
            "_view_name": "StyleView",
            "description_width": ""
          }
        }
      }
    }
  },
  "nbformat": 4,
  "nbformat_minor": 0
}