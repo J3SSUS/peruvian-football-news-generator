{
  "cells": [
    {
      "cell_type": "markdown",
      "metadata": {
        "id": "view-in-github",
        "colab_type": "text"
      },
      "source": [
        "<a href=\"https://colab.research.google.com/github/J3SSUS/peruvian-football-news-generator/blob/main/gru/gru_football_news_generator.ipynb\" target=\"_parent\"><img src=\"https://colab.research.google.com/assets/colab-badge.svg\" alt=\"Open In Colab\"/></a>"
      ]
    },
    {
      "cell_type": "markdown",
      "metadata": {
        "id": "6ukSJjZWmNy3"
      },
      "source": [
        "# GRU (Gated Recurrent Unit) - Generator Model"
      ]
    },
    {
      "cell_type": "code",
      "execution_count": null,
      "metadata": {
        "id": "TJ1kuzNxmNy3"
      },
      "outputs": [],
      "source": [
        "import tensorflow as tf\n",
        "from tensorflow.keras.layers.experimental import preprocessing\n",
        "\n",
        "import numpy as np\n",
        "import os\n",
        "import time"
      ]
    },
    {
      "cell_type": "code",
      "source": [
        "from google.colab import drive\n",
        "drive.mount('/content/drive')"
      ],
      "metadata": {
        "colab": {
          "base_uri": "https://localhost:8080/"
        },
        "id": "VGq6dOJamYY9",
        "outputId": "5adda1a1-2395-47aa-ec7a-e56e2e0fe845"
      },
      "execution_count": null,
      "outputs": [
        {
          "output_type": "stream",
          "name": "stdout",
          "text": [
            "Mounted at /content/drive\n"
          ]
        }
      ]
    },
    {
      "cell_type": "code",
      "execution_count": null,
      "metadata": {
        "id": "n_a1k0o9mNy3"
      },
      "outputs": [],
      "source": [
        "full_text_new = open(\"/content/drive/MyDrive/nlp/project-nlp-football/full_peruvian_football_news.txt\", 'rb').read().decode(encoding='utf-8')"
      ]
    },
    {
      "cell_type": "code",
      "execution_count": null,
      "metadata": {
        "id": "fPy6lyfEmNy4"
      },
      "outputs": [],
      "source": [
        "def replace_tild(text):\n",
        "    accent_m = {\n",
        "        'á': 'a',\n",
        "        'é': 'e',\n",
        "        'í': 'i',\n",
        "        'ó': 'o',\n",
        "        'ú': 'u',\n",
        "        'Á': 'A',\n",
        "        'É': 'E',\n",
        "        'Í': 'I',\n",
        "        'Ó': 'O',\n",
        "        'Ú': 'U'\n",
        "    }\n",
        "    for k,v in accent_m.items():\n",
        "        text = text.replace(k,v)\n",
        "    return text"
      ]
    },
    {
      "cell_type": "code",
      "execution_count": null,
      "metadata": {
        "id": "HDb0MlFymNy4"
      },
      "outputs": [],
      "source": [
        "full_text_new = replace_tild(full_text_new)"
      ]
    },
    {
      "cell_type": "code",
      "execution_count": null,
      "metadata": {
        "colab": {
          "base_uri": "https://localhost:8080/"
        },
        "id": "GVCiREaRmNy4",
        "outputId": "63567df8-dbd6-4e75-c95a-01b37e27e3a1"
      },
      "outputs": [
        {
          "output_type": "stream",
          "name": "stdout",
          "text": [
            "Premio al esfuerzo Piero Quispe fue elegido como el mejor jugador de la Liga 1 2023:\r\n",
            "Luego de 10 años de sequía, Universitario formó un gran plantel para gritar campeón este 2023 y una de las piezas fundamentales de este equipo fue Piero Quispe, volante que a sus 23 años fue clave para el elenco dirigido por Jorge Fossati, que se llevó el título ante su clásico rival y este domingo recién pudo recibir el trofeo. El volante crema aportó a su equipo con cuatro goles y dos asistencias, siendo muy influyente en el estilo de juego de Fossati, quien le imprimió un gran juego en colectivo a su equipo, apoyándolo en el mediocampo con jugadores como Rodrigo Ureña o José Pérez Guedes, que eran un respaldo para Quispe. Pierito también destacó en la campaña de Universitario en la Sudamericana, en donde fue elegido en una oportunidad en el once ideal. Estas buenas actuaciones le valieron la convocatoria a la selección nacional dirigida por Juan Reynoso, aunque no ha debutado oficialmente todavía. En ese sentido, se espera que Quispe sea de consideración para Reynoso en los encuentros ante Bolivia y Venezuela, duelos que Perú necesita con urgencia ganar para salir del sótano de la tabla de las clasificatorias mundialistas 2026. Por otro lado, según el portal Trasnfermarkt, el volante crema de 23 años tiene una valoración de mercado de 1 millón de euros, siendo probable que cambie de aires y de el salto al extranjero tras sus buenas actuaciones en la liga local.\r\n",
            "\r\n",
            "A festejar crema así fue la premiación de Universitario como campeón nacional 2023:\r\n",
            "El equipo crema se dispone a dar la vuelta olímpica en el campo del coloso de Ate y los cánticos se escuchan desde las cuatro tribunas. Llegó el momento. José Carvallo recibe el trofeo de la Liga 1 y la levanta a los cielos y la hinchada crema lo celebra a lo grande. Es el título 27 para el elenco merengue que corta una sequía que se extendió por largos 10 años. Todo es fiesta en el Monumental. Nelson Cabanillas, José Rivera, Yuriel Ce\n"
          ]
        }
      ],
      "source": [
        "print(full_text_new[:2000])"
      ]
    },
    {
      "cell_type": "code",
      "execution_count": null,
      "metadata": {
        "colab": {
          "base_uri": "https://localhost:8080/"
        },
        "id": "K4R339pXmNy5",
        "outputId": "d085da1b-dcc2-4643-ae2f-d51a9c6f5200"
      },
      "outputs": [
        {
          "output_type": "stream",
          "name": "stdout",
          "text": [
            "85 unique characters\n"
          ]
        }
      ],
      "source": [
        "# The unique characters in the file\n",
        "vocab = sorted(set(full_text_new))\n",
        "print(f'{len(vocab)} unique characters')"
      ]
    },
    {
      "cell_type": "code",
      "execution_count": null,
      "metadata": {
        "id": "HkjHvSB8mNy5"
      },
      "outputs": [],
      "source": [
        "ids_from_chars = preprocessing.StringLookup(\n",
        "    vocabulary=list(vocab), mask_token=None)"
      ]
    },
    {
      "cell_type": "code",
      "execution_count": null,
      "metadata": {
        "id": "ZZKaoiq_mNy6"
      },
      "outputs": [],
      "source": [
        "chars_from_ids = tf.keras.layers.experimental.preprocessing.StringLookup(\n",
        "    vocabulary=ids_from_chars.get_vocabulary(), invert=True, mask_token=None)"
      ]
    },
    {
      "cell_type": "code",
      "execution_count": null,
      "metadata": {
        "id": "9cqTcKjzmNy6"
      },
      "outputs": [],
      "source": [
        "def text_from_ids(ids):\n",
        "  return tf.strings.reduce_join(chars_from_ids(ids), axis=-1)"
      ]
    },
    {
      "cell_type": "code",
      "execution_count": null,
      "metadata": {
        "colab": {
          "base_uri": "https://localhost:8080/"
        },
        "id": "zOok-IyPmNy7",
        "outputId": "45aed8b6-c820-46b5-e7f1-a0e7e6993a12"
      },
      "outputs": [
        {
          "output_type": "execute_result",
          "data": {
            "text/plain": [
              "<tf.Tensor: shape=(562000,), dtype=int64, numpy=array([36, 64, 51, ...,  1,  2,  1])>"
            ]
          },
          "metadata": {},
          "execution_count": 10
        }
      ],
      "source": [
        "all_ids = ids_from_chars(tf.strings.unicode_split(full_text_new, 'UTF-8'))\n",
        "all_ids"
      ]
    },
    {
      "cell_type": "code",
      "execution_count": null,
      "metadata": {
        "id": "7CG47Xt5mNy7"
      },
      "outputs": [],
      "source": [
        "ids_dataset = tf.data.Dataset.from_tensor_slices(all_ids)"
      ]
    },
    {
      "cell_type": "code",
      "execution_count": null,
      "metadata": {
        "colab": {
          "base_uri": "https://localhost:8080/"
        },
        "id": "ROrBTGDGmNy7",
        "outputId": "af5bbf08-798f-49e3-e1ef-ba772e13da68"
      },
      "outputs": [
        {
          "output_type": "stream",
          "name": "stdout",
          "text": [
            "P\n",
            "r\n",
            "e\n",
            "m\n",
            "i\n",
            "o\n",
            " \n",
            "a\n",
            "l\n",
            " \n"
          ]
        }
      ],
      "source": [
        "for ids in ids_dataset.take(10):\n",
        "    print(chars_from_ids(ids).numpy().decode('utf-8'))"
      ]
    },
    {
      "cell_type": "code",
      "execution_count": null,
      "metadata": {
        "id": "_TS2svQEmNy8"
      },
      "outputs": [],
      "source": [
        "seq_length = 1000\n",
        "examples_per_epoch = len(full_text_new)//(seq_length+1)"
      ]
    },
    {
      "cell_type": "code",
      "execution_count": null,
      "metadata": {
        "colab": {
          "base_uri": "https://localhost:8080/"
        },
        "id": "pp7R5twhmNy9",
        "outputId": "f966df6b-182e-451b-8c34-993f73fcd727"
      },
      "outputs": [
        {
          "output_type": "stream",
          "name": "stdout",
          "text": [
            "tf.Tensor([b'P' b'r' b'e' ... b'.' b' ' b'E'], shape=(1001,), dtype=string)\n"
          ]
        }
      ],
      "source": [
        "sequences = ids_dataset.batch(seq_length+1, drop_remainder=True)\n",
        "\n",
        "for seq in sequences.take(1):\n",
        "  print(chars_from_ids(seq))"
      ]
    },
    {
      "cell_type": "code",
      "execution_count": null,
      "metadata": {
        "colab": {
          "base_uri": "https://localhost:8080/"
        },
        "id": "GElYpDs6mNy9",
        "outputId": "2bc81bb7-3daa-4f0e-86ab-65098cb98167"
      },
      "outputs": [
        {
          "output_type": "stream",
          "name": "stdout",
          "text": [
            "b'Premio al esfuerzo Piero Quispe fue elegido como el mejor jugador de la Liga 1 2023:\\r\\nLuego de 10 a\\xc3\\xb1os de sequ\\xc3\\xada, Universitario form\\xc3\\xb3 un gran plantel para gritar campe\\xc3\\xb3n este 2023 y una de las piezas fundamentales de este equipo fue Piero Quispe, volante que a sus 23 a\\xc3\\xb1os fue clave para el elenco dirigido por Jorge Fossati, que se llev\\xc3\\xb3 el t\\xc3\\xadtulo ante su cl\\xc3\\xa1sico rival y este domingo reci\\xc3\\xa9n pudo recibir el trofeo. El volante crema aport\\xc3\\xb3 a su equipo con cuatro goles y dos asistencias, siendo muy influyente en el estilo de juego de Fossati, quien le imprimi\\xc3\\xb3 un gran juego en colectivo a su equipo, apoy\\xc3\\xa1ndolo en el mediocampo con jugadores como Rodrigo Ure\\xc3\\xb1a o Jos\\xc3\\xa9 P\\xc3\\xa9rez Guedes, que eran un respaldo para Quispe. Pierito tambi\\xc3\\xa9n destac\\xc3\\xb3 en la campa\\xc3\\xb1a de Universitario en la Sudamericana, en donde fue elegido en una oportunidad en el once ideal. Estas buenas actuaciones le valieron la convocatoria a la selecci\\xc3\\xb3n nacional dirigida por Juan Reynoso, aunque no ha debutado oficialmente todav\\xc3\\xada. E'\n",
            "b'n ese sentido, se espera que Quispe sea de consideraci\\xc3\\xb3n para Reynoso en los encuentros ante Bolivia y Venezuela, duelos que Per\\xc3\\xba necesita con urgencia ganar para salir del s\\xc3\\xb3tano de la tabla de las clasificatorias mundialistas 2026. Por otro lado, seg\\xc3\\xban el portal Trasnfermarkt, el volante crema de 23 a\\xc3\\xb1os tiene una valoraci\\xc3\\xb3n de mercado de 1 mill\\xc3\\xb3n de euros, siendo probable que cambie de aires y de el salto al extranjero tras sus buenas actuaciones en la liga local.\\r\\n\\r\\nA festejar crema as\\xc3\\xad fue la premiaci\\xc3\\xb3n de Universitario como campe\\xc3\\xb3n nacional 2023:\\r\\nEl equipo crema se dispone a dar la vuelta ol\\xc3\\xadmpica en el campo del coloso de Ate y los c\\xc3\\xa1nticos se escuchan desde las cuatro tribunas. Lleg\\xc3\\xb3 el momento. Jos\\xc3\\xa9 Carvallo recibe el trofeo de la Liga 1 y la levanta a los cielos y la hinchada crema lo celebra a lo grande. Es el t\\xc3\\xadtulo 27 para el elenco merengue que corta una sequ\\xc3\\xada que se extendi\\xc3\\xb3 por largos 10 a\\xc3\\xb1os. Todo es fiesta en el Monumental. Nelson Cabanillas, Jos\\xc3\\xa9 Rivera, Yuriel Celi'\n",
            "b', Andy Polo, Edison Flores, Alexander Succar, Alejandro Alcal\\xc3\\xa1 y Jos\\xc3\\xa9 Carvallo reciben sus medallas. Mat\\xc3\\xadas Di Benedetto, Roberto Siucho, Alex Valera, Mart\\xc3\\xadn P\\xc3\\xa9rez Guedes, Horacio Calcaterra y Diego Romero tambi\\xc3\\xa9n aparecen y reciben sus respectivas medallas. Piero Quispe, pieza clave en el esquema de Universitario, recibe su medalla de campe\\xc3\\xb3n, siendo uno de los m\\xc3\\xa1s ovacionados por la hinchada crema. Jos\\xc3\\xa9 Bol\\xc3\\xadvar, Williams Riveros, Rodrigo Ure\\xc3\\xb1a, Piero Guzm\\xc3\\xa1n, Marco Saravia, Luis Urruti y Emanuel Herrera son los primeros jugadores del plantel en recibir sus medallas por el t\\xc3\\xadtulo de la Liga 1. El entrenador uruguayo Jorge Fossati es ovacionado por el Monumental tras recibir la medalla. El t\\xc3\\xa9cnico fue fundamental para la remontada de Universitario. El administrado de Universitario, Jean Ferrari, es uno de los primeros en hacer su aparici\\xc3\\xb3n para recibir la medalla de premiaci\\xc3\\xb3n. Una gran marco se vive en el Monumental de Ate, en donde recibir\\xc3\\xa1n el trofeo de campe\\xc3\\xb3n nacional de esta tempor'\n",
            "b'ada. Previo a la premiaci\\xc3\\xb3n, Piero Alva, exjugador del cuadro crema, dio algunas palabras Lindo, ver ah\\xc3\\xad la imagen de la copa, con el nombre de la U escrito me hace recordar buenos momentos. Esto es hermoso, la gente solamente se queda con lo que ha sucedido en la final, pero no saben el esfuerzo que hay detr\\xc3\\xa1s. Hora de festejar. Luego de una d\\xc3\\xa9cada de sequ\\xc3\\xada, Universitario se proclam\\xc3\\xb3 campe\\xc3\\xb3n nacional al superar al cl\\xc3\\xa1sico rival, Alianza Lima, en Matute por un contundente 2-0, luego del empate en el recinto crema por 1-1. As\\xc3\\xad, los cremas aumentaron una estrella m\\xc3\\xa1s a su extenso palmar\\xc3\\xa9s. Cabe recordar que, lamentablemente, la premiaci\\xc3\\xb3n no pudo llevarse a cabo el mismo d\\xc3\\xada de la final el pasado 8 de noviembre, pues tras el pitazo final del encuentro, desde Alianza Lima se decidi\\xc3\\xb3 apagar las luces del estadio Alejandro Villanueva, por lo cual el trofeo tuvo que entregarse este fin de semana. Esta noticia dio la vuelta al mundo. Cabe recordar que la Comisi\\xc3\\xb3n Disciplinaria de la Federaci\\xc3\\xb3'\n",
            "b'n Peruana de F\\xc3\\xbatbol CD-FPF ya est\\xc3\\xa1 investigando lo ocurrido y seguramente pronto tendremos novedades en cuanto a sanciones.\\r\\n\\r\\n\\xc2\\xbfSe disculp\\xc3\\xb3 con Barcos? Flores Tienen que venir m\\xc3\\xa1s extranjeros como \\xc3\\xa9l:\\r\\nEn medio de las celebraciones por su nuevo t\\xc3\\xadtulo, los futbolistas de Universitario, liderados por Edison Flores, imitaron los festejos de Hern\\xc3\\xa1n Barcos y eso gener\\xc3\\xb3 cr\\xc3\\xadticas para un sector de hinchas. D\\xc3\\xadas despu\\xc3\\xa9s, por medio de los micros y las c\\xc3\\xa1maras de Tiempo Crema, el popular Orejas aprovech\\xc3\\xb3, a su manera, para disculparse con el Pirata reconociendo su jerarqu\\xc3\\xada, trayectoria y goles. Mis respetos para Hern\\xc3\\xa1n Barcos, porque es una persona profesional y lo ha demostrado. Est\\xc3\\xa1 vigente y extranjeros como \\xc3\\xa9l tienen que venir, declar\\xc3\\xb3 el habilidoso volante ante el malestar del delantero. Como se sabe, luego de ser imitado por los merengues, el m\\xc3\\xa1ximo artillero extranjero aliancista reposte\\xc3\\xb3 una imagen en su Instagram con la siguiente frase Los ni\\xc3\\xb1os quieren ser como sus h\\xc3\\xa9roes. Dilemas apa'\n"
          ]
        }
      ],
      "source": [
        "for seq in sequences.take(5):\n",
        "  print(text_from_ids(seq).numpy())"
      ]
    },
    {
      "cell_type": "code",
      "execution_count": null,
      "metadata": {
        "id": "nMQSFNn3mNy-"
      },
      "outputs": [],
      "source": [
        "def split_input_target(sequence):\n",
        "    input_text = sequence[:-1]\n",
        "    target_text = sequence[1:]\n",
        "    return input_text, target_text"
      ]
    },
    {
      "cell_type": "code",
      "execution_count": null,
      "metadata": {
        "id": "MmEMfqGmmNy-"
      },
      "outputs": [],
      "source": [
        "dataset = sequences.map(split_input_target)"
      ]
    },
    {
      "cell_type": "code",
      "execution_count": null,
      "metadata": {
        "colab": {
          "base_uri": "https://localhost:8080/"
        },
        "id": "Z2NOJIvWmNy-",
        "outputId": "8f342ac8-3bc3-4ee9-8356-8e049645615a"
      },
      "outputs": [
        {
          "output_type": "stream",
          "name": "stdout",
          "text": [
            "Input : b'Premio al esfuerzo Piero Quispe fue elegido como el mejor jugador de la Liga 1 2023:\\r\\nLuego de 10 a\\xc3\\xb1os de sequ\\xc3\\xada, Universitario form\\xc3\\xb3 un gran plantel para gritar campe\\xc3\\xb3n este 2023 y una de las piezas fundamentales de este equipo fue Piero Quispe, volante que a sus 23 a\\xc3\\xb1os fue clave para el elenco dirigido por Jorge Fossati, que se llev\\xc3\\xb3 el t\\xc3\\xadtulo ante su cl\\xc3\\xa1sico rival y este domingo reci\\xc3\\xa9n pudo recibir el trofeo. El volante crema aport\\xc3\\xb3 a su equipo con cuatro goles y dos asistencias, siendo muy influyente en el estilo de juego de Fossati, quien le imprimi\\xc3\\xb3 un gran juego en colectivo a su equipo, apoy\\xc3\\xa1ndolo en el mediocampo con jugadores como Rodrigo Ure\\xc3\\xb1a o Jos\\xc3\\xa9 P\\xc3\\xa9rez Guedes, que eran un respaldo para Quispe. Pierito tambi\\xc3\\xa9n destac\\xc3\\xb3 en la campa\\xc3\\xb1a de Universitario en la Sudamericana, en donde fue elegido en una oportunidad en el once ideal. Estas buenas actuaciones le valieron la convocatoria a la selecci\\xc3\\xb3n nacional dirigida por Juan Reynoso, aunque no ha debutado oficialmente todav\\xc3\\xada. '\n",
            "Target: b'remio al esfuerzo Piero Quispe fue elegido como el mejor jugador de la Liga 1 2023:\\r\\nLuego de 10 a\\xc3\\xb1os de sequ\\xc3\\xada, Universitario form\\xc3\\xb3 un gran plantel para gritar campe\\xc3\\xb3n este 2023 y una de las piezas fundamentales de este equipo fue Piero Quispe, volante que a sus 23 a\\xc3\\xb1os fue clave para el elenco dirigido por Jorge Fossati, que se llev\\xc3\\xb3 el t\\xc3\\xadtulo ante su cl\\xc3\\xa1sico rival y este domingo reci\\xc3\\xa9n pudo recibir el trofeo. El volante crema aport\\xc3\\xb3 a su equipo con cuatro goles y dos asistencias, siendo muy influyente en el estilo de juego de Fossati, quien le imprimi\\xc3\\xb3 un gran juego en colectivo a su equipo, apoy\\xc3\\xa1ndolo en el mediocampo con jugadores como Rodrigo Ure\\xc3\\xb1a o Jos\\xc3\\xa9 P\\xc3\\xa9rez Guedes, que eran un respaldo para Quispe. Pierito tambi\\xc3\\xa9n destac\\xc3\\xb3 en la campa\\xc3\\xb1a de Universitario en la Sudamericana, en donde fue elegido en una oportunidad en el once ideal. Estas buenas actuaciones le valieron la convocatoria a la selecci\\xc3\\xb3n nacional dirigida por Juan Reynoso, aunque no ha debutado oficialmente todav\\xc3\\xada. E'\n"
          ]
        }
      ],
      "source": [
        "for input_example, target_example in dataset.take(1):\n",
        "    print(\"Input :\", text_from_ids(input_example).numpy())\n",
        "    print(\"Target:\", text_from_ids(target_example).numpy())"
      ]
    },
    {
      "cell_type": "code",
      "execution_count": null,
      "metadata": {
        "colab": {
          "base_uri": "https://localhost:8080/"
        },
        "id": "cJKBUCBomNy_",
        "outputId": "7beb0b6d-0291-4597-f0bf-37effc57c96e"
      },
      "outputs": [
        {
          "output_type": "execute_result",
          "data": {
            "text/plain": [
              "<_PrefetchDataset element_spec=(TensorSpec(shape=(16, 1000), dtype=tf.int64, name=None), TensorSpec(shape=(16, 1000), dtype=tf.int64, name=None))>"
            ]
          },
          "metadata": {},
          "execution_count": 19
        }
      ],
      "source": [
        "# Batch size\n",
        "BATCH_SIZE = 16\n",
        "\n",
        "# Buffer size to shuffle the dataset\n",
        "# (TF data is designed to work with possibly infinite sequences,\n",
        "# so it doesn't attempt to shuffle the entire sequence in memory. Instead,\n",
        "# it maintains a buffer in which it shuffles elements).\n",
        "BUFFER_SIZE = 10000\n",
        "\n",
        "dataset = (\n",
        "    dataset\n",
        "    .shuffle(BUFFER_SIZE)\n",
        "    .batch(BATCH_SIZE, drop_remainder=True)\n",
        "    .prefetch(tf.data.experimental.AUTOTUNE))\n",
        "\n",
        "dataset"
      ]
    },
    {
      "cell_type": "code",
      "execution_count": null,
      "metadata": {
        "id": "S0oKb3esmNy_"
      },
      "outputs": [],
      "source": [
        "# Length of the vocabulary in chars\n",
        "vocab_size = len(vocab)\n",
        "\n",
        "# The embedding dimension\n",
        "embedding_dim = 256\n",
        "\n",
        "# Number of RNN units\n",
        "rnn_units = 1024"
      ]
    },
    {
      "cell_type": "code",
      "execution_count": null,
      "metadata": {
        "id": "iBD_JJtXmNzS"
      },
      "outputs": [],
      "source": [
        "class MyModel(tf.keras.Model):\n",
        "  def __init__(self, vocab_size, embedding_dim, rnn_units):\n",
        "    super().__init__(self)\n",
        "    self.embedding = tf.keras.layers.Embedding(vocab_size, embedding_dim)\n",
        "    self.gru = tf.keras.layers.GRU(rnn_units,\n",
        "                                   return_sequences=True,\n",
        "                                   return_state=True)\n",
        "    self.dense = tf.keras.layers.Dense(vocab_size)\n",
        "\n",
        "  def call(self, inputs, states=None, return_state=False, training=False):\n",
        "    x = inputs\n",
        "    x = self.embedding(x, training=training)\n",
        "    if states is None:\n",
        "      states = self.gru.get_initial_state(x)\n",
        "    x, states = self.gru(x, initial_state=states, training=training)\n",
        "    x = self.dense(x, training=training)\n",
        "\n",
        "    if return_state:\n",
        "      return x, states\n",
        "    else:\n",
        "      return x"
      ]
    },
    {
      "cell_type": "code",
      "execution_count": null,
      "metadata": {
        "id": "5rDbfct7mNzT"
      },
      "outputs": [],
      "source": [
        "model = MyModel(\n",
        "    # Be sure the vocabulary size matches the `StringLookup` layers.\n",
        "    vocab_size=len(ids_from_chars.get_vocabulary()),\n",
        "    embedding_dim=embedding_dim,\n",
        "    rnn_units=rnn_units)"
      ]
    },
    {
      "cell_type": "code",
      "execution_count": null,
      "metadata": {
        "colab": {
          "base_uri": "https://localhost:8080/"
        },
        "id": "nhNMHlWLmNzT",
        "outputId": "42a539aa-188c-4a1b-dca0-b1810fb0dd62"
      },
      "outputs": [
        {
          "output_type": "stream",
          "name": "stdout",
          "text": [
            "(16, 1000, 86) # (batch_size, sequence_length, vocab_size)\n"
          ]
        }
      ],
      "source": [
        "for input_example_batch, target_example_batch in dataset.take(1):\n",
        "    example_batch_predictions = model(input_example_batch)\n",
        "    print(example_batch_predictions.shape, \"# (batch_size, sequence_length, vocab_size)\")"
      ]
    },
    {
      "cell_type": "code",
      "execution_count": null,
      "metadata": {
        "colab": {
          "base_uri": "https://localhost:8080/"
        },
        "id": "S_wqvjr8mNzU",
        "outputId": "76aec820-12a0-46b6-9c74-420c0add0cd5"
      },
      "outputs": [
        {
          "output_type": "stream",
          "name": "stdout",
          "text": [
            "Model: \"my_model\"\n",
            "_________________________________________________________________\n",
            " Layer (type)                Output Shape              Param #   \n",
            "=================================================================\n",
            " embedding (Embedding)       multiple                  22016     \n",
            "                                                                 \n",
            " gru (GRU)                   multiple                  3938304   \n",
            "                                                                 \n",
            " dense (Dense)               multiple                  88150     \n",
            "                                                                 \n",
            "=================================================================\n",
            "Total params: 4048470 (15.44 MB)\n",
            "Trainable params: 4048470 (15.44 MB)\n",
            "Non-trainable params: 0 (0.00 Byte)\n",
            "_________________________________________________________________\n"
          ]
        }
      ],
      "source": [
        "model.summary()"
      ]
    },
    {
      "cell_type": "markdown",
      "metadata": {
        "id": "OH3bJje5mNzU"
      },
      "source": [
        "## Train the model"
      ]
    },
    {
      "cell_type": "code",
      "execution_count": null,
      "metadata": {
        "id": "JD_frTAymNzV"
      },
      "outputs": [],
      "source": [
        "loss = tf.losses.SparseCategoricalCrossentropy(from_logits=True)"
      ]
    },
    {
      "cell_type": "code",
      "execution_count": null,
      "metadata": {
        "id": "1bUg6fCYmNzV"
      },
      "outputs": [],
      "source": [
        "model.compile(optimizer='adam', loss=loss)"
      ]
    },
    {
      "cell_type": "code",
      "execution_count": null,
      "metadata": {
        "id": "8eOOGL5GmNzV"
      },
      "outputs": [],
      "source": [
        "# Directory where the checkpoints will be saved\n",
        "checkpoint_dir = './training_checkpoints'\n",
        "# Name of the checkpoint files\n",
        "checkpoint_prefix = os.path.join(checkpoint_dir, \"ckpt_{epoch}\")\n",
        "\n",
        "checkpoint_callback = tf.keras.callbacks.ModelCheckpoint(\n",
        "    filepath=checkpoint_prefix,\n",
        "    save_weights_only=True)"
      ]
    },
    {
      "cell_type": "code",
      "execution_count": null,
      "metadata": {
        "colab": {
          "base_uri": "https://localhost:8080/"
        },
        "id": "skERbXK5mNzW",
        "outputId": "5568958d-96f3-4e2c-f213-9208ba6e3d5e"
      },
      "outputs": [
        {
          "output_type": "stream",
          "name": "stdout",
          "text": [
            "Epoch 1/100\n",
            "35/35 [==============================] - 15s 314ms/step - loss: 3.5261\n",
            "Epoch 2/100\n",
            "35/35 [==============================] - 12s 321ms/step - loss: 2.6306\n",
            "Epoch 3/100\n",
            "35/35 [==============================] - 13s 343ms/step - loss: 2.3618\n",
            "Epoch 4/100\n",
            "35/35 [==============================] - 13s 356ms/step - loss: 2.2218\n",
            "Epoch 5/100\n",
            "35/35 [==============================] - 12s 341ms/step - loss: 2.0982\n",
            "Epoch 6/100\n",
            "35/35 [==============================] - 12s 328ms/step - loss: 1.9649\n",
            "Epoch 7/100\n",
            "35/35 [==============================] - 12s 324ms/step - loss: 1.8288\n",
            "Epoch 8/100\n",
            "35/35 [==============================] - 12s 327ms/step - loss: 1.7001\n",
            "Epoch 9/100\n",
            "35/35 [==============================] - 12s 330ms/step - loss: 1.5862\n",
            "Epoch 10/100\n",
            "35/35 [==============================] - 13s 352ms/step - loss: 1.4867\n",
            "Epoch 11/100\n",
            "35/35 [==============================] - 13s 349ms/step - loss: 1.4026\n",
            "Epoch 12/100\n",
            "35/35 [==============================] - 12s 323ms/step - loss: 1.3316\n",
            "Epoch 13/100\n",
            "35/35 [==============================] - 12s 331ms/step - loss: 1.2706\n",
            "Epoch 14/100\n",
            "35/35 [==============================] - 13s 338ms/step - loss: 1.2165\n",
            "Epoch 15/100\n",
            "35/35 [==============================] - 13s 339ms/step - loss: 1.1694\n",
            "Epoch 16/100\n",
            "35/35 [==============================] - 12s 337ms/step - loss: 1.1273\n",
            "Epoch 17/100\n",
            "35/35 [==============================] - 12s 324ms/step - loss: 1.0904\n",
            "Epoch 18/100\n",
            "35/35 [==============================] - 13s 342ms/step - loss: 1.0528\n",
            "Epoch 19/100\n",
            "35/35 [==============================] - 12s 340ms/step - loss: 1.0196\n",
            "Epoch 20/100\n",
            "35/35 [==============================] - 12s 341ms/step - loss: 0.9880\n",
            "Epoch 21/100\n",
            "35/35 [==============================] - 13s 336ms/step - loss: 0.9581\n",
            "Epoch 22/100\n",
            "35/35 [==============================] - 13s 332ms/step - loss: 0.9283\n",
            "Epoch 23/100\n",
            "35/35 [==============================] - 12s 329ms/step - loss: 0.8992\n",
            "Epoch 24/100\n",
            "35/35 [==============================] - 12s 327ms/step - loss: 0.8731\n",
            "Epoch 25/100\n",
            "35/35 [==============================] - 13s 346ms/step - loss: 0.8440\n",
            "Epoch 26/100\n",
            "35/35 [==============================] - 13s 349ms/step - loss: 0.8156\n",
            "Epoch 27/100\n",
            "35/35 [==============================] - 12s 325ms/step - loss: 0.7890\n",
            "Epoch 28/100\n",
            "35/35 [==============================] - 12s 332ms/step - loss: 0.7609\n",
            "Epoch 29/100\n",
            "35/35 [==============================] - 13s 336ms/step - loss: 0.7323\n",
            "Epoch 30/100\n",
            "35/35 [==============================] - 13s 336ms/step - loss: 0.7041\n",
            "Epoch 31/100\n",
            "35/35 [==============================] - 12s 335ms/step - loss: 0.6753\n",
            "Epoch 32/100\n",
            "35/35 [==============================] - 12s 334ms/step - loss: 0.6460\n",
            "Epoch 33/100\n",
            "35/35 [==============================] - 12s 325ms/step - loss: 0.6170\n",
            "Epoch 34/100\n",
            "35/35 [==============================] - 13s 341ms/step - loss: 0.5901\n",
            "Epoch 35/100\n",
            "35/35 [==============================] - 13s 353ms/step - loss: 0.5586\n",
            "Epoch 36/100\n",
            "35/35 [==============================] - 13s 343ms/step - loss: 0.5332\n",
            "Epoch 37/100\n",
            "35/35 [==============================] - 12s 320ms/step - loss: 0.5008\n",
            "Epoch 38/100\n",
            "35/35 [==============================] - 13s 333ms/step - loss: 0.4747\n",
            "Epoch 39/100\n",
            "35/35 [==============================] - 13s 352ms/step - loss: 0.4445\n",
            "Epoch 40/100\n",
            "35/35 [==============================] - 13s 352ms/step - loss: 0.4143\n",
            "Epoch 41/100\n",
            "35/35 [==============================] - 13s 334ms/step - loss: 0.3890\n",
            "Epoch 42/100\n",
            "35/35 [==============================] - 12s 327ms/step - loss: 0.3625\n",
            "Epoch 43/100\n",
            "35/35 [==============================] - 12s 320ms/step - loss: 0.3387\n",
            "Epoch 44/100\n",
            "35/35 [==============================] - 13s 342ms/step - loss: 0.3173\n",
            "Epoch 45/100\n",
            "35/35 [==============================] - 13s 347ms/step - loss: 0.2935\n",
            "Epoch 46/100\n",
            "35/35 [==============================] - 12s 332ms/step - loss: 0.2708\n",
            "Epoch 47/100\n",
            "35/35 [==============================] - 13s 334ms/step - loss: 0.2525\n",
            "Epoch 48/100\n",
            "35/35 [==============================] - 12s 336ms/step - loss: 0.2356\n",
            "Epoch 49/100\n",
            "35/35 [==============================] - 12s 336ms/step - loss: 0.2140\n",
            "Epoch 50/100\n",
            "35/35 [==============================] - 12s 337ms/step - loss: 0.2002\n",
            "Epoch 51/100\n",
            "35/35 [==============================] - 12s 327ms/step - loss: 0.1874\n",
            "Epoch 52/100\n",
            "35/35 [==============================] - 12s 341ms/step - loss: 0.1746\n",
            "Epoch 53/100\n",
            "35/35 [==============================] - 12s 332ms/step - loss: 0.1619\n",
            "Epoch 54/100\n",
            "35/35 [==============================] - 13s 336ms/step - loss: 0.1520\n",
            "Epoch 55/100\n",
            "35/35 [==============================] - 13s 343ms/step - loss: 0.1439\n",
            "Epoch 56/100\n",
            "35/35 [==============================] - 12s 340ms/step - loss: 0.1333\n",
            "Epoch 57/100\n",
            "35/35 [==============================] - 12s 325ms/step - loss: 0.1219\n",
            "Epoch 58/100\n",
            "35/35 [==============================] - 12s 335ms/step - loss: 0.1120\n",
            "Epoch 59/100\n",
            "35/35 [==============================] - 12s 333ms/step - loss: 0.1047\n",
            "Epoch 60/100\n",
            "35/35 [==============================] - 13s 346ms/step - loss: 0.0985\n",
            "Epoch 61/100\n",
            "35/35 [==============================] - 12s 328ms/step - loss: 0.0946\n",
            "Epoch 62/100\n",
            "35/35 [==============================] - 12s 340ms/step - loss: 0.0903\n",
            "Epoch 63/100\n",
            "35/35 [==============================] - 12s 327ms/step - loss: 0.0845\n",
            "Epoch 64/100\n",
            "35/35 [==============================] - 13s 345ms/step - loss: 0.0780\n",
            "Epoch 65/100\n",
            "35/35 [==============================] - 13s 344ms/step - loss: 0.0729\n",
            "Epoch 66/100\n",
            "35/35 [==============================] - 13s 334ms/step - loss: 0.0705\n",
            "Epoch 67/100\n",
            "35/35 [==============================] - 12s 329ms/step - loss: 0.0670\n",
            "Epoch 68/100\n",
            "35/35 [==============================] - 12s 329ms/step - loss: 0.0627\n",
            "Epoch 69/100\n",
            "35/35 [==============================] - 13s 333ms/step - loss: 0.0597\n",
            "Epoch 70/100\n",
            "35/35 [==============================] - 12s 331ms/step - loss: 0.0598\n",
            "Epoch 71/100\n",
            "35/35 [==============================] - 12s 341ms/step - loss: 0.0583\n",
            "Epoch 72/100\n",
            "35/35 [==============================] - 13s 343ms/step - loss: 0.0583\n",
            "Epoch 73/100\n",
            "35/35 [==============================] - 12s 328ms/step - loss: 0.0601\n",
            "Epoch 74/100\n",
            "35/35 [==============================] - 12s 338ms/step - loss: 0.0641\n",
            "Epoch 75/100\n",
            "35/35 [==============================] - 12s 341ms/step - loss: 0.0686\n",
            "Epoch 76/100\n",
            "35/35 [==============================] - 12s 329ms/step - loss: 0.0781\n",
            "Epoch 77/100\n",
            "35/35 [==============================] - 12s 341ms/step - loss: 0.0899\n",
            "Epoch 78/100\n",
            "35/35 [==============================] - 13s 341ms/step - loss: 0.1091\n",
            "Epoch 79/100\n",
            "35/35 [==============================] - 13s 337ms/step - loss: 0.1290\n",
            "Epoch 80/100\n",
            "35/35 [==============================] - 12s 327ms/step - loss: 0.1447\n",
            "Epoch 81/100\n",
            "35/35 [==============================] - 13s 342ms/step - loss: 0.1414\n",
            "Epoch 82/100\n",
            "35/35 [==============================] - 12s 330ms/step - loss: 0.1242\n",
            "Epoch 83/100\n",
            "35/35 [==============================] - 13s 343ms/step - loss: 0.1028\n",
            "Epoch 84/100\n",
            "35/35 [==============================] - 13s 338ms/step - loss: 0.0839\n",
            "Epoch 85/100\n",
            "35/35 [==============================] - 12s 328ms/step - loss: 0.0647\n",
            "Epoch 86/100\n",
            "35/35 [==============================] - 13s 341ms/step - loss: 0.0490\n",
            "Epoch 87/100\n",
            "35/35 [==============================] - 12s 331ms/step - loss: 0.0361\n",
            "Epoch 88/100\n",
            "35/35 [==============================] - 13s 345ms/step - loss: 0.0281\n",
            "Epoch 89/100\n",
            "35/35 [==============================] - 13s 337ms/step - loss: 0.0232\n",
            "Epoch 90/100\n",
            "35/35 [==============================] - 12s 332ms/step - loss: 0.0198\n",
            "Epoch 91/100\n",
            "35/35 [==============================] - 12s 330ms/step - loss: 0.0175\n",
            "Epoch 92/100\n",
            "35/35 [==============================] - 12s 330ms/step - loss: 0.0157\n",
            "Epoch 93/100\n",
            "35/35 [==============================] - 13s 332ms/step - loss: 0.0144\n",
            "Epoch 94/100\n",
            "35/35 [==============================] - 12s 335ms/step - loss: 0.0139\n",
            "Epoch 95/100\n",
            "35/35 [==============================] - 12s 336ms/step - loss: 0.0129\n",
            "Epoch 96/100\n",
            "35/35 [==============================] - 13s 337ms/step - loss: 0.0122\n",
            "Epoch 97/100\n",
            "35/35 [==============================] - 12s 327ms/step - loss: 0.0115\n",
            "Epoch 98/100\n",
            "35/35 [==============================] - 12s 335ms/step - loss: 0.0113\n",
            "Epoch 99/100\n",
            "35/35 [==============================] - 13s 348ms/step - loss: 0.0111\n",
            "Epoch 100/100\n",
            "35/35 [==============================] - 13s 343ms/step - loss: 0.0110\n"
          ]
        }
      ],
      "source": [
        "history = model.fit(dataset, epochs=100, callbacks=[checkpoint_callback])"
      ]
    },
    {
      "cell_type": "markdown",
      "source": [
        "## Inference"
      ],
      "metadata": {
        "id": "RoMRv82Bykct"
      }
    },
    {
      "cell_type": "code",
      "execution_count": null,
      "metadata": {
        "id": "uF0Hu1sVmNzW"
      },
      "outputs": [],
      "source": [
        "class OneStep(tf.keras.Model):\n",
        "  def __init__(self, model, chars_from_ids, ids_from_chars, temperature=1.0):\n",
        "    super().__init__()\n",
        "    self.temperature = temperature\n",
        "    self.model = model\n",
        "    self.chars_from_ids = chars_from_ids\n",
        "    self.ids_from_chars = ids_from_chars\n",
        "\n",
        "    # Create a mask to prevent \"[UNK]\" from being generated.\n",
        "    skip_ids = self.ids_from_chars(['[UNK]'])[:, None]\n",
        "    sparse_mask = tf.SparseTensor(\n",
        "        # Put a -inf at each bad index.\n",
        "        values=[-float('inf')]*len(skip_ids),\n",
        "        indices=skip_ids,\n",
        "        # Match the shape to the vocabulary\n",
        "        dense_shape=[len(ids_from_chars.get_vocabulary())])\n",
        "    self.prediction_mask = tf.sparse.to_dense(sparse_mask)\n",
        "\n",
        "  @tf.function\n",
        "  def generate_one_step(self, inputs, states=None):\n",
        "    # Convert strings to token IDs.\n",
        "    input_chars = tf.strings.unicode_split(inputs, 'UTF-8')\n",
        "    input_ids = self.ids_from_chars(input_chars).to_tensor()\n",
        "\n",
        "    # Run the model.\n",
        "    # predicted_logits.shape is [batch, char, next_char_logits]\n",
        "    predicted_logits, states = self.model(inputs=input_ids, states=states,\n",
        "                                          return_state=True)\n",
        "    # Only use the last prediction.\n",
        "    predicted_logits = predicted_logits[:, -1, :]\n",
        "    predicted_logits = predicted_logits/self.temperature\n",
        "    # Apply the prediction mask: prevent \"[UNK]\" from being generated.\n",
        "    predicted_logits = predicted_logits + self.prediction_mask\n",
        "\n",
        "    # Sample the output logits to generate token IDs.\n",
        "    predicted_ids = tf.random.categorical(predicted_logits, num_samples=1)\n",
        "    predicted_ids = tf.squeeze(predicted_ids, axis=-1)\n",
        "\n",
        "    # Convert from token ids to characters\n",
        "    predicted_chars = self.chars_from_ids(predicted_ids)\n",
        "\n",
        "    # Return the characters and model state.\n",
        "    return predicted_chars, states"
      ]
    },
    {
      "cell_type": "code",
      "execution_count": null,
      "metadata": {
        "id": "w2s9j0yumNzX"
      },
      "outputs": [],
      "source": [
        "one_step_model = OneStep(model, chars_from_ids, ids_from_chars)"
      ]
    },
    {
      "cell_type": "code",
      "execution_count": null,
      "metadata": {
        "colab": {
          "base_uri": "https://localhost:8080/"
        },
        "id": "_8z7LIN3mNzX",
        "outputId": "eb393393-2f32-4586-89c6-191552ab2bcb"
      },
      "outputs": [
        {
          "output_type": "stream",
          "name": "stdout",
          "text": [
            "Universitario ganó la final:\r\n",
            "La festeja de Universitario de Deportes a los 94 minutos del partido y generó la alegría no solo de sus hinchas, sino también del apostador más suertudo del domindo después de 10 años y ante su clásico rival, pero no solo eso, sino también por el jugoso premio que recibirá hoy en el Monumental. Los jugadores de Universitario de Deportes fueron ampayados bebiendo alcohol a altas horas de la madrugada, pero esto fue algo que el administrador crema, Jean Ferrari, minimizó y que, inclusive, deslizó que podría ser para desconcentrarlos de lo deportivo. Esa clase de situaciones ampays la señal de Liga 1 MAX y DirecTV Sports.\r\n",
            "\r\n",
            "¡Alianza va con todo! Barcos Sería lindo ser tricampeón en el Monumental:\r\n",
            "Alianza Lima aún no define si comenzará como local o no en las finales por el título de la Liga 1 de esta temporada, pero para Hernán Barcos, ser tricampeón en el Monumental no se compara a nada. Así lo dejó en claro el popular Pirata al ser consultado por los reporteros del canal oficial del \n",
            "\n",
            "________________________________________________________________________________\n",
            "\n",
            "Run time: 3.935724973678589\n"
          ]
        }
      ],
      "source": [
        "start = time.time()\n",
        "states = None\n",
        "next_char = tf.constant(['Universitario ganó la final:'])\n",
        "result = [next_char]\n",
        "\n",
        "for n in range(1000):\n",
        "  next_char, states = one_step_model.generate_one_step(next_char, states=states)\n",
        "  result.append(next_char)\n",
        "\n",
        "result = tf.strings.join(result)\n",
        "end = time.time()\n",
        "print(result[0].numpy().decode('utf-8'), '\\n\\n' + '_'*80)\n",
        "print('\\nRun time:', end - start)"
      ]
    },
    {
      "cell_type": "code",
      "source": [
        "start = time.time()\n",
        "states = None\n",
        "next_char = tf.constant(['Alianza apagó las luces del estadio'])\n",
        "result = [next_char]\n",
        "\n",
        "for n in range(1000):\n",
        "  next_char, states = one_step_model.generate_one_step(next_char, states=states)\n",
        "  result.append(next_char)\n",
        "\n",
        "result = tf.strings.join(result)\n",
        "end = time.time()\n",
        "print(result[0].numpy().decode('utf-8'), '\\n\\n' + '_'*80)\n",
        "print('\\nRun time:', end - start)"
      ],
      "metadata": {
        "colab": {
          "base_uri": "https://localhost:8080/"
        },
        "id": "eIwSqyfztJ_V",
        "outputId": "ff2ad650-ebc3-4490-f7c1-67d945bfa58e"
      },
      "execution_count": null,
      "outputs": [
        {
          "output_type": "stream",
          "name": "stdout",
          "text": [
            "Alianza apagó las luces del estadio Alejandro Villanueva se apagaron poniendo en riesgo a todos los presentes ¿Acaso nunca nos vamos a respetar mutuamente?.\r\n",
            "\r\n",
            "¿Llega a los partidos de la Selección? Zambrano en el Plama para él, y Caraga y su contrato con el Sublete goleada 3-0 a Cantolao en el Alejandro Villanueva 89  Acabó la polemiciar Y GUnio Binacional Diego Ottás la oportunidad de gol para Alianza Lima. Costa remata, pero Barrios ADT despeja. 79  Ocasión clara para ADT que queda invalidada por posición adelantada de Perlaza. 78  Cambio en ADT Sale Pósito y entra Agero. 78  Cambio en Alianza Lima Sale Reyna y entra Soyer. 78  Remate de larga distancia de Mimbela ADT que Campos Alianza Lima ataja fácilmente. 77  ¡Uuuuf! Media vuelta de Barcos Alianza Lima y fuerte remate para intentar abrir el marcador, pero el balón sale del campo de juego. 46  Gran jugada colectiva de Costa 8  FC desde llega, Roda gosparos y cabeza de larga distancia, pero José Carvallo controla sin problemas. 15  CASO de Paraguay, Clárico Gimiera \n",
            "\n",
            "________________________________________________________________________________\n",
            "\n",
            "Run time: 3.6248767375946045\n"
          ]
        }
      ]
    },
    {
      "cell_type": "code",
      "source": [
        "start = time.time()\n",
        "states = None\n",
        "next_char = tf.constant(['Universitario se enfrenta a Sporting Cristal el domingo'])\n",
        "result = [next_char]\n",
        "\n",
        "for n in range(1000):\n",
        "  next_char, states = one_step_model.generate_one_step(next_char, states=states)\n",
        "  result.append(next_char)\n",
        "\n",
        "result = tf.strings.join(result)\n",
        "end = time.time()\n",
        "print(result[0].numpy().decode('utf-8'), '\\n\\n' + '_'*80)\n",
        "print('\\nRun time:', end - start)"
      ],
      "metadata": {
        "colab": {
          "base_uri": "https://localhost:8080/"
        },
        "id": "DEl2LM1Zt8Z6",
        "outputId": "aaebcfb1-d2fc-45a9-8a5f-b7f062699321"
      },
      "execution_count": null,
      "outputs": [
        {
          "output_type": "stream",
          "name": "stdout",
          "text": [
            "Universitario se enfrenta a Sporting Cristal el domingo 16 de abril a las 0400 de la tarde en el estadio Alberto Gallardo por la fecha 4 del Torneo Clausura. Este encuentro será administrado por el árbitro Michael Espinoza en el campo y por el juez Jonathan Zamora interpretando todas las imágenes del partido desde la sala del VAR. La Liga 1 Max será la encargada de hacer llegar la señal del enfrentamiento entre Sporting Cristal y Carlos A. Mannucci a todos los peruanos por medio de los canales 11 y 610 de Bestcable y DirecTV, respectivamente o por la web oficial del torneo.\r\n",
            "\r\n",
            "No se rinden Sporting Cristal volteó el partido y le ganó 1-2 a Sport Huancayo:\r\n",
            "A ocho puntos de dicho sería peruano. Así lo h, experiencia y se empató e han seis del campeonato peruano se dejó ver por los hinchas en una fotografía durante el festejo de sus amigos y futbolistas. Como se recuerda, el nacido en Tarapoto dejó a los de Ate a fines del 2016, pero hoy podría volver después de ocho años. Así es, el marcador de punta E3 En Perú, Reyna, Andy Polo, Aldo Corzo \n",
            "\n",
            "________________________________________________________________________________\n",
            "\n",
            "Run time: 5.010802745819092\n"
          ]
        }
      ]
    },
    {
      "cell_type": "code",
      "source": [
        "start = time.time()\n",
        "states = None\n",
        "next_char = tf.constant(['Todo está listo para la final'])\n",
        "result = [next_char]\n",
        "\n",
        "for n in range(1000):\n",
        "  next_char, states = one_step_model.generate_one_step(next_char, states=states)\n",
        "  result.append(next_char)\n",
        "\n",
        "result = tf.strings.join(result)\n",
        "end = time.time()\n",
        "print(result[0].numpy().decode('utf-8'), '\\n\\n' + '_'*80)\n",
        "print('\\nRun time:', end - start)"
      ],
      "metadata": {
        "colab": {
          "base_uri": "https://localhost:8080/"
        },
        "id": "HWRRvtWeui0l",
        "outputId": "7e5f670e-de8c-46b1-955b-acb503984675"
      },
      "execution_count": null,
      "outputs": [
        {
          "output_type": "stream",
          "name": "stdout",
          "text": [
            "Todo está listo para la final de la Liga 1, este emotivo corte audiovisual se ha convertido en un símbolo de la pasión que despierta el fútbol en el Perú y cómo puede unir a las personas en torno a algo más grande que el deporte en sí. Los aficionados de Alianza Lima y Universitario, así como todos los peruanos, se preparan para una final inolvidable, y este video es el preludio perfecto para el partido más emocionante del año.\r\n",
            "\r\n",
            "Alianza Lima recuerda a Comisión Disciplinaria el insulto de Alex Valera a árbitro y pide sanción:\r\n",
            "Luego de que Universitario solicite una sanción contra Ángelo Campos, portero de Alianza Lima, salió con una bandera blanquiazul a causa de una lesión. Un esguince en el tobillo, que arrastra hace tres semanas, lo dejaría al margen de la plantilla victoriana, por lo cual el técnico Guillermo Salas estaría pensando en un recambio para la posición de los 3 penieron el mamentán además de su liderate el ataque fue convinún contra un campo del Apertura y, hostaga de resueta que ha mucha ganado  \n",
            "\n",
            "________________________________________________________________________________\n",
            "\n",
            "Run time: 3.3663740158081055\n"
          ]
        }
      ]
    }
  ],
  "metadata": {
    "kernelspec": {
      "display_name": "Python 3",
      "name": "python3"
    },
    "language_info": {
      "codemirror_mode": {
        "name": "ipython",
        "version": 3
      },
      "file_extension": ".py",
      "mimetype": "text/x-python",
      "name": "python",
      "nbconvert_exporter": "python",
      "pygments_lexer": "ipython3",
      "version": "3.10.13"
    },
    "colab": {
      "provenance": [],
      "gpuType": "T4",
      "include_colab_link": true
    },
    "accelerator": "GPU"
  },
  "nbformat": 4,
  "nbformat_minor": 0
}